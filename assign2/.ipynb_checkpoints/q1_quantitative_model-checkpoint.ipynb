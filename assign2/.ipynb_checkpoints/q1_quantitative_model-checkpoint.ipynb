{
 "cells": [
  {
   "cell_type": "code",
   "execution_count": 2,
   "id": "legal-ability",
   "metadata": {},
   "outputs": [],
   "source": [
    "using Plots, Colors, DataFrames, CSV\n",
    "\n",
    "cd(\"/Users/junwong/Dropbox/Second Year/Dingel - Trade/Assignments\")"
   ]
  },
  {
   "cell_type": "markdown",
   "id": "elementary-calgary",
   "metadata": {},
   "source": [
    "# Quantitative Model"
   ]
  },
  {
   "cell_type": "markdown",
   "id": "reasonable-alabama",
   "metadata": {},
   "source": [
    "## Calibrating $X_{ni}$"
   ]
  },
  {
   "cell_type": "code",
   "execution_count": 19,
   "id": "applied-effort",
   "metadata": {
    "scrolled": true
   },
   "outputs": [],
   "source": [
    "X⁰ₙᵢ = DataFrame(CSV.File(\"data/bilateral_trade_country/bilateral_trade_country.csv\"))\n",
    "\n",
    "# Sum over n and i's\n",
    "imp⁰ = combine(groupby(X⁰ₙᵢ, :country_org), :trade_flow2014 => sum);\n",
    "rename!(imp⁰, [:country, :imports])\n",
    "exp⁰ = combine(groupby(X⁰ₙᵢ, :country_dest), :trade_flow2014 => sum);\n",
    "rename!(exp⁰, [:country, :exports])\n",
    "\n",
    "df = leftjoin(imp⁰, exp⁰, on=:country);\n",
    "transform!(df, [:exports,:imports] => (./) => :yn);"
   ]
  },
  {
   "cell_type": "code",
   "execution_count": null,
   "id": "marine-mainstream",
   "metadata": {},
   "outputs": [],
   "source": [
    "# Need a few more items\n"
   ]
  },
  {
   "cell_type": "markdown",
   "id": "upper-blend",
   "metadata": {},
   "source": [
    "## Impact of a 10% increase in Chinese productivity"
   ]
  },
  {
   "cell_type": "code",
   "execution_count": null,
   "id": "initial-shepherd",
   "metadata": {},
   "outputs": [],
   "source": []
  }
 ],
 "metadata": {
  "kernelspec": {
   "display_name": "Julia 1.6.4",
   "language": "julia",
   "name": "julia-1.6"
  },
  "language_info": {
   "file_extension": ".jl",
   "mimetype": "application/julia",
   "name": "julia",
   "version": "1.6.4"
  }
 },
 "nbformat": 4,
 "nbformat_minor": 5
}
