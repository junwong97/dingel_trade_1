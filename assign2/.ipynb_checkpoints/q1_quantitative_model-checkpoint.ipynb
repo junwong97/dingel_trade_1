{
 "cells": [
  {
   "cell_type": "code",
   "execution_count": 140,
   "id": "legal-ability",
   "metadata": {},
   "outputs": [],
   "source": [
    "using Plots, Colors, DataFrames, CSV, GLM, RegressionTables\n",
    "\n",
    "cd(\"/Users/junwong/Dropbox/Second Year/Dingel - Trade/Assignments\")"
   ]
  },
  {
   "cell_type": "markdown",
   "id": "elementary-calgary",
   "metadata": {},
   "source": [
    "# Quantitative Model"
   ]
  },
  {
   "cell_type": "markdown",
   "id": "reasonable-alabama",
   "metadata": {},
   "source": [
    "## Calibrating $X_{ni}$"
   ]
  },
  {
   "cell_type": "code",
   "execution_count": 141,
   "id": "unavailable-diana",
   "metadata": {},
   "outputs": [],
   "source": [
    "df = DataFrame(CSV.File(\"data/bilateral_trade_country/bilateral_trade_country.csv\"))\n",
    "\n",
    "Xₙᵢ⁰ = unstack(df, :country_dest, :country_org, :trade_flow2014)\n",
    "Xₙᵢ⁰ = Array(Xₙᵢ⁰[!,2:43])\n",
    "\n",
    "exp⁰ = combine(groupby(df, :country_org), :trade_flow2014 => sum, renamecols=false);\n",
    "imp⁰ = combine(groupby(df, :country_dest), :trade_flow2014 => sum, renamecols=false);\n",
    "rename!(imp⁰, :trade_flow2014 => :imports)\n",
    "yₙ = exp⁰[!,2] ./ imp⁰[!,2];\n",
    "\n",
    "df = leftjoin(df, imp⁰, on=:country_dest);\n",
    "transform!(df, [:trade_flow2014, :imports] => (./) => :pi_ni);\n",
    "πₙᵢ = unstack(df, :country_dest, :country_org, :pi_ni);\n",
    "πₙᵢ = Array(πₙᵢ[!, 2:43]);"
   ]
  },
  {
   "cell_type": "markdown",
   "id": "upper-blend",
   "metadata": {},
   "source": [
    "## Impact of a 10% increase in Chinese productivity"
   ]
  },
  {
   "cell_type": "code",
   "execution_count": 142,
   "id": "initial-shepherd",
   "metadata": {
    "scrolled": true
   },
   "outputs": [
    {
     "data": {
      "text/plain": [
       "0.01"
      ]
     },
     "execution_count": 142,
     "metadata": {},
     "output_type": "execute_result"
    }
   ],
   "source": [
    "# Setting T̂ₙᵢ\n",
    "T̂ₙᵢ = ones(42,1);\n",
    "T̂ₙᵢ[8] = 1.1;\n",
    "θ = 4;\n",
    "\n",
    "# Initialize vectors\n",
    "ŵ = ones(42, 1);\n",
    "\n",
    "# Transfer numeraire\n",
    "h(w) = w[end]\n",
    "\n",
    "# Parameters\n",
    "tol = 1e-10\n",
    "κ=0.01"
   ]
  },
  {
   "cell_type": "code",
   "execution_count": 143,
   "id": "assigned-calendar",
   "metadata": {
    "scrolled": true
   },
   "outputs": [
    {
     "data": {
      "text/plain": [
       "#37 (generic function with 1 method)"
      ]
     },
     "execution_count": 143,
     "metadata": {},
     "output_type": "execute_result"
    }
   ],
   "source": [
    "# Excess demand function \n",
    "excess_demand = function(ŵ, Xₙᵢ⁰, T̂, πₙᵢ, yₙ, θ, w0)\n",
    "    # get the denominator that is by n\n",
    "    dni = zeros(length(T̂), length(T̂))  \n",
    "    for i = 1:size(Xₙᵢ⁰, 2)\n",
    "        for n = 1:size(Xₙᵢ⁰, 1)\n",
    "            dni[n, i] = πₙᵢ[n, i] .* T̂[i] .* (ŵ[i] .^ (-θ))\n",
    "        end\n",
    "    end \n",
    "    \n",
    "    # get the rest of the calculations\n",
    "    res_i = zeros(length(T̂), 1)\n",
    "    for i = 1:size(Xₙᵢ⁰, 2)\n",
    "        res_by_n = zeros(length(T̂), 1)\n",
    "        denom_i = sum(Xₙᵢ⁰[:,i])\n",
    "        for n = 1:size(Xₙᵢ⁰, 1)\n",
    "            num_ni = Xₙᵢ⁰[n, i] * T̂[i] * ((ŵ[i]) ^ (-θ))\n",
    "            num_n = yₙ[n] .* ŵ[n] .+ (1 .- yₙ[n]) .* h(w0 .* ŵ) ./ h(w0)\n",
    "            denom_n = sum(dni[n, :])\n",
    "            res_by_n[n] = num_n * num_ni / denom_i / denom_n\n",
    "        end\n",
    "        res_i[i] = sum(res_by_n) - ŵ[i]\n",
    "    end\n",
    "    \n",
    "    return res_i\n",
    "end "
   ]
  },
  {
   "cell_type": "code",
   "execution_count": 144,
   "id": "liked-barcelona",
   "metadata": {},
   "outputs": [
    {
     "data": {
      "text/plain": [
       "#39 (generic function with 1 method)"
      ]
     },
     "execution_count": 144,
     "metadata": {},
     "output_type": "execute_result"
    }
   ],
   "source": [
    "# Iterating wrapper\n",
    "iterating_fn = function(ŵ, Xₙᵢ⁰, T̂, πₙᵢ, yₙ, θ, w0, tol, κ) \n",
    "    zᵢ = ones(length(T̂))\n",
    "    \n",
    "    while maximum(abs.(zᵢ)) > tol\n",
    "        #iter +=1\n",
    "        zᵢ = excess_demand(ŵ, Xₙᵢ⁰, T̂, πₙᵢ, yₙ, θ, w0) \n",
    "        ŵ = ŵ .+ κ .* zᵢ\n",
    "        ŵ[end] = 1\n",
    "    end \n",
    "    \n",
    "    return [ŵ, zᵢ]\n",
    "end     "
   ]
  },
  {
   "cell_type": "code",
   "execution_count": 145,
   "id": "specified-original",
   "metadata": {},
   "outputs": [
    {
     "data": {
      "text/plain": [
       "2-element Vector{Matrix{Float64}}:\n",
       " [1.0003551063453036; 1.0001388093848207; … ; 1.0005777579017796; 1.0]\n",
       " [2.5399460312769406e-11; 2.4520385721871207e-11; … ; 2.3367086043890595e-11; -9.988654348092041e-11]"
      ]
     },
     "execution_count": 145,
     "metadata": {},
     "output_type": "execute_result"
    }
   ],
   "source": [
    "# Run function\n",
    "x = iterating_fn(ones(42, 1), Xₙᵢ⁰, T̂ₙᵢ, πₙᵢ, yₙ, θ, ones(42,1), tol, κ)"
   ]
  },
  {
   "cell_type": "markdown",
   "id": "understanding-hepatitis",
   "metadata": {},
   "source": [
    "## Changes in Real Wage and Expenditures"
   ]
  },
  {
   "cell_type": "markdown",
   "id": "median-watershed",
   "metadata": {},
   "source": [
    "Construct terms"
   ]
  },
  {
   "cell_type": "code",
   "execution_count": 146,
   "id": "partial-greene",
   "metadata": {
    "scrolled": true
   },
   "outputs": [],
   "source": [
    "Φ̂ₙ = zeros(42)\n",
    "ni = zeros(42, 42)\n",
    "for n=1:42\n",
    "    for i=1:42\n",
    "        ni[n, i] = T̂ₙᵢ[n] * πₙᵢ[n,i] * (x[1][i]^(-θ)) # add T in here \n",
    "    end\n",
    "    Φ̂ₙ[n] = sum(ni[n, :])\n",
    "end\n",
    "\n",
    "# New CES price index\n",
    "P̂ₙ = (Φ̂ₙ).^(-1/θ);\n",
    "\n",
    "# Real wage\n",
    "ω̂ = x[1] ./ P̂ₙ\n",
    "\n",
    "# Share of spending of n on i \n",
    "π̂ₙᵢ = zeros(42, 42)\n",
    "dₙᵢ = ones(42, 42)\n",
    "for n = 1:size(dₙᵢ, 1)\n",
    "    for i = 1:size(dₙᵢ, 2) \n",
    "        π̂ₙᵢ[n, i] = T̂ₙᵢ[i] * (dₙᵢ[n, i] * x[1][i])^(-θ) / Φ̂ₙ[n]\n",
    "    end\n",
    "end\n",
    "\n",
    "# Change in domestic trade share \n",
    "π̂ₙₙ = T̂ₙᵢ .* (x[1] ./ P̂ₙ).^(-θ)\n",
    "\n",
    "# New expenditures\n",
    "X̂ₙ = x[1] #.+ h(x[1])\n",
    "Χ̂ₙ = X̂ₙ ./ P̂ₙ;"
   ]
  },
  {
   "cell_type": "code",
   "execution_count": 147,
   "id": "ongoing-building",
   "metadata": {},
   "outputs": [],
   "source": [
    "# Plot results by country\n",
    "cntry = CSV.File(\"data/bilateral_trade_country/country_list.csv\") |> Tables.matrix\n",
    "bar(cntry, (ω̂ .- 1)* 100, ylabel=\"Percent change in real wages\", legend=false)\n",
    "savefig(\"output/q1_tfp_shock_real_wages.pdf\")\n",
    "bar(cntry, (Χ̂ₙ .- 1) * 100, ylabel = \"Percent change in real expenditures\", legend=false)\n",
    "savefig(\"output/q1_tfp_shock_real_exp.pdf\")"
   ]
  },
  {
   "cell_type": "markdown",
   "id": "supported-certificate",
   "metadata": {},
   "source": [
    "Regressions"
   ]
  },
  {
   "cell_type": "code",
   "execution_count": 148,
   "id": "likely-bangkok",
   "metadata": {},
   "outputs": [],
   "source": [
    "reg_data = hcat(log.(ω̂), log.(Χ̂ₙ), log.(Φ̂ₙ),  log.(π̂ₙₙ), πₙᵢ[:,8])\n",
    "reg_data = DataFrame(reg_data, :auto)\n",
    "rename!(reg_data, [:real_wage, :real_exp, :market_acc, :domestic_share, :initial_chn]);\n",
    "dict = Dict(\"real_wage\"=> \"Real Wages\", \"real_exp\" => \"Real Expenditures\", \"market_acc\" => \"Market Access\", \"domestic_share\" => \"Domestic Share\", \"initial_chn\" => \"Initial CHN Share\");\n"
   ]
  },
  {
   "cell_type": "code",
   "execution_count": 149,
   "id": "trained-tooth",
   "metadata": {},
   "outputs": [],
   "source": [
    "r1 = lm(@formula(real_wage ~ market_acc + domestic_share + initial_chn), reg_data)\n",
    "r2 = lm(@formula(real_exp ~ market_acc + domestic_share + initial_chn), reg_data)\n",
    "regtable(r1,r2; renderSettings = latexOutput(\"output/q1_regression.tex\"), \n",
    "        labels = dict, print_estimator_section = false)\n"
   ]
  },
  {
   "cell_type": "markdown",
   "id": "painted-international",
   "metadata": {},
   "source": [
    "## Changing numeraire"
   ]
  },
  {
   "cell_type": "code",
   "execution_count": 137,
   "id": "psychological-relation",
   "metadata": {},
   "outputs": [
    {
     "data": {
      "text/plain": [
       "2-element Vector{Matrix{Float64}}:\n",
       " [0.9998698058580759; 0.998996848794946; … ; 0.9996290712580896; 1.0]\n",
       " [2.5781043966333073e-11; 2.388322872803883e-11; … ; 2.300626356088742e-11; -9.995781979910134e-11]"
      ]
     },
     "execution_count": 137,
     "metadata": {},
     "output_type": "execute_result"
    }
   ],
   "source": [
    "# Transfer numeraire\n",
    "h(w) = w[8] # china is now transfer numeraire \n",
    "x = iterating_fn(ones(42, 1), Xₙᵢ⁰, T̂ₙᵢ, πₙᵢ, yₙ, θ, ones(42,1), tol, κ)"
   ]
  },
  {
   "cell_type": "code",
   "execution_count": 138,
   "id": "premier-freight",
   "metadata": {},
   "outputs": [],
   "source": [
    "Φ̂ₙ = zeros(42)\n",
    "ni = zeros(42, 42)\n",
    "for n=1:42\n",
    "    for i=1:42\n",
    "        ni[n, i] = T̂ₙᵢ[n] * πₙᵢ[n,i] * (x[1][i]^(-θ))\n",
    "    end\n",
    "    Φ̂ₙ[n] = sum(ni[n, :])\n",
    "end\n",
    "\n",
    "# New CES price index\n",
    "P̂ₙ = (Φ̂ₙ).^(-1/θ);\n",
    "\n",
    "# Real wage\n",
    "ω̂ = x[1] ./ P̂ₙ\n",
    "\n",
    "# Share of spending of n on i \n",
    "π̂ₙᵢ = zeros(42, 42)\n",
    "dₙᵢ = ones(42, 42)\n",
    "for n = 1:size(dₙᵢ, 1)\n",
    "    for i = 1:size(dₙᵢ, 2) \n",
    "        π̂ₙᵢ[n, i] = T̂ₙᵢ[i] * (dₙᵢ[n, i] * x[1][i])^(-θ) / Φ̂ₙ[n]\n",
    "    end\n",
    "end\n",
    "\n",
    "# Change in domestic trade share \n",
    "π̂ₙₙ = T̂ₙᵢ .* (x[1] ./ P̂ₙ).^(-θ)\n",
    "\n",
    "# New expenditures\n",
    "X̂ₙ = x[1] #.+ h(x[1]);\n",
    "Χ̂ₙ = X̂ₙ ./ P̂ₙ ;"
   ]
  },
  {
   "cell_type": "code",
   "execution_count": 139,
   "id": "worst-parameter",
   "metadata": {},
   "outputs": [],
   "source": [
    "bar(cntry, (ω̂ .- 1)* 100, ylabel=\"Percent change in real wages\", legend=false)\n",
    "savefig(\"output/q1_tfp_shock_chn_num_real_wages.pdf\")\n",
    "bar(cntry, (Χ̂ₙ .- 1) * 100, ylabel = \"Percent change in real expenditures\", legend=false)\n",
    "savefig(\"output/q1_tfp_shock_chn_num_real_exp.pdf\")"
   ]
  },
  {
   "cell_type": "code",
   "execution_count": null,
   "id": "charitable-actor",
   "metadata": {},
   "outputs": [],
   "source": []
  }
 ],
 "metadata": {
  "kernelspec": {
   "display_name": "Julia 1.6.4",
   "language": "julia",
   "name": "julia-1.6"
  },
  "language_info": {
   "file_extension": ".jl",
   "mimetype": "application/julia",
   "name": "julia",
   "version": "1.6.4"
  }
 },
 "nbformat": 4,
 "nbformat_minor": 5
}
