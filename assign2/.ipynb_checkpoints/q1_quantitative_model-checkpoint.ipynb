{
 "cells": [
  {
   "cell_type": "code",
   "execution_count": 43,
   "id": "legal-ability",
   "metadata": {},
   "outputs": [],
   "source": [
    "using Plots, Colors, DataFrames, CSV, GLM\n",
    "\n",
    "cd(\"/Users/junwong/Dropbox/Second Year/Dingel - Trade/Assignments\")"
   ]
  },
  {
   "cell_type": "markdown",
   "id": "elementary-calgary",
   "metadata": {},
   "source": [
    "# Quantitative Model"
   ]
  },
  {
   "cell_type": "markdown",
   "id": "reasonable-alabama",
   "metadata": {},
   "source": [
    "## Calibrating $X_{ni}$"
   ]
  },
  {
   "cell_type": "code",
   "execution_count": 44,
   "id": "unavailable-diana",
   "metadata": {},
   "outputs": [],
   "source": [
    "df = DataFrame(CSV.File(\"data/bilateral_trade_country/bilateral_trade_country.csv\"))\n",
    "\n",
    "Xₙᵢ⁰ = unstack(df, :country_dest, :country_org, :trade_flow2014)\n",
    "Xₙᵢ⁰ = Array(Xₙᵢ⁰[!,2:43])\n",
    "\n",
    "exp⁰ = combine(groupby(df, :country_org), :trade_flow2014 => sum, renamecols=false);\n",
    "imp⁰ = combine(groupby(df, :country_dest), :trade_flow2014 => sum, renamecols=false);\n",
    "rename!(imp⁰, :trade_flow2014 => :imports)\n",
    "yₙ = exp⁰[!,2] ./ imp⁰[!,2];\n",
    "\n",
    "df = leftjoin(df, imp⁰, on=:country_dest);\n",
    "transform!(df, [:trade_flow2014, :imports] => (./) => :pi_ni);\n",
    "πₙᵢ = unstack(df, :country_dest, :country_org, :pi_ni);\n",
    "πₙᵢ = Array(πₙᵢ[!, 2:43]);"
   ]
  },
  {
   "cell_type": "markdown",
   "id": "upper-blend",
   "metadata": {},
   "source": [
    "## Impact of a 10% increase in Chinese productivity"
   ]
  },
  {
   "cell_type": "code",
   "execution_count": 45,
   "id": "initial-shepherd",
   "metadata": {
    "scrolled": true
   },
   "outputs": [
    {
     "data": {
      "text/plain": [
       "0.01"
      ]
     },
     "execution_count": 45,
     "metadata": {},
     "output_type": "execute_result"
    }
   ],
   "source": [
    "# Setting T̂ₙᵢ\n",
    "T̂ₙᵢ = ones(42,1);\n",
    "T̂ₙᵢ[8] = 1.1;\n",
    "θ = 4;\n",
    "\n",
    "# Initialize vectors\n",
    "ŵ = ones(42, 1);\n",
    "\n",
    "# Transfer numeraire\n",
    "h(w) = w[end]\n",
    "\n",
    "# Parameters\n",
    "tol = 1e-10\n",
    "κ=0.01"
   ]
  },
  {
   "cell_type": "code",
   "execution_count": 46,
   "id": "assigned-calendar",
   "metadata": {
    "scrolled": true
   },
   "outputs": [
    {
     "data": {
      "text/plain": [
       "#25 (generic function with 1 method)"
      ]
     },
     "execution_count": 46,
     "metadata": {},
     "output_type": "execute_result"
    }
   ],
   "source": [
    "# Excess demand function \n",
    "excess_demand = function(ŵ, Xₙᵢ⁰, T̂, πₙᵢ, yₙ, θ, w0)\n",
    "    # get the denominator that is by n\n",
    "    dni = zeros(length(T̂), length(T̂))  \n",
    "    for i = 1:size(Xₙᵢ⁰, 2)\n",
    "        for n = 1:size(Xₙᵢ⁰, 1)\n",
    "            dni[n, i] = πₙᵢ[n, i] .* T̂[i] .* (ŵ[i] .^ (-θ))\n",
    "        end\n",
    "    end \n",
    "    \n",
    "    # get the rest of the calculations\n",
    "    res_i = zeros(length(T̂), 1)\n",
    "    for i = 1:size(Xₙᵢ⁰, 2)\n",
    "        res_by_n = zeros(length(T̂), 1)\n",
    "        denom_i = sum(Xₙᵢ⁰[:,i])\n",
    "        for n = 1:size(Xₙᵢ⁰, 1)\n",
    "            num_ni = Xₙᵢ⁰[n, i] * T̂[i] * ((ŵ[i]) ^ (-θ))\n",
    "            num_n = yₙ[n] .* ŵ[n] .+ (1 .- yₙ[n]) .* h(w0 .* ŵ) ./ h(w0)\n",
    "            denom_n = sum(dni[n, :])\n",
    "            res_by_n[n] = num_n * num_ni / denom_i / denom_n\n",
    "        end\n",
    "        res_i[i] = sum(res_by_n) - ŵ[i]\n",
    "    end\n",
    "    \n",
    "    return res_i\n",
    "end "
   ]
  },
  {
   "cell_type": "code",
   "execution_count": 47,
   "id": "liked-barcelona",
   "metadata": {},
   "outputs": [
    {
     "data": {
      "text/plain": [
       "#27 (generic function with 1 method)"
      ]
     },
     "execution_count": 47,
     "metadata": {},
     "output_type": "execute_result"
    }
   ],
   "source": [
    "# Iterating wrapper\n",
    "iterating_fn = function(ŵ, Xₙᵢ⁰, T̂, πₙᵢ, yₙ, θ, w0, tol, κ) \n",
    "    iter = 0\n",
    "    zᵢ = ones(length(T̂))\n",
    "    \n",
    "    while maximum(abs.(zᵢ)) > tol\n",
    "        iter +=1\n",
    "        zᵢ = excess_demand(ŵ, Xₙᵢ⁰, T̂, πₙᵢ, yₙ, θ, w0) \n",
    "        ŵ = ŵ .+ κ .* zᵢ\n",
    "        ŵ[end] = 1\n",
    "        println(zᵢ[1], zᵢ[2], zᵢ[3], zᵢ[4], zᵢ[5])\n",
    "        if iter > 5\n",
    "            break\n",
    "        end\n",
    "    end \n",
    "    \n",
    "    return [ŵ, zᵢ, iter]\n",
    "end     "
   ]
  },
  {
   "cell_type": "code",
   "execution_count": 48,
   "id": "specified-original",
   "metadata": {},
   "outputs": [
    {
     "name": "stdout",
     "output_type": "stream",
     "text": [
      "-0.0042254001559204335-0.0015119267799735825-0.002018234018251519-0.001677863566966642-0.0018846207780900404\n",
      "-0.004193258934968802-0.0015267574532096262-0.0020227695971866133-0.0016930638454645264-0.001882322870565778\n",
      "-0.004161191664822095-0.0015409559937860084-0.0020267584542281725-0.001707544465341826-0.001879861209081568\n",
      "-0.004129201368371915-0.001554537052483318-0.002030216829291387-0.001721323019064358-0.001877239502255601\n",
      "-0.004097290982414847-0.001567514976260287-0.0020331605598602476-0.001734416721110854-0.0018744613950235633\n",
      "-0.004065463359336108-0.0015799038143492483-0.0020356050900363076-0.0017468424157557338-0.0018715304696413915\n"
     ]
    },
    {
     "data": {
      "text/plain": [
       "3-element Vector{Any}:\n",
       "  [0.9997512819353416; 0.9999071840392993; … ; 0.999339151257065; 1.0]\n",
       "  [-0.004065463359336108; -0.0015799038143492483; … ; -0.010411379406528587; -0.0015346030449434611]\n",
       " 6"
      ]
     },
     "execution_count": 48,
     "metadata": {},
     "output_type": "execute_result"
    }
   ],
   "source": [
    "# Run function\n",
    "x = iterating_fn(ones(42, 1), Xₙᵢ⁰, T̂ₙᵢ, πₙᵢ, yₙ, θ, ones(42,1), tol, κ)"
   ]
  },
  {
   "cell_type": "markdown",
   "id": "understanding-hepatitis",
   "metadata": {},
   "source": [
    "## Changes in Real Wage and Expenditures"
   ]
  },
  {
   "cell_type": "markdown",
   "id": "median-watershed",
   "metadata": {},
   "source": [
    "Construct terms"
   ]
  },
  {
   "cell_type": "code",
   "execution_count": 57,
   "id": "partial-greene",
   "metadata": {
    "scrolled": true
   },
   "outputs": [],
   "source": [
    "Φ̂ₙ = zeros(42)\n",
    "ni = zeros(42, 42)\n",
    "for n=1:42\n",
    "    for i=1:42\n",
    "        ni[n, i] = T̂ₙᵢ[n] * πₙᵢ[n,i] * (x[1][i]^(-θ)) # add T in here \n",
    "    end\n",
    "    Φ̂ₙ[n] = sum(ni[n, :])\n",
    "end\n",
    "\n",
    "# New CES price index\n",
    "P̂ₙ = (Φ̂ₙ).^(-1/θ);\n",
    "\n",
    "# Real wage\n",
    "ω̂ = x[1] ./ P̂ₙ\n",
    "\n",
    "# Share of spending of n on i \n",
    "π̂ₙᵢ = zeros(42, 42)\n",
    "dₙᵢ = ones(42, 42)\n",
    "for n = 1:size(dₙᵢ, 1)\n",
    "    for i = 1:size(dₙᵢ, 2) \n",
    "        π̂ₙᵢ[n, i] = T̂ₙᵢ[i] * (dₙᵢ[n, i] * x[1][i])^(-θ) / Φ̂ₙ[n]\n",
    "    end\n",
    "end\n",
    "\n",
    "# Change in domestic trade share \n",
    "π̂ₙₙ = T̂ₙᵢ .* (x[1] ./ P̂ₙ).^(-θ)\n",
    "\n",
    "# New expenditures\n",
    "X̂ₙ = x[1] .+ h(x[1])\n",
    "Χ̂ₙ = X̂ₙ ./ P̂ₙ;"
   ]
  },
  {
   "cell_type": "markdown",
   "id": "supported-certificate",
   "metadata": {},
   "source": [
    "Regressions"
   ]
  },
  {
   "cell_type": "code",
   "execution_count": 58,
   "id": "dutch-invalid",
   "metadata": {},
   "outputs": [
    {
     "data": {
      "image/svg+xml": [
       "<?xml version=\"1.0\" encoding=\"utf-8\"?>\n",
       "<svg xmlns=\"http://www.w3.org/2000/svg\" xmlns:xlink=\"http://www.w3.org/1999/xlink\" width=\"600\" height=\"400\" viewBox=\"0 0 2400 1600\">\n",
       "<defs>\n",
       "  <clipPath id=\"clip060\">\n",
       "    <rect x=\"0\" y=\"0\" width=\"2400\" height=\"1600\"/>\n",
       "  </clipPath>\n",
       "</defs>\n",
       "<path clip-path=\"url(#clip060)\" d=\"\n",
       "M0 1600 L2400 1600 L2400 0 L0 0  Z\n",
       "  \" fill=\"#ffffff\" fill-rule=\"evenodd\" fill-opacity=\"1\"/>\n",
       "<defs>\n",
       "  <clipPath id=\"clip061\">\n",
       "    <rect x=\"480\" y=\"0\" width=\"1681\" height=\"1600\"/>\n",
       "  </clipPath>\n",
       "</defs>\n",
       "<path clip-path=\"url(#clip060)\" d=\"\n",
       "M214.353 1486.45 L2352.76 1486.45 L2352.76 47.2441 L214.353 47.2441  Z\n",
       "  \" fill=\"#ffffff\" fill-rule=\"evenodd\" fill-opacity=\"1\"/>\n",
       "<defs>\n",
       "  <clipPath id=\"clip062\">\n",
       "    <rect x=\"214\" y=\"47\" width=\"2139\" height=\"1440\"/>\n",
       "  </clipPath>\n",
       "</defs>\n",
       "<polyline clip-path=\"url(#clip062)\" style=\"stroke:#000000; stroke-linecap:butt; stroke-linejoin:round; stroke-width:2; stroke-opacity:0.1; fill:none\" points=\"\n",
       "  225.669,1486.45 225.669,47.2441 \n",
       "  \"/>\n",
       "<polyline clip-path=\"url(#clip062)\" style=\"stroke:#000000; stroke-linecap:butt; stroke-linejoin:round; stroke-width:2; stroke-opacity:0.1; fill:none\" points=\"\n",
       "  717.709,1486.45 717.709,47.2441 \n",
       "  \"/>\n",
       "<polyline clip-path=\"url(#clip062)\" style=\"stroke:#000000; stroke-linecap:butt; stroke-linejoin:round; stroke-width:2; stroke-opacity:0.1; fill:none\" points=\"\n",
       "  1209.75,1486.45 1209.75,47.2441 \n",
       "  \"/>\n",
       "<polyline clip-path=\"url(#clip062)\" style=\"stroke:#000000; stroke-linecap:butt; stroke-linejoin:round; stroke-width:2; stroke-opacity:0.1; fill:none\" points=\"\n",
       "  1701.79,1486.45 1701.79,47.2441 \n",
       "  \"/>\n",
       "<polyline clip-path=\"url(#clip062)\" style=\"stroke:#000000; stroke-linecap:butt; stroke-linejoin:round; stroke-width:2; stroke-opacity:0.1; fill:none\" points=\"\n",
       "  2193.83,1486.45 2193.83,47.2441 \n",
       "  \"/>\n",
       "<polyline clip-path=\"url(#clip060)\" style=\"stroke:#000000; stroke-linecap:butt; stroke-linejoin:round; stroke-width:4; stroke-opacity:1; fill:none\" points=\"\n",
       "  214.353,1486.45 2352.76,1486.45 \n",
       "  \"/>\n",
       "<polyline clip-path=\"url(#clip060)\" style=\"stroke:#000000; stroke-linecap:butt; stroke-linejoin:round; stroke-width:4; stroke-opacity:1; fill:none\" points=\"\n",
       "  225.669,1486.45 225.669,1467.55 \n",
       "  \"/>\n",
       "<polyline clip-path=\"url(#clip060)\" style=\"stroke:#000000; stroke-linecap:butt; stroke-linejoin:round; stroke-width:4; stroke-opacity:1; fill:none\" points=\"\n",
       "  717.709,1486.45 717.709,1467.55 \n",
       "  \"/>\n",
       "<polyline clip-path=\"url(#clip060)\" style=\"stroke:#000000; stroke-linecap:butt; stroke-linejoin:round; stroke-width:4; stroke-opacity:1; fill:none\" points=\"\n",
       "  1209.75,1486.45 1209.75,1467.55 \n",
       "  \"/>\n",
       "<polyline clip-path=\"url(#clip060)\" style=\"stroke:#000000; stroke-linecap:butt; stroke-linejoin:round; stroke-width:4; stroke-opacity:1; fill:none\" points=\"\n",
       "  1701.79,1486.45 1701.79,1467.55 \n",
       "  \"/>\n",
       "<polyline clip-path=\"url(#clip060)\" style=\"stroke:#000000; stroke-linecap:butt; stroke-linejoin:round; stroke-width:4; stroke-opacity:1; fill:none\" points=\"\n",
       "  2193.83,1486.45 2193.83,1467.55 \n",
       "  \"/>\n",
       "<path clip-path=\"url(#clip060)\" d=\"M225.669 1517.37 Q222.058 1517.37 220.23 1520.93 Q218.424 1524.47 218.424 1531.6 Q218.424 1538.71 220.23 1542.27 Q222.058 1545.82 225.669 1545.82 Q229.304 1545.82 231.109 1542.27 Q232.938 1538.71 232.938 1531.6 Q232.938 1524.47 231.109 1520.93 Q229.304 1517.37 225.669 1517.37 M225.669 1513.66 Q231.48 1513.66 234.535 1518.27 Q237.614 1522.85 237.614 1531.6 Q237.614 1540.33 234.535 1544.94 Q231.48 1549.52 225.669 1549.52 Q219.859 1549.52 216.781 1544.94 Q213.725 1540.33 213.725 1531.6 Q213.725 1522.85 216.781 1518.27 Q219.859 1513.66 225.669 1513.66 Z\" fill=\"#000000\" fill-rule=\"evenodd\" fill-opacity=\"1\" /><path clip-path=\"url(#clip060)\" d=\"M692.397 1544.91 L700.035 1544.91 L700.035 1518.55 L691.725 1520.21 L691.725 1515.95 L699.989 1514.29 L704.665 1514.29 L704.665 1544.91 L712.304 1544.91 L712.304 1548.85 L692.397 1548.85 L692.397 1544.91 Z\" fill=\"#000000\" fill-rule=\"evenodd\" fill-opacity=\"1\" /><path clip-path=\"url(#clip060)\" d=\"M731.748 1517.37 Q728.137 1517.37 726.308 1520.93 Q724.503 1524.47 724.503 1531.6 Q724.503 1538.71 726.308 1542.27 Q728.137 1545.82 731.748 1545.82 Q735.382 1545.82 737.188 1542.27 Q739.017 1538.71 739.017 1531.6 Q739.017 1524.47 737.188 1520.93 Q735.382 1517.37 731.748 1517.37 M731.748 1513.66 Q737.558 1513.66 740.614 1518.27 Q743.693 1522.85 743.693 1531.6 Q743.693 1540.33 740.614 1544.94 Q737.558 1549.52 731.748 1549.52 Q725.938 1549.52 722.859 1544.94 Q719.804 1540.33 719.804 1531.6 Q719.804 1522.85 722.859 1518.27 Q725.938 1513.66 731.748 1513.66 Z\" fill=\"#000000\" fill-rule=\"evenodd\" fill-opacity=\"1\" /><path clip-path=\"url(#clip060)\" d=\"M1188.52 1544.91 L1204.84 1544.91 L1204.84 1548.85 L1182.9 1548.85 L1182.9 1544.91 Q1185.56 1542.16 1190.14 1537.53 Q1194.75 1532.88 1195.93 1531.53 Q1198.17 1529.01 1199.05 1527.27 Q1199.96 1525.51 1199.96 1523.82 Q1199.96 1521.07 1198.01 1519.33 Q1196.09 1517.6 1192.99 1517.6 Q1190.79 1517.6 1188.34 1518.36 Q1185.91 1519.13 1183.13 1520.68 L1183.13 1515.95 Q1185.95 1514.82 1188.41 1514.24 Q1190.86 1513.66 1192.9 1513.66 Q1198.27 1513.66 1201.46 1516.35 Q1204.66 1519.03 1204.66 1523.52 Q1204.66 1525.65 1203.85 1527.57 Q1203.06 1529.47 1200.95 1532.07 Q1200.37 1532.74 1197.27 1535.95 Q1194.17 1539.15 1188.52 1544.91 Z\" fill=\"#000000\" fill-rule=\"evenodd\" fill-opacity=\"1\" /><path clip-path=\"url(#clip060)\" d=\"M1224.66 1517.37 Q1221.04 1517.37 1219.22 1520.93 Q1217.41 1524.47 1217.41 1531.6 Q1217.41 1538.71 1219.22 1542.27 Q1221.04 1545.82 1224.66 1545.82 Q1228.29 1545.82 1230.1 1542.27 Q1231.92 1538.71 1231.92 1531.6 Q1231.92 1524.47 1230.1 1520.93 Q1228.29 1517.37 1224.66 1517.37 M1224.66 1513.66 Q1230.47 1513.66 1233.52 1518.27 Q1236.6 1522.85 1236.6 1531.6 Q1236.6 1540.33 1233.52 1544.94 Q1230.47 1549.52 1224.66 1549.52 Q1218.85 1549.52 1215.77 1544.94 Q1212.71 1540.33 1212.71 1531.6 Q1212.71 1522.85 1215.77 1518.27 Q1218.85 1513.66 1224.66 1513.66 Z\" fill=\"#000000\" fill-rule=\"evenodd\" fill-opacity=\"1\" /><path clip-path=\"url(#clip060)\" d=\"M1690.63 1530.21 Q1693.99 1530.93 1695.86 1533.2 Q1697.76 1535.47 1697.76 1538.8 Q1697.76 1543.92 1694.24 1546.72 Q1690.72 1549.52 1684.24 1549.52 Q1682.07 1549.52 1679.75 1549.08 Q1677.46 1548.66 1675.01 1547.81 L1675.01 1543.29 Q1676.95 1544.43 1679.26 1545.01 Q1681.58 1545.58 1684.1 1545.58 Q1688.5 1545.58 1690.79 1543.85 Q1693.11 1542.11 1693.11 1538.8 Q1693.11 1535.75 1690.95 1534.03 Q1688.82 1532.3 1685.01 1532.3 L1680.98 1532.3 L1680.98 1528.45 L1685.19 1528.45 Q1688.64 1528.45 1690.47 1527.09 Q1692.3 1525.7 1692.3 1523.11 Q1692.3 1520.45 1690.4 1519.03 Q1688.52 1517.6 1685.01 1517.6 Q1683.08 1517.6 1680.89 1518.01 Q1678.69 1518.43 1676.05 1519.31 L1676.05 1515.14 Q1678.71 1514.4 1681.02 1514.03 Q1683.36 1513.66 1685.42 1513.66 Q1690.75 1513.66 1693.85 1516.09 Q1696.95 1518.5 1696.95 1522.62 Q1696.95 1525.49 1695.31 1527.48 Q1693.66 1529.45 1690.63 1530.21 Z\" fill=\"#000000\" fill-rule=\"evenodd\" fill-opacity=\"1\" /><path clip-path=\"url(#clip060)\" d=\"M1716.63 1517.37 Q1713.01 1517.37 1711.19 1520.93 Q1709.38 1524.47 1709.38 1531.6 Q1709.38 1538.71 1711.19 1542.27 Q1713.01 1545.82 1716.63 1545.82 Q1720.26 1545.82 1722.07 1542.27 Q1723.89 1538.71 1723.89 1531.6 Q1723.89 1524.47 1722.07 1520.93 Q1720.26 1517.37 1716.63 1517.37 M1716.63 1513.66 Q1722.44 1513.66 1725.49 1518.27 Q1728.57 1522.85 1728.57 1531.6 Q1728.57 1540.33 1725.49 1544.94 Q1722.44 1549.52 1716.63 1549.52 Q1710.82 1549.52 1707.74 1544.94 Q1704.68 1540.33 1704.68 1531.6 Q1704.68 1522.85 1707.74 1518.27 Q1710.82 1513.66 1716.63 1513.66 Z\" fill=\"#000000\" fill-rule=\"evenodd\" fill-opacity=\"1\" /><path clip-path=\"url(#clip060)\" d=\"M2182 1518.36 L2170.19 1536.81 L2182 1536.81 L2182 1518.36 M2180.77 1514.29 L2186.65 1514.29 L2186.65 1536.81 L2191.58 1536.81 L2191.58 1540.7 L2186.65 1540.7 L2186.65 1548.85 L2182 1548.85 L2182 1540.7 L2166.4 1540.7 L2166.4 1536.19 L2180.77 1514.29 Z\" fill=\"#000000\" fill-rule=\"evenodd\" fill-opacity=\"1\" /><path clip-path=\"url(#clip060)\" d=\"M2209.31 1517.37 Q2205.7 1517.37 2203.87 1520.93 Q2202.07 1524.47 2202.07 1531.6 Q2202.07 1538.71 2203.87 1542.27 Q2205.7 1545.82 2209.31 1545.82 Q2212.95 1545.82 2214.75 1542.27 Q2216.58 1538.71 2216.58 1531.6 Q2216.58 1524.47 2214.75 1520.93 Q2212.95 1517.37 2209.31 1517.37 M2209.31 1513.66 Q2215.12 1513.66 2218.18 1518.27 Q2221.26 1522.85 2221.26 1531.6 Q2221.26 1540.33 2218.18 1544.94 Q2215.12 1549.52 2209.31 1549.52 Q2203.5 1549.52 2200.42 1544.94 Q2197.37 1540.33 2197.37 1531.6 Q2197.37 1522.85 2200.42 1518.27 Q2203.5 1513.66 2209.31 1513.66 Z\" fill=\"#000000\" fill-rule=\"evenodd\" fill-opacity=\"1\" /><polyline clip-path=\"url(#clip062)\" style=\"stroke:#000000; stroke-linecap:butt; stroke-linejoin:round; stroke-width:2; stroke-opacity:0.1; fill:none\" points=\"\n",
       "  214.353,1437.93 2352.76,1437.93 \n",
       "  \"/>\n",
       "<polyline clip-path=\"url(#clip062)\" style=\"stroke:#000000; stroke-linecap:butt; stroke-linejoin:round; stroke-width:2; stroke-opacity:0.1; fill:none\" points=\"\n",
       "  214.353,1158.73 2352.76,1158.73 \n",
       "  \"/>\n",
       "<polyline clip-path=\"url(#clip062)\" style=\"stroke:#000000; stroke-linecap:butt; stroke-linejoin:round; stroke-width:2; stroke-opacity:0.1; fill:none\" points=\"\n",
       "  214.353,879.533 2352.76,879.533 \n",
       "  \"/>\n",
       "<polyline clip-path=\"url(#clip062)\" style=\"stroke:#000000; stroke-linecap:butt; stroke-linejoin:round; stroke-width:2; stroke-opacity:0.1; fill:none\" points=\"\n",
       "  214.353,600.337 2352.76,600.337 \n",
       "  \"/>\n",
       "<polyline clip-path=\"url(#clip062)\" style=\"stroke:#000000; stroke-linecap:butt; stroke-linejoin:round; stroke-width:2; stroke-opacity:0.1; fill:none\" points=\"\n",
       "  214.353,321.141 2352.76,321.141 \n",
       "  \"/>\n",
       "<polyline clip-path=\"url(#clip060)\" style=\"stroke:#000000; stroke-linecap:butt; stroke-linejoin:round; stroke-width:4; stroke-opacity:1; fill:none\" points=\"\n",
       "  214.353,1486.45 214.353,47.2441 \n",
       "  \"/>\n",
       "<polyline clip-path=\"url(#clip060)\" style=\"stroke:#000000; stroke-linecap:butt; stroke-linejoin:round; stroke-width:4; stroke-opacity:1; fill:none\" points=\"\n",
       "  214.353,1437.93 233.25,1437.93 \n",
       "  \"/>\n",
       "<polyline clip-path=\"url(#clip060)\" style=\"stroke:#000000; stroke-linecap:butt; stroke-linejoin:round; stroke-width:4; stroke-opacity:1; fill:none\" points=\"\n",
       "  214.353,1158.73 233.25,1158.73 \n",
       "  \"/>\n",
       "<polyline clip-path=\"url(#clip060)\" style=\"stroke:#000000; stroke-linecap:butt; stroke-linejoin:round; stroke-width:4; stroke-opacity:1; fill:none\" points=\"\n",
       "  214.353,879.533 233.25,879.533 \n",
       "  \"/>\n",
       "<polyline clip-path=\"url(#clip060)\" style=\"stroke:#000000; stroke-linecap:butt; stroke-linejoin:round; stroke-width:4; stroke-opacity:1; fill:none\" points=\"\n",
       "  214.353,600.337 233.25,600.337 \n",
       "  \"/>\n",
       "<polyline clip-path=\"url(#clip060)\" style=\"stroke:#000000; stroke-linecap:butt; stroke-linejoin:round; stroke-width:4; stroke-opacity:1; fill:none\" points=\"\n",
       "  214.353,321.141 233.25,321.141 \n",
       "  \"/>\n",
       "<path clip-path=\"url(#clip060)\" d=\"M51.6634 1451.27 L59.3023 1451.27 L59.3023 1424.9 L50.9921 1426.57 L50.9921 1422.31 L59.256 1420.65 L63.9319 1420.65 L63.9319 1451.27 L71.5707 1451.27 L71.5707 1455.21 L51.6634 1455.21 L51.6634 1451.27 Z\" fill=\"#000000\" fill-rule=\"evenodd\" fill-opacity=\"1\" /><path clip-path=\"url(#clip060)\" d=\"M81.0151 1449.33 L85.8993 1449.33 L85.8993 1455.21 L81.0151 1455.21 L81.0151 1449.33 Z\" fill=\"#000000\" fill-rule=\"evenodd\" fill-opacity=\"1\" /><path clip-path=\"url(#clip060)\" d=\"M106.084 1423.72 Q102.473 1423.72 100.645 1427.29 Q98.8391 1430.83 98.8391 1437.96 Q98.8391 1445.07 100.645 1448.63 Q102.473 1452.17 106.084 1452.17 Q109.719 1452.17 111.524 1448.63 Q113.353 1445.07 113.353 1437.96 Q113.353 1430.83 111.524 1427.29 Q109.719 1423.72 106.084 1423.72 M106.084 1420.02 Q111.895 1420.02 114.95 1424.63 Q118.029 1429.21 118.029 1437.96 Q118.029 1446.69 114.95 1451.29 Q111.895 1455.88 106.084 1455.88 Q100.274 1455.88 97.1956 1451.29 Q94.14 1446.69 94.14 1437.96 Q94.14 1429.21 97.1956 1424.63 Q100.274 1420.02 106.084 1420.02 Z\" fill=\"#000000\" fill-rule=\"evenodd\" fill-opacity=\"1\" /><path clip-path=\"url(#clip060)\" d=\"M136.246 1423.72 Q132.635 1423.72 130.807 1427.29 Q129.001 1430.83 129.001 1437.96 Q129.001 1445.07 130.807 1448.63 Q132.635 1452.17 136.246 1452.17 Q139.881 1452.17 141.686 1448.63 Q143.515 1445.07 143.515 1437.96 Q143.515 1430.83 141.686 1427.29 Q139.881 1423.72 136.246 1423.72 M136.246 1420.02 Q142.056 1420.02 145.112 1424.63 Q148.191 1429.21 148.191 1437.96 Q148.191 1446.69 145.112 1451.29 Q142.056 1455.88 136.246 1455.88 Q130.436 1455.88 127.357 1451.29 Q124.302 1446.69 124.302 1437.96 Q124.302 1429.21 127.357 1424.63 Q130.436 1420.02 136.246 1420.02 Z\" fill=\"#000000\" fill-rule=\"evenodd\" fill-opacity=\"1\" /><path clip-path=\"url(#clip060)\" d=\"M166.408 1423.72 Q162.797 1423.72 160.968 1427.29 Q159.163 1430.83 159.163 1437.96 Q159.163 1445.07 160.968 1448.63 Q162.797 1452.17 166.408 1452.17 Q170.042 1452.17 171.848 1448.63 Q173.677 1445.07 173.677 1437.96 Q173.677 1430.83 171.848 1427.29 Q170.042 1423.72 166.408 1423.72 M166.408 1420.02 Q172.218 1420.02 175.274 1424.63 Q178.353 1429.21 178.353 1437.96 Q178.353 1446.69 175.274 1451.29 Q172.218 1455.88 166.408 1455.88 Q160.598 1455.88 157.519 1451.29 Q154.464 1446.69 154.464 1437.96 Q154.464 1429.21 157.519 1424.63 Q160.598 1420.02 166.408 1420.02 Z\" fill=\"#000000\" fill-rule=\"evenodd\" fill-opacity=\"1\" /><path clip-path=\"url(#clip060)\" d=\"M52.6588 1172.07 L60.2976 1172.07 L60.2976 1145.71 L51.9875 1147.38 L51.9875 1143.12 L60.2513 1141.45 L64.9272 1141.45 L64.9272 1172.07 L72.5661 1172.07 L72.5661 1176.01 L52.6588 1176.01 L52.6588 1172.07 Z\" fill=\"#000000\" fill-rule=\"evenodd\" fill-opacity=\"1\" /><path clip-path=\"url(#clip060)\" d=\"M82.0105 1170.13 L86.8947 1170.13 L86.8947 1176.01 L82.0105 1176.01 L82.0105 1170.13 Z\" fill=\"#000000\" fill-rule=\"evenodd\" fill-opacity=\"1\" /><path clip-path=\"url(#clip060)\" d=\"M107.08 1144.53 Q103.469 1144.53 101.64 1148.09 Q99.8345 1151.63 99.8345 1158.76 Q99.8345 1165.87 101.64 1169.44 Q103.469 1172.98 107.08 1172.98 Q110.714 1172.98 112.52 1169.44 Q114.348 1165.87 114.348 1158.76 Q114.348 1151.63 112.52 1148.09 Q110.714 1144.53 107.08 1144.53 M107.08 1140.82 Q112.89 1140.82 115.945 1145.43 Q119.024 1150.01 119.024 1158.76 Q119.024 1167.49 115.945 1172.1 Q112.89 1176.68 107.08 1176.68 Q101.27 1176.68 98.1909 1172.1 Q95.1354 1167.49 95.1354 1158.76 Q95.1354 1150.01 98.1909 1145.43 Q101.27 1140.82 107.08 1140.82 Z\" fill=\"#000000\" fill-rule=\"evenodd\" fill-opacity=\"1\" /><path clip-path=\"url(#clip060)\" d=\"M137.242 1144.53 Q133.631 1144.53 131.802 1148.09 Q129.996 1151.63 129.996 1158.76 Q129.996 1165.87 131.802 1169.44 Q133.631 1172.98 137.242 1172.98 Q140.876 1172.98 142.681 1169.44 Q144.51 1165.87 144.51 1158.76 Q144.51 1151.63 142.681 1148.09 Q140.876 1144.53 137.242 1144.53 M137.242 1140.82 Q143.052 1140.82 146.107 1145.43 Q149.186 1150.01 149.186 1158.76 Q149.186 1167.49 146.107 1172.1 Q143.052 1176.68 137.242 1176.68 Q131.432 1176.68 128.353 1172.1 Q125.297 1167.49 125.297 1158.76 Q125.297 1150.01 128.353 1145.43 Q131.432 1140.82 137.242 1140.82 Z\" fill=\"#000000\" fill-rule=\"evenodd\" fill-opacity=\"1\" /><path clip-path=\"url(#clip060)\" d=\"M157.45 1141.45 L175.806 1141.45 L175.806 1145.38 L161.732 1145.38 L161.732 1153.86 Q162.751 1153.51 163.769 1153.35 Q164.788 1153.16 165.806 1153.16 Q171.593 1153.16 174.973 1156.33 Q178.353 1159.5 178.353 1164.92 Q178.353 1170.5 174.88 1173.6 Q171.408 1176.68 165.089 1176.68 Q162.913 1176.68 160.644 1176.31 Q158.399 1175.94 155.992 1175.2 L155.992 1170.5 Q158.075 1171.63 160.297 1172.19 Q162.519 1172.75 164.996 1172.75 Q169.001 1172.75 171.339 1170.64 Q173.677 1168.53 173.677 1164.92 Q173.677 1161.31 171.339 1159.2 Q169.001 1157.1 164.996 1157.1 Q163.121 1157.1 161.246 1157.51 Q159.394 1157.93 157.45 1158.81 L157.45 1141.45 Z\" fill=\"#000000\" fill-rule=\"evenodd\" fill-opacity=\"1\" /><path clip-path=\"url(#clip060)\" d=\"M51.6634 892.878 L59.3023 892.878 L59.3023 866.513 L50.9921 868.179 L50.9921 863.92 L59.256 862.253 L63.9319 862.253 L63.9319 892.878 L71.5707 892.878 L71.5707 896.813 L51.6634 896.813 L51.6634 892.878 Z\" fill=\"#000000\" fill-rule=\"evenodd\" fill-opacity=\"1\" /><path clip-path=\"url(#clip060)\" d=\"M81.0151 890.934 L85.8993 890.934 L85.8993 896.813 L81.0151 896.813 L81.0151 890.934 Z\" fill=\"#000000\" fill-rule=\"evenodd\" fill-opacity=\"1\" /><path clip-path=\"url(#clip060)\" d=\"M106.084 865.332 Q102.473 865.332 100.645 868.897 Q98.8391 872.438 98.8391 879.568 Q98.8391 886.674 100.645 890.239 Q102.473 893.781 106.084 893.781 Q109.719 893.781 111.524 890.239 Q113.353 886.674 113.353 879.568 Q113.353 872.438 111.524 868.897 Q109.719 865.332 106.084 865.332 M106.084 861.628 Q111.895 861.628 114.95 866.235 Q118.029 870.818 118.029 879.568 Q118.029 888.295 114.95 892.901 Q111.895 897.485 106.084 897.485 Q100.274 897.485 97.1956 892.901 Q94.14 888.295 94.14 879.568 Q94.14 870.818 97.1956 866.235 Q100.274 861.628 106.084 861.628 Z\" fill=\"#000000\" fill-rule=\"evenodd\" fill-opacity=\"1\" /><path clip-path=\"url(#clip060)\" d=\"M127.057 892.878 L134.695 892.878 L134.695 866.513 L126.385 868.179 L126.385 863.92 L134.649 862.253 L139.325 862.253 L139.325 892.878 L146.964 892.878 L146.964 896.813 L127.057 896.813 L127.057 892.878 Z\" fill=\"#000000\" fill-rule=\"evenodd\" fill-opacity=\"1\" /><path clip-path=\"url(#clip060)\" d=\"M166.408 865.332 Q162.797 865.332 160.968 868.897 Q159.163 872.438 159.163 879.568 Q159.163 886.674 160.968 890.239 Q162.797 893.781 166.408 893.781 Q170.042 893.781 171.848 890.239 Q173.677 886.674 173.677 879.568 Q173.677 872.438 171.848 868.897 Q170.042 865.332 166.408 865.332 M166.408 861.628 Q172.218 861.628 175.274 866.235 Q178.353 870.818 178.353 879.568 Q178.353 888.295 175.274 892.901 Q172.218 897.485 166.408 897.485 Q160.598 897.485 157.519 892.901 Q154.464 888.295 154.464 879.568 Q154.464 870.818 157.519 866.235 Q160.598 861.628 166.408 861.628 Z\" fill=\"#000000\" fill-rule=\"evenodd\" fill-opacity=\"1\" /><path clip-path=\"url(#clip060)\" d=\"M52.6588 613.682 L60.2976 613.682 L60.2976 587.317 L51.9875 588.983 L51.9875 584.724 L60.2513 583.057 L64.9272 583.057 L64.9272 613.682 L72.5661 613.682 L72.5661 617.617 L52.6588 617.617 L52.6588 613.682 Z\" fill=\"#000000\" fill-rule=\"evenodd\" fill-opacity=\"1\" /><path clip-path=\"url(#clip060)\" d=\"M82.0105 611.738 L86.8947 611.738 L86.8947 617.617 L82.0105 617.617 L82.0105 611.738 Z\" fill=\"#000000\" fill-rule=\"evenodd\" fill-opacity=\"1\" /><path clip-path=\"url(#clip060)\" d=\"M107.08 586.136 Q103.469 586.136 101.64 589.701 Q99.8345 593.242 99.8345 600.372 Q99.8345 607.479 101.64 611.043 Q103.469 614.585 107.08 614.585 Q110.714 614.585 112.52 611.043 Q114.348 607.479 114.348 600.372 Q114.348 593.242 112.52 589.701 Q110.714 586.136 107.08 586.136 M107.08 582.432 Q112.89 582.432 115.945 587.039 Q119.024 591.622 119.024 600.372 Q119.024 609.099 115.945 613.705 Q112.89 618.289 107.08 618.289 Q101.27 618.289 98.1909 613.705 Q95.1354 609.099 95.1354 600.372 Q95.1354 591.622 98.1909 587.039 Q101.27 582.432 107.08 582.432 Z\" fill=\"#000000\" fill-rule=\"evenodd\" fill-opacity=\"1\" /><path clip-path=\"url(#clip060)\" d=\"M128.052 613.682 L135.691 613.682 L135.691 587.317 L127.381 588.983 L127.381 584.724 L135.644 583.057 L140.32 583.057 L140.32 613.682 L147.959 613.682 L147.959 617.617 L128.052 617.617 L128.052 613.682 Z\" fill=\"#000000\" fill-rule=\"evenodd\" fill-opacity=\"1\" /><path clip-path=\"url(#clip060)\" d=\"M157.45 583.057 L175.806 583.057 L175.806 586.993 L161.732 586.993 L161.732 595.465 Q162.751 595.117 163.769 594.955 Q164.788 594.77 165.806 594.77 Q171.593 594.77 174.973 597.942 Q178.353 601.113 178.353 606.529 Q178.353 612.108 174.88 615.21 Q171.408 618.289 165.089 618.289 Q162.913 618.289 160.644 617.918 Q158.399 617.548 155.992 616.807 L155.992 612.108 Q158.075 613.242 160.297 613.798 Q162.519 614.353 164.996 614.353 Q169.001 614.353 171.339 612.247 Q173.677 610.141 173.677 606.529 Q173.677 602.918 171.339 600.812 Q169.001 598.705 164.996 598.705 Q163.121 598.705 161.246 599.122 Q159.394 599.539 157.45 600.418 L157.45 583.057 Z\" fill=\"#000000\" fill-rule=\"evenodd\" fill-opacity=\"1\" /><path clip-path=\"url(#clip060)\" d=\"M51.6634 334.486 L59.3023 334.486 L59.3023 308.121 L50.9921 309.787 L50.9921 305.528 L59.256 303.861 L63.9319 303.861 L63.9319 334.486 L71.5707 334.486 L71.5707 338.421 L51.6634 338.421 L51.6634 334.486 Z\" fill=\"#000000\" fill-rule=\"evenodd\" fill-opacity=\"1\" /><path clip-path=\"url(#clip060)\" d=\"M81.0151 332.542 L85.8993 332.542 L85.8993 338.421 L81.0151 338.421 L81.0151 332.542 Z\" fill=\"#000000\" fill-rule=\"evenodd\" fill-opacity=\"1\" /><path clip-path=\"url(#clip060)\" d=\"M106.084 306.94 Q102.473 306.94 100.645 310.505 Q98.8391 314.047 98.8391 321.176 Q98.8391 328.283 100.645 331.847 Q102.473 335.389 106.084 335.389 Q109.719 335.389 111.524 331.847 Q113.353 328.283 113.353 321.176 Q113.353 314.047 111.524 310.505 Q109.719 306.94 106.084 306.94 M106.084 303.236 Q111.895 303.236 114.95 307.843 Q118.029 312.426 118.029 321.176 Q118.029 329.903 114.95 334.509 Q111.895 339.093 106.084 339.093 Q100.274 339.093 97.1956 334.509 Q94.14 329.903 94.14 321.176 Q94.14 312.426 97.1956 307.843 Q100.274 303.236 106.084 303.236 Z\" fill=\"#000000\" fill-rule=\"evenodd\" fill-opacity=\"1\" /><path clip-path=\"url(#clip060)\" d=\"M130.274 334.486 L146.593 334.486 L146.593 338.421 L124.649 338.421 L124.649 334.486 Q127.311 331.732 131.894 327.102 Q136.501 322.449 137.681 321.107 Q139.927 318.584 140.806 316.847 Q141.709 315.088 141.709 313.398 Q141.709 310.644 139.765 308.908 Q137.844 307.172 134.742 307.172 Q132.543 307.172 130.089 307.935 Q127.658 308.699 124.881 310.25 L124.881 305.528 Q127.705 304.394 130.158 303.815 Q132.612 303.236 134.649 303.236 Q140.019 303.236 143.214 305.922 Q146.408 308.607 146.408 313.098 Q146.408 315.227 145.598 317.148 Q144.811 319.047 142.705 321.639 Q142.126 322.31 139.024 325.528 Q135.922 328.722 130.274 334.486 Z\" fill=\"#000000\" fill-rule=\"evenodd\" fill-opacity=\"1\" /><path clip-path=\"url(#clip060)\" d=\"M166.408 306.94 Q162.797 306.94 160.968 310.505 Q159.163 314.047 159.163 321.176 Q159.163 328.283 160.968 331.847 Q162.797 335.389 166.408 335.389 Q170.042 335.389 171.848 331.847 Q173.677 328.283 173.677 321.176 Q173.677 314.047 171.848 310.505 Q170.042 306.94 166.408 306.94 M166.408 303.236 Q172.218 303.236 175.274 307.843 Q178.353 312.426 178.353 321.176 Q178.353 329.903 175.274 334.509 Q172.218 339.093 166.408 339.093 Q160.598 339.093 157.519 334.509 Q154.464 329.903 154.464 321.176 Q154.464 312.426 157.519 307.843 Q160.598 303.236 166.408 303.236 Z\" fill=\"#000000\" fill-rule=\"evenodd\" fill-opacity=\"1\" /><polyline clip-path=\"url(#clip062)\" style=\"stroke:#009af9; stroke-linecap:butt; stroke-linejoin:round; stroke-width:4; stroke-opacity:1; fill:none\" points=\"\n",
       "  274.873,1438.91 324.077,1437.25 373.281,1437.8 422.485,1437.36 471.689,1437.92 520.893,1438.88 570.097,1437.57 619.301,87.9763 668.505,1438.45 717.709,1438.86 \n",
       "  766.913,1438.13 816.117,1437.46 865.321,1438.43 914.525,1438.43 963.729,1437.77 1012.93,1437.89 1062.14,1437.26 1111.34,1437.16 1160.54,1438.62 1209.75,1438.37 \n",
       "  1258.95,1437.59 1308.16,1438.31 1357.36,1437.6 1406.56,1438.57 1455.77,1441.2 1504.97,1436.82 1554.18,1438.04 1603.38,1437.51 1652.58,1438.83 1701.79,1439.64 \n",
       "  1750.99,1437.6 1800.2,1437.82 1849.4,1437.23 1898.6,1437.19 1947.81,1442.04 1997.01,1438.76 2046.22,1437.35 2095.42,1437.75 2144.62,1438.17 2193.83,1438.01 \n",
       "  2243.03,1445.72 2292.24,1437.6 \n",
       "  \"/>\n",
       "<path clip-path=\"url(#clip060)\" d=\"\n",
       "M1991.45 198.898 L2281.48 198.898 L2281.48 95.2176 L1991.45 95.2176  Z\n",
       "  \" fill=\"#ffffff\" fill-rule=\"evenodd\" fill-opacity=\"1\"/>\n",
       "<polyline clip-path=\"url(#clip060)\" style=\"stroke:#000000; stroke-linecap:butt; stroke-linejoin:round; stroke-width:4; stroke-opacity:1; fill:none\" points=\"\n",
       "  1991.45,198.898 2281.48,198.898 2281.48,95.2176 1991.45,95.2176 1991.45,198.898 \n",
       "  \"/>\n",
       "<polyline clip-path=\"url(#clip060)\" style=\"stroke:#009af9; stroke-linecap:butt; stroke-linejoin:round; stroke-width:4; stroke-opacity:1; fill:none\" points=\"\n",
       "  2015.21,147.058 2157.77,147.058 \n",
       "  \"/>\n",
       "<path clip-path=\"url(#clip060)\" d=\"M2195.37 166.745 Q2193.56 171.375 2191.85 172.787 Q2190.14 174.199 2187.27 174.199 L2183.86 174.199 L2183.86 170.634 L2186.36 170.634 Q2188.12 170.634 2189.09 169.8 Q2190.07 168.967 2191.25 165.865 L2192.01 163.921 L2181.53 138.412 L2186.04 138.412 L2194.14 158.689 L2202.24 138.412 L2206.76 138.412 L2195.37 166.745 Z\" fill=\"#000000\" fill-rule=\"evenodd\" fill-opacity=\"1\" /><path clip-path=\"url(#clip060)\" d=\"M2214.05 160.402 L2221.69 160.402 L2221.69 134.037 L2213.38 135.703 L2213.38 131.444 L2221.64 129.778 L2226.32 129.778 L2226.32 160.402 L2233.96 160.402 L2233.96 164.338 L2214.05 164.338 L2214.05 160.402 Z\" fill=\"#000000\" fill-rule=\"evenodd\" fill-opacity=\"1\" /></svg>\n"
      ]
     },
     "execution_count": 58,
     "metadata": {},
     "output_type": "execute_result"
    }
   ],
   "source": [
    "plot(ω̂)"
   ]
  },
  {
   "cell_type": "code",
   "execution_count": 61,
   "id": "likely-bangkok",
   "metadata": {},
   "outputs": [],
   "source": [
    "reg_data = hcat(ω̂,  Χ̂ₙ, Φ̂ₙ,  π̂ₙₙ, πₙᵢ[:,8])\n",
    "reg_data = DataFrame(reg_data, :auto)\n",
    "rename!(reg_data, [:real_wage, :real_exp, :market_acc, :domestic_share, :initial_chn]);"
   ]
  },
  {
   "cell_type": "code",
   "execution_count": 64,
   "id": "trained-tooth",
   "metadata": {},
   "outputs": [
    {
     "data": {
      "text/plain": [
       "StatsModels.TableRegressionModel{LinearModel{GLM.LmResp{Vector{Float64}}, GLM.DensePredChol{Float64, LinearAlgebra.CholeskyPivoted{Float64, Matrix{Float64}}}}, Matrix{Float64}}\n",
       "\n",
       "real_wage ~ 1 + market_acc + domestic_share + initial_chn\n",
       "\n",
       "Coefficients:\n",
       "────────────────────────────────────────────────────────────────────────────────\n",
       "                     Coef.  Std. Error      t  Pr(>|t|)   Lower 95%    Upper 95%\n",
       "────────────────────────────────────────────────────────────────────────────────\n",
       "(Intercept)      0.743357    0.117031    6.35    <1e-06   0.506439    0.980275\n",
       "market_acc      -0.0466133   0.0284001  -1.64    0.1090  -0.104106    0.0108797\n",
       "domestic_share   0.303094    0.135206    2.24    0.0309   0.0293829   0.576804\n",
       "initial_chn     -0.032602    0.0152937  -2.13    0.0396  -0.0635625  -0.00164147\n",
       "────────────────────────────────────────────────────────────────────────────────"
      ]
     },
     "execution_count": 64,
     "metadata": {},
     "output_type": "execute_result"
    }
   ],
   "source": [
    "lm(@formula(real_wage ~ market_acc + domestic_share + initial_chn), reg_data)\n",
    "lm(@formula(real_exp ~ market_acc + domestic_share + initial_chn), reg_data)"
   ]
  },
  {
   "cell_type": "markdown",
   "id": "painted-international",
   "metadata": {},
   "source": [
    "## Changing numeraire"
   ]
  },
  {
   "cell_type": "code",
   "execution_count": 28,
   "id": "psychological-relation",
   "metadata": {},
   "outputs": [
    {
     "data": {
      "text/plain": [
       "3-element Vector{Any}:\n",
       "      [0.9998698058580759; 0.998996848794946; … ; 0.9996290712580896; 1.0]\n",
       "      [2.5781043966333073e-11; 2.388322872803883e-11; … ; 2.300626356088742e-11; -9.995781979910134e-11]\n",
       " 13753"
      ]
     },
     "execution_count": 28,
     "metadata": {},
     "output_type": "execute_result"
    }
   ],
   "source": [
    "# Transfer numeraire\n",
    "h(w) = w[8] # china is now transfer numeraire \n",
    "x = iterating_fn(ones(42, 1), Xₙᵢ⁰, T̂ₙᵢ, πₙᵢ, yₙ, θ, ones(42,1), tol, κ)"
   ]
  },
  {
   "cell_type": "code",
   "execution_count": 30,
   "id": "premier-freight",
   "metadata": {},
   "outputs": [
    {
     "data": {
      "image/svg+xml": [
       "<?xml version=\"1.0\" encoding=\"utf-8\"?>\n",
       "<svg xmlns=\"http://www.w3.org/2000/svg\" xmlns:xlink=\"http://www.w3.org/1999/xlink\" width=\"600\" height=\"400\" viewBox=\"0 0 2400 1600\">\n",
       "<defs>\n",
       "  <clipPath id=\"clip740\">\n",
       "    <rect x=\"0\" y=\"0\" width=\"2400\" height=\"1600\"/>\n",
       "  </clipPath>\n",
       "</defs>\n",
       "<path clip-path=\"url(#clip740)\" d=\"\n",
       "M0 1600 L2400 1600 L2400 0 L0 0  Z\n",
       "  \" fill=\"#ffffff\" fill-rule=\"evenodd\" fill-opacity=\"1\"/>\n",
       "<defs>\n",
       "  <clipPath id=\"clip741\">\n",
       "    <rect x=\"480\" y=\"0\" width=\"1681\" height=\"1600\"/>\n",
       "  </clipPath>\n",
       "</defs>\n",
       "<path clip-path=\"url(#clip740)\" d=\"\n",
       "M245.602 1486.45 L2352.76 1486.45 L2352.76 47.2441 L245.602 47.2441  Z\n",
       "  \" fill=\"#ffffff\" fill-rule=\"evenodd\" fill-opacity=\"1\"/>\n",
       "<defs>\n",
       "  <clipPath id=\"clip742\">\n",
       "    <rect x=\"245\" y=\"47\" width=\"2108\" height=\"1440\"/>\n",
       "  </clipPath>\n",
       "</defs>\n",
       "<polyline clip-path=\"url(#clip742)\" style=\"stroke:#000000; stroke-linecap:butt; stroke-linejoin:round; stroke-width:2; stroke-opacity:0.1; fill:none\" points=\"\n",
       "  256.754,1486.45 256.754,47.2441 \n",
       "  \"/>\n",
       "<polyline clip-path=\"url(#clip742)\" style=\"stroke:#000000; stroke-linecap:butt; stroke-linejoin:round; stroke-width:2; stroke-opacity:0.1; fill:none\" points=\"\n",
       "  741.603,1486.45 741.603,47.2441 \n",
       "  \"/>\n",
       "<polyline clip-path=\"url(#clip742)\" style=\"stroke:#000000; stroke-linecap:butt; stroke-linejoin:round; stroke-width:2; stroke-opacity:0.1; fill:none\" points=\"\n",
       "  1226.45,1486.45 1226.45,47.2441 \n",
       "  \"/>\n",
       "<polyline clip-path=\"url(#clip742)\" style=\"stroke:#000000; stroke-linecap:butt; stroke-linejoin:round; stroke-width:2; stroke-opacity:0.1; fill:none\" points=\"\n",
       "  1711.3,1486.45 1711.3,47.2441 \n",
       "  \"/>\n",
       "<polyline clip-path=\"url(#clip742)\" style=\"stroke:#000000; stroke-linecap:butt; stroke-linejoin:round; stroke-width:2; stroke-opacity:0.1; fill:none\" points=\"\n",
       "  2196.15,1486.45 2196.15,47.2441 \n",
       "  \"/>\n",
       "<polyline clip-path=\"url(#clip740)\" style=\"stroke:#000000; stroke-linecap:butt; stroke-linejoin:round; stroke-width:4; stroke-opacity:1; fill:none\" points=\"\n",
       "  245.602,1486.45 2352.76,1486.45 \n",
       "  \"/>\n",
       "<polyline clip-path=\"url(#clip740)\" style=\"stroke:#000000; stroke-linecap:butt; stroke-linejoin:round; stroke-width:4; stroke-opacity:1; fill:none\" points=\"\n",
       "  256.754,1486.45 256.754,1467.55 \n",
       "  \"/>\n",
       "<polyline clip-path=\"url(#clip740)\" style=\"stroke:#000000; stroke-linecap:butt; stroke-linejoin:round; stroke-width:4; stroke-opacity:1; fill:none\" points=\"\n",
       "  741.603,1486.45 741.603,1467.55 \n",
       "  \"/>\n",
       "<polyline clip-path=\"url(#clip740)\" style=\"stroke:#000000; stroke-linecap:butt; stroke-linejoin:round; stroke-width:4; stroke-opacity:1; fill:none\" points=\"\n",
       "  1226.45,1486.45 1226.45,1467.55 \n",
       "  \"/>\n",
       "<polyline clip-path=\"url(#clip740)\" style=\"stroke:#000000; stroke-linecap:butt; stroke-linejoin:round; stroke-width:4; stroke-opacity:1; fill:none\" points=\"\n",
       "  1711.3,1486.45 1711.3,1467.55 \n",
       "  \"/>\n",
       "<polyline clip-path=\"url(#clip740)\" style=\"stroke:#000000; stroke-linecap:butt; stroke-linejoin:round; stroke-width:4; stroke-opacity:1; fill:none\" points=\"\n",
       "  2196.15,1486.45 2196.15,1467.55 \n",
       "  \"/>\n",
       "<path clip-path=\"url(#clip740)\" d=\"M256.754 1517.37 Q253.143 1517.37 251.314 1520.93 Q249.509 1524.47 249.509 1531.6 Q249.509 1538.71 251.314 1542.27 Q253.143 1545.82 256.754 1545.82 Q260.388 1545.82 262.194 1542.27 Q264.022 1538.71 264.022 1531.6 Q264.022 1524.47 262.194 1520.93 Q260.388 1517.37 256.754 1517.37 M256.754 1513.66 Q262.564 1513.66 265.62 1518.27 Q268.698 1522.85 268.698 1531.6 Q268.698 1540.33 265.62 1544.94 Q262.564 1549.52 256.754 1549.52 Q250.944 1549.52 247.865 1544.94 Q244.81 1540.33 244.81 1531.6 Q244.81 1522.85 247.865 1518.27 Q250.944 1513.66 256.754 1513.66 Z\" fill=\"#000000\" fill-rule=\"evenodd\" fill-opacity=\"1\" /><path clip-path=\"url(#clip740)\" d=\"M716.29 1544.91 L723.929 1544.91 L723.929 1518.55 L715.619 1520.21 L715.619 1515.95 L723.883 1514.29 L728.559 1514.29 L728.559 1544.91 L736.198 1544.91 L736.198 1548.85 L716.29 1548.85 L716.29 1544.91 Z\" fill=\"#000000\" fill-rule=\"evenodd\" fill-opacity=\"1\" /><path clip-path=\"url(#clip740)\" d=\"M755.642 1517.37 Q752.031 1517.37 750.202 1520.93 Q748.397 1524.47 748.397 1531.6 Q748.397 1538.71 750.202 1542.27 Q752.031 1545.82 755.642 1545.82 Q759.276 1545.82 761.082 1542.27 Q762.911 1538.71 762.911 1531.6 Q762.911 1524.47 761.082 1520.93 Q759.276 1517.37 755.642 1517.37 M755.642 1513.66 Q761.452 1513.66 764.508 1518.27 Q767.587 1522.85 767.587 1531.6 Q767.587 1540.33 764.508 1544.94 Q761.452 1549.52 755.642 1549.52 Q749.832 1549.52 746.753 1544.94 Q743.698 1540.33 743.698 1531.6 Q743.698 1522.85 746.753 1518.27 Q749.832 1513.66 755.642 1513.66 Z\" fill=\"#000000\" fill-rule=\"evenodd\" fill-opacity=\"1\" /><path clip-path=\"url(#clip740)\" d=\"M1205.23 1544.91 L1221.54 1544.91 L1221.54 1548.85 L1199.6 1548.85 L1199.6 1544.91 Q1202.26 1542.16 1206.85 1537.53 Q1211.45 1532.88 1212.63 1531.53 Q1214.88 1529.01 1215.76 1527.27 Q1216.66 1525.51 1216.66 1523.82 Q1216.66 1521.07 1214.72 1519.33 Q1212.79 1517.6 1209.69 1517.6 Q1207.49 1517.6 1205.04 1518.36 Q1202.61 1519.13 1199.83 1520.68 L1199.83 1515.95 Q1202.66 1514.82 1205.11 1514.24 Q1207.56 1513.66 1209.6 1513.66 Q1214.97 1513.66 1218.16 1516.35 Q1221.36 1519.03 1221.36 1523.52 Q1221.36 1525.65 1220.55 1527.57 Q1219.76 1529.47 1217.66 1532.07 Q1217.08 1532.74 1213.98 1535.95 Q1210.87 1539.15 1205.23 1544.91 Z\" fill=\"#000000\" fill-rule=\"evenodd\" fill-opacity=\"1\" /><path clip-path=\"url(#clip740)\" d=\"M1241.36 1517.37 Q1237.75 1517.37 1235.92 1520.93 Q1234.11 1524.47 1234.11 1531.6 Q1234.11 1538.71 1235.92 1542.27 Q1237.75 1545.82 1241.36 1545.82 Q1244.99 1545.82 1246.8 1542.27 Q1248.63 1538.71 1248.63 1531.6 Q1248.63 1524.47 1246.8 1520.93 Q1244.99 1517.37 1241.36 1517.37 M1241.36 1513.66 Q1247.17 1513.66 1250.22 1518.27 Q1253.3 1522.85 1253.3 1531.6 Q1253.3 1540.33 1250.22 1544.94 Q1247.17 1549.52 1241.36 1549.52 Q1235.55 1549.52 1232.47 1544.94 Q1229.41 1540.33 1229.41 1531.6 Q1229.41 1522.85 1232.47 1518.27 Q1235.55 1513.66 1241.36 1513.66 Z\" fill=\"#000000\" fill-rule=\"evenodd\" fill-opacity=\"1\" /><path clip-path=\"url(#clip740)\" d=\"M1700.14 1530.21 Q1703.5 1530.93 1705.37 1533.2 Q1707.27 1535.47 1707.27 1538.8 Q1707.27 1543.92 1703.75 1546.72 Q1700.24 1549.52 1693.75 1549.52 Q1691.58 1549.52 1689.26 1549.08 Q1686.97 1548.66 1684.52 1547.81 L1684.52 1543.29 Q1686.46 1544.43 1688.78 1545.01 Q1691.09 1545.58 1693.62 1545.58 Q1698.01 1545.58 1700.31 1543.85 Q1702.62 1542.11 1702.62 1538.8 Q1702.62 1535.75 1700.47 1534.03 Q1698.34 1532.3 1694.52 1532.3 L1690.49 1532.3 L1690.49 1528.45 L1694.7 1528.45 Q1698.15 1528.45 1699.98 1527.09 Q1701.81 1525.7 1701.81 1523.11 Q1701.81 1520.45 1699.91 1519.03 Q1698.04 1517.6 1694.52 1517.6 Q1692.6 1517.6 1690.4 1518.01 Q1688.2 1518.43 1685.56 1519.31 L1685.56 1515.14 Q1688.22 1514.4 1690.54 1514.03 Q1692.87 1513.66 1694.94 1513.66 Q1700.26 1513.66 1703.36 1516.09 Q1706.46 1518.5 1706.46 1522.62 Q1706.46 1525.49 1704.82 1527.48 Q1703.18 1529.45 1700.14 1530.21 Z\" fill=\"#000000\" fill-rule=\"evenodd\" fill-opacity=\"1\" /><path clip-path=\"url(#clip740)\" d=\"M1726.14 1517.37 Q1722.53 1517.37 1720.7 1520.93 Q1718.89 1524.47 1718.89 1531.6 Q1718.89 1538.71 1720.7 1542.27 Q1722.53 1545.82 1726.14 1545.82 Q1729.77 1545.82 1731.58 1542.27 Q1733.41 1538.71 1733.41 1531.6 Q1733.41 1524.47 1731.58 1520.93 Q1729.77 1517.37 1726.14 1517.37 M1726.14 1513.66 Q1731.95 1513.66 1735 1518.27 Q1738.08 1522.85 1738.08 1531.6 Q1738.08 1540.33 1735 1544.94 Q1731.95 1549.52 1726.14 1549.52 Q1720.33 1549.52 1717.25 1544.94 Q1714.19 1540.33 1714.19 1531.6 Q1714.19 1522.85 1717.25 1518.27 Q1720.33 1513.66 1726.14 1513.66 Z\" fill=\"#000000\" fill-rule=\"evenodd\" fill-opacity=\"1\" /><path clip-path=\"url(#clip740)\" d=\"M2184.32 1518.36 L2172.52 1536.81 L2184.32 1536.81 L2184.32 1518.36 M2183.09 1514.29 L2188.97 1514.29 L2188.97 1536.81 L2193.9 1536.81 L2193.9 1540.7 L2188.97 1540.7 L2188.97 1548.85 L2184.32 1548.85 L2184.32 1540.7 L2168.72 1540.7 L2168.72 1536.19 L2183.09 1514.29 Z\" fill=\"#000000\" fill-rule=\"evenodd\" fill-opacity=\"1\" /><path clip-path=\"url(#clip740)\" d=\"M2211.64 1517.37 Q2208.02 1517.37 2206.2 1520.93 Q2204.39 1524.47 2204.39 1531.6 Q2204.39 1538.71 2206.2 1542.27 Q2208.02 1545.82 2211.64 1545.82 Q2215.27 1545.82 2217.08 1542.27 Q2218.9 1538.71 2218.9 1531.6 Q2218.9 1524.47 2217.08 1520.93 Q2215.27 1517.37 2211.64 1517.37 M2211.64 1513.66 Q2217.45 1513.66 2220.5 1518.27 Q2223.58 1522.85 2223.58 1531.6 Q2223.58 1540.33 2220.5 1544.94 Q2217.45 1549.52 2211.64 1549.52 Q2205.83 1549.52 2202.75 1544.94 Q2199.69 1540.33 2199.69 1531.6 Q2199.69 1522.85 2202.75 1518.27 Q2205.83 1513.66 2211.64 1513.66 Z\" fill=\"#000000\" fill-rule=\"evenodd\" fill-opacity=\"1\" /><polyline clip-path=\"url(#clip742)\" style=\"stroke:#000000; stroke-linecap:butt; stroke-linejoin:round; stroke-width:2; stroke-opacity:0.1; fill:none\" points=\"\n",
       "  245.602,1246.25 2352.76,1246.25 \n",
       "  \"/>\n",
       "<polyline clip-path=\"url(#clip742)\" style=\"stroke:#000000; stroke-linecap:butt; stroke-linejoin:round; stroke-width:2; stroke-opacity:0.1; fill:none\" points=\"\n",
       "  245.602,920.881 2352.76,920.881 \n",
       "  \"/>\n",
       "<polyline clip-path=\"url(#clip742)\" style=\"stroke:#000000; stroke-linecap:butt; stroke-linejoin:round; stroke-width:2; stroke-opacity:0.1; fill:none\" points=\"\n",
       "  245.602,595.513 2352.76,595.513 \n",
       "  \"/>\n",
       "<polyline clip-path=\"url(#clip742)\" style=\"stroke:#000000; stroke-linecap:butt; stroke-linejoin:round; stroke-width:2; stroke-opacity:0.1; fill:none\" points=\"\n",
       "  245.602,270.145 2352.76,270.145 \n",
       "  \"/>\n",
       "<polyline clip-path=\"url(#clip740)\" style=\"stroke:#000000; stroke-linecap:butt; stroke-linejoin:round; stroke-width:4; stroke-opacity:1; fill:none\" points=\"\n",
       "  245.602,1486.45 245.602,47.2441 \n",
       "  \"/>\n",
       "<polyline clip-path=\"url(#clip740)\" style=\"stroke:#000000; stroke-linecap:butt; stroke-linejoin:round; stroke-width:4; stroke-opacity:1; fill:none\" points=\"\n",
       "  245.602,1246.25 264.5,1246.25 \n",
       "  \"/>\n",
       "<polyline clip-path=\"url(#clip740)\" style=\"stroke:#000000; stroke-linecap:butt; stroke-linejoin:round; stroke-width:4; stroke-opacity:1; fill:none\" points=\"\n",
       "  245.602,920.881 264.5,920.881 \n",
       "  \"/>\n",
       "<polyline clip-path=\"url(#clip740)\" style=\"stroke:#000000; stroke-linecap:butt; stroke-linejoin:round; stroke-width:4; stroke-opacity:1; fill:none\" points=\"\n",
       "  245.602,595.513 264.5,595.513 \n",
       "  \"/>\n",
       "<polyline clip-path=\"url(#clip740)\" style=\"stroke:#000000; stroke-linecap:butt; stroke-linejoin:round; stroke-width:4; stroke-opacity:1; fill:none\" points=\"\n",
       "  245.602,270.145 264.5,270.145 \n",
       "  \"/>\n",
       "<path clip-path=\"url(#clip740)\" d=\"M62.9365 1232.05 Q59.3254 1232.05 57.4967 1235.61 Q55.6912 1239.15 55.6912 1246.28 Q55.6912 1253.39 57.4967 1256.95 Q59.3254 1260.5 62.9365 1260.5 Q66.5707 1260.5 68.3763 1256.95 Q70.205 1253.39 70.205 1246.28 Q70.205 1239.15 68.3763 1235.61 Q66.5707 1232.05 62.9365 1232.05 M62.9365 1228.34 Q68.7467 1228.34 71.8022 1232.95 Q74.8809 1237.53 74.8809 1246.28 Q74.8809 1255.01 71.8022 1259.62 Q68.7467 1264.2 62.9365 1264.2 Q57.1264 1264.2 54.0477 1259.62 Q50.9921 1255.01 50.9921 1246.28 Q50.9921 1237.53 54.0477 1232.95 Q57.1264 1228.34 62.9365 1228.34 Z\" fill=\"#000000\" fill-rule=\"evenodd\" fill-opacity=\"1\" /><path clip-path=\"url(#clip740)\" d=\"M83.0984 1257.65 L87.9827 1257.65 L87.9827 1263.53 L83.0984 1263.53 L83.0984 1257.65 Z\" fill=\"#000000\" fill-rule=\"evenodd\" fill-opacity=\"1\" /><path clip-path=\"url(#clip740)\" d=\"M98.3067 1262.81 L98.3067 1258.55 Q100.066 1259.38 101.871 1259.82 Q103.677 1260.26 105.413 1260.26 Q110.043 1260.26 112.473 1257.16 Q114.927 1254.04 115.274 1247.7 Q113.932 1249.69 111.871 1250.75 Q109.811 1251.82 107.311 1251.82 Q102.126 1251.82 99.0937 1248.69 Q96.0845 1245.54 96.0845 1240.1 Q96.0845 1234.78 99.2326 1231.56 Q102.381 1228.34 107.612 1228.34 Q113.608 1228.34 116.756 1232.95 Q119.927 1237.53 119.927 1246.28 Q119.927 1254.45 116.038 1259.34 Q112.172 1264.2 105.621 1264.2 Q103.862 1264.2 102.057 1263.85 Q100.251 1263.51 98.3067 1262.81 M107.612 1248.16 Q110.76 1248.16 112.589 1246.01 Q114.441 1243.85 114.441 1240.1 Q114.441 1236.38 112.589 1234.22 Q110.76 1232.05 107.612 1232.05 Q104.464 1232.05 102.612 1234.22 Q100.784 1236.38 100.784 1240.1 Q100.784 1243.85 102.612 1246.01 Q104.464 1248.16 107.612 1248.16 Z\" fill=\"#000000\" fill-rule=\"evenodd\" fill-opacity=\"1\" /><path clip-path=\"url(#clip740)\" d=\"M128.469 1262.81 L128.469 1258.55 Q130.228 1259.38 132.033 1259.82 Q133.839 1260.26 135.575 1260.26 Q140.205 1260.26 142.635 1257.16 Q145.089 1254.04 145.436 1247.7 Q144.093 1249.69 142.033 1250.75 Q139.973 1251.82 137.473 1251.82 Q132.288 1251.82 129.256 1248.69 Q126.246 1245.54 126.246 1240.1 Q126.246 1234.78 129.394 1231.56 Q132.543 1228.34 137.774 1228.34 Q143.769 1228.34 146.918 1232.95 Q150.089 1237.53 150.089 1246.28 Q150.089 1254.45 146.2 1259.34 Q142.334 1264.2 135.783 1264.2 Q134.024 1264.2 132.219 1263.85 Q130.413 1263.51 128.469 1262.81 M137.774 1248.16 Q140.922 1248.16 142.751 1246.01 Q144.603 1243.85 144.603 1240.1 Q144.603 1236.38 142.751 1234.22 Q140.922 1232.05 137.774 1232.05 Q134.626 1232.05 132.774 1234.22 Q130.945 1236.38 130.945 1240.1 Q130.945 1243.85 132.774 1246.01 Q134.626 1248.16 137.774 1248.16 Z\" fill=\"#000000\" fill-rule=\"evenodd\" fill-opacity=\"1\" /><path clip-path=\"url(#clip740)\" d=\"M158.63 1262.81 L158.63 1258.55 Q160.39 1259.38 162.195 1259.82 Q164.001 1260.26 165.737 1260.26 Q170.366 1260.26 172.797 1257.16 Q175.251 1254.04 175.598 1247.7 Q174.255 1249.69 172.195 1250.75 Q170.135 1251.82 167.635 1251.82 Q162.45 1251.82 159.417 1248.69 Q156.408 1245.54 156.408 1240.1 Q156.408 1234.78 159.556 1231.56 Q162.704 1228.34 167.936 1228.34 Q173.931 1228.34 177.079 1232.95 Q180.251 1237.53 180.251 1246.28 Q180.251 1254.45 176.362 1259.34 Q172.496 1264.2 165.945 1264.2 Q164.186 1264.2 162.38 1263.85 Q160.575 1263.51 158.63 1262.81 M167.936 1248.16 Q171.084 1248.16 172.913 1246.01 Q174.765 1243.85 174.765 1240.1 Q174.765 1236.38 172.913 1234.22 Q171.084 1232.05 167.936 1232.05 Q164.788 1232.05 162.936 1234.22 Q161.107 1236.38 161.107 1240.1 Q161.107 1243.85 162.936 1246.01 Q164.788 1248.16 167.936 1248.16 Z\" fill=\"#000000\" fill-rule=\"evenodd\" fill-opacity=\"1\" /><path clip-path=\"url(#clip740)\" d=\"M188.7 1228.97 L207.056 1228.97 L207.056 1232.9 L192.982 1232.9 L192.982 1241.38 Q194.001 1241.03 195.019 1240.87 Q196.038 1240.68 197.056 1240.68 Q202.843 1240.68 206.223 1243.85 Q209.602 1247.02 209.602 1252.44 Q209.602 1258.02 206.13 1261.12 Q202.658 1264.2 196.339 1264.2 Q194.163 1264.2 191.894 1263.83 Q189.649 1263.46 187.241 1262.72 L187.241 1258.02 Q189.325 1259.15 191.547 1259.71 Q193.769 1260.26 196.246 1260.26 Q200.251 1260.26 202.589 1258.16 Q204.926 1256.05 204.926 1252.44 Q204.926 1248.83 202.589 1246.72 Q200.251 1244.62 196.246 1244.62 Q194.371 1244.62 192.496 1245.03 Q190.644 1245.45 188.7 1246.33 L188.7 1228.97 Z\" fill=\"#000000\" fill-rule=\"evenodd\" fill-opacity=\"1\" /><path clip-path=\"url(#clip740)\" d=\"M52.7514 934.226 L60.3902 934.226 L60.3902 907.86 L52.0801 909.527 L52.0801 905.267 L60.3439 903.601 L65.0198 903.601 L65.0198 934.226 L72.6587 934.226 L72.6587 938.161 L52.7514 938.161 L52.7514 934.226 Z\" fill=\"#000000\" fill-rule=\"evenodd\" fill-opacity=\"1\" /><path clip-path=\"url(#clip740)\" d=\"M82.1031 932.281 L86.9873 932.281 L86.9873 938.161 L82.1031 938.161 L82.1031 932.281 Z\" fill=\"#000000\" fill-rule=\"evenodd\" fill-opacity=\"1\" /><path clip-path=\"url(#clip740)\" d=\"M107.172 906.679 Q103.561 906.679 101.733 910.244 Q99.927 913.786 99.927 920.915 Q99.927 928.022 101.733 931.587 Q103.561 935.128 107.172 935.128 Q110.807 935.128 112.612 931.587 Q114.441 928.022 114.441 920.915 Q114.441 913.786 112.612 910.244 Q110.807 906.679 107.172 906.679 M107.172 902.976 Q112.983 902.976 116.038 907.582 Q119.117 912.165 119.117 920.915 Q119.117 929.642 116.038 934.249 Q112.983 938.832 107.172 938.832 Q101.362 938.832 98.2835 934.249 Q95.228 929.642 95.228 920.915 Q95.228 912.165 98.2835 907.582 Q101.362 902.976 107.172 902.976 Z\" fill=\"#000000\" fill-rule=\"evenodd\" fill-opacity=\"1\" /><path clip-path=\"url(#clip740)\" d=\"M137.334 906.679 Q133.723 906.679 131.894 910.244 Q130.089 913.786 130.089 920.915 Q130.089 928.022 131.894 931.587 Q133.723 935.128 137.334 935.128 Q140.968 935.128 142.774 931.587 Q144.603 928.022 144.603 920.915 Q144.603 913.786 142.774 910.244 Q140.968 906.679 137.334 906.679 M137.334 902.976 Q143.144 902.976 146.2 907.582 Q149.279 912.165 149.279 920.915 Q149.279 929.642 146.2 934.249 Q143.144 938.832 137.334 938.832 Q131.524 938.832 128.445 934.249 Q125.39 929.642 125.39 920.915 Q125.39 912.165 128.445 907.582 Q131.524 902.976 137.334 902.976 Z\" fill=\"#000000\" fill-rule=\"evenodd\" fill-opacity=\"1\" /><path clip-path=\"url(#clip740)\" d=\"M167.496 906.679 Q163.885 906.679 162.056 910.244 Q160.251 913.786 160.251 920.915 Q160.251 928.022 162.056 931.587 Q163.885 935.128 167.496 935.128 Q171.13 935.128 172.936 931.587 Q174.765 928.022 174.765 920.915 Q174.765 913.786 172.936 910.244 Q171.13 906.679 167.496 906.679 M167.496 902.976 Q173.306 902.976 176.362 907.582 Q179.441 912.165 179.441 920.915 Q179.441 929.642 176.362 934.249 Q173.306 938.832 167.496 938.832 Q161.686 938.832 158.607 934.249 Q155.552 929.642 155.552 920.915 Q155.552 912.165 158.607 907.582 Q161.686 902.976 167.496 902.976 Z\" fill=\"#000000\" fill-rule=\"evenodd\" fill-opacity=\"1\" /><path clip-path=\"url(#clip740)\" d=\"M197.658 906.679 Q194.047 906.679 192.218 910.244 Q190.413 913.786 190.413 920.915 Q190.413 928.022 192.218 931.587 Q194.047 935.128 197.658 935.128 Q201.292 935.128 203.098 931.587 Q204.926 928.022 204.926 920.915 Q204.926 913.786 203.098 910.244 Q201.292 906.679 197.658 906.679 M197.658 902.976 Q203.468 902.976 206.524 907.582 Q209.602 912.165 209.602 920.915 Q209.602 929.642 206.524 934.249 Q203.468 938.832 197.658 938.832 Q191.848 938.832 188.769 934.249 Q185.714 929.642 185.714 920.915 Q185.714 912.165 188.769 907.582 Q191.848 902.976 197.658 902.976 Z\" fill=\"#000000\" fill-rule=\"evenodd\" fill-opacity=\"1\" /><path clip-path=\"url(#clip740)\" d=\"M53.7467 608.858 L61.3856 608.858 L61.3856 582.492 L53.0754 584.159 L53.0754 579.9 L61.3393 578.233 L66.0152 578.233 L66.0152 608.858 L73.654 608.858 L73.654 612.793 L53.7467 612.793 L53.7467 608.858 Z\" fill=\"#000000\" fill-rule=\"evenodd\" fill-opacity=\"1\" /><path clip-path=\"url(#clip740)\" d=\"M83.0984 606.913 L87.9827 606.913 L87.9827 612.793 L83.0984 612.793 L83.0984 606.913 Z\" fill=\"#000000\" fill-rule=\"evenodd\" fill-opacity=\"1\" /><path clip-path=\"url(#clip740)\" d=\"M108.168 581.312 Q104.557 581.312 102.728 584.876 Q100.922 588.418 100.922 595.548 Q100.922 602.654 102.728 606.219 Q104.557 609.761 108.168 609.761 Q111.802 609.761 113.608 606.219 Q115.436 602.654 115.436 595.548 Q115.436 588.418 113.608 584.876 Q111.802 581.312 108.168 581.312 M108.168 577.608 Q113.978 577.608 117.033 582.214 Q120.112 586.798 120.112 595.548 Q120.112 604.275 117.033 608.881 Q113.978 613.464 108.168 613.464 Q102.358 613.464 99.2789 608.881 Q96.2234 604.275 96.2234 595.548 Q96.2234 586.798 99.2789 582.214 Q102.358 577.608 108.168 577.608 Z\" fill=\"#000000\" fill-rule=\"evenodd\" fill-opacity=\"1\" /><path clip-path=\"url(#clip740)\" d=\"M138.33 581.312 Q134.719 581.312 132.89 584.876 Q131.084 588.418 131.084 595.548 Q131.084 602.654 132.89 606.219 Q134.719 609.761 138.33 609.761 Q141.964 609.761 143.769 606.219 Q145.598 602.654 145.598 595.548 Q145.598 588.418 143.769 584.876 Q141.964 581.312 138.33 581.312 M138.33 577.608 Q144.14 577.608 147.195 582.214 Q150.274 586.798 150.274 595.548 Q150.274 604.275 147.195 608.881 Q144.14 613.464 138.33 613.464 Q132.519 613.464 129.441 608.881 Q126.385 604.275 126.385 595.548 Q126.385 586.798 129.441 582.214 Q132.519 577.608 138.33 577.608 Z\" fill=\"#000000\" fill-rule=\"evenodd\" fill-opacity=\"1\" /><path clip-path=\"url(#clip740)\" d=\"M168.491 581.312 Q164.88 581.312 163.052 584.876 Q161.246 588.418 161.246 595.548 Q161.246 602.654 163.052 606.219 Q164.88 609.761 168.491 609.761 Q172.126 609.761 173.931 606.219 Q175.76 602.654 175.76 595.548 Q175.76 588.418 173.931 584.876 Q172.126 581.312 168.491 581.312 M168.491 577.608 Q174.302 577.608 177.357 582.214 Q180.436 586.798 180.436 595.548 Q180.436 604.275 177.357 608.881 Q174.302 613.464 168.491 613.464 Q162.681 613.464 159.603 608.881 Q156.547 604.275 156.547 595.548 Q156.547 586.798 159.603 582.214 Q162.681 577.608 168.491 577.608 Z\" fill=\"#000000\" fill-rule=\"evenodd\" fill-opacity=\"1\" /><path clip-path=\"url(#clip740)\" d=\"M188.7 578.233 L207.056 578.233 L207.056 582.168 L192.982 582.168 L192.982 590.64 Q194.001 590.293 195.019 590.131 Q196.038 589.946 197.056 589.946 Q202.843 589.946 206.223 593.117 Q209.602 596.288 209.602 601.705 Q209.602 607.284 206.13 610.386 Q202.658 613.464 196.339 613.464 Q194.163 613.464 191.894 613.094 Q189.649 612.724 187.241 611.983 L187.241 607.284 Q189.325 608.418 191.547 608.974 Q193.769 609.529 196.246 609.529 Q200.251 609.529 202.589 607.423 Q204.926 605.316 204.926 601.705 Q204.926 598.094 202.589 595.988 Q200.251 593.881 196.246 593.881 Q194.371 593.881 192.496 594.298 Q190.644 594.714 188.7 595.594 L188.7 578.233 Z\" fill=\"#000000\" fill-rule=\"evenodd\" fill-opacity=\"1\" /><path clip-path=\"url(#clip740)\" d=\"M52.7514 283.49 L60.3902 283.49 L60.3902 257.125 L52.0801 258.791 L52.0801 254.532 L60.3439 252.865 L65.0198 252.865 L65.0198 283.49 L72.6587 283.49 L72.6587 287.425 L52.7514 287.425 L52.7514 283.49 Z\" fill=\"#000000\" fill-rule=\"evenodd\" fill-opacity=\"1\" /><path clip-path=\"url(#clip740)\" d=\"M82.1031 281.546 L86.9873 281.546 L86.9873 287.425 L82.1031 287.425 L82.1031 281.546 Z\" fill=\"#000000\" fill-rule=\"evenodd\" fill-opacity=\"1\" /><path clip-path=\"url(#clip740)\" d=\"M107.172 255.944 Q103.561 255.944 101.733 259.509 Q99.927 263.05 99.927 270.18 Q99.927 277.286 101.733 280.851 Q103.561 284.393 107.172 284.393 Q110.807 284.393 112.612 280.851 Q114.441 277.286 114.441 270.18 Q114.441 263.05 112.612 259.509 Q110.807 255.944 107.172 255.944 M107.172 252.24 Q112.983 252.24 116.038 256.847 Q119.117 261.43 119.117 270.18 Q119.117 278.907 116.038 283.513 Q112.983 288.097 107.172 288.097 Q101.362 288.097 98.2835 283.513 Q95.228 278.907 95.228 270.18 Q95.228 261.43 98.2835 256.847 Q101.362 252.24 107.172 252.24 Z\" fill=\"#000000\" fill-rule=\"evenodd\" fill-opacity=\"1\" /><path clip-path=\"url(#clip740)\" d=\"M137.334 255.944 Q133.723 255.944 131.894 259.509 Q130.089 263.05 130.089 270.18 Q130.089 277.286 131.894 280.851 Q133.723 284.393 137.334 284.393 Q140.968 284.393 142.774 280.851 Q144.603 277.286 144.603 270.18 Q144.603 263.05 142.774 259.509 Q140.968 255.944 137.334 255.944 M137.334 252.24 Q143.144 252.24 146.2 256.847 Q149.279 261.43 149.279 270.18 Q149.279 278.907 146.2 283.513 Q143.144 288.097 137.334 288.097 Q131.524 288.097 128.445 283.513 Q125.39 278.907 125.39 270.18 Q125.39 261.43 128.445 256.847 Q131.524 252.24 137.334 252.24 Z\" fill=\"#000000\" fill-rule=\"evenodd\" fill-opacity=\"1\" /><path clip-path=\"url(#clip740)\" d=\"M158.306 283.49 L165.945 283.49 L165.945 257.125 L157.635 258.791 L157.635 254.532 L165.899 252.865 L170.575 252.865 L170.575 283.49 L178.214 283.49 L178.214 287.425 L158.306 287.425 L158.306 283.49 Z\" fill=\"#000000\" fill-rule=\"evenodd\" fill-opacity=\"1\" /><path clip-path=\"url(#clip740)\" d=\"M197.658 255.944 Q194.047 255.944 192.218 259.509 Q190.413 263.05 190.413 270.18 Q190.413 277.286 192.218 280.851 Q194.047 284.393 197.658 284.393 Q201.292 284.393 203.098 280.851 Q204.926 277.286 204.926 270.18 Q204.926 263.05 203.098 259.509 Q201.292 255.944 197.658 255.944 M197.658 252.24 Q203.468 252.24 206.524 256.847 Q209.602 261.43 209.602 270.18 Q209.602 278.907 206.524 283.513 Q203.468 288.097 197.658 288.097 Q191.848 288.097 188.769 283.513 Q185.714 278.907 185.714 270.18 Q185.714 261.43 188.769 256.847 Q191.848 252.24 197.658 252.24 Z\" fill=\"#000000\" fill-rule=\"evenodd\" fill-opacity=\"1\" /><polyline clip-path=\"url(#clip742)\" style=\"stroke:#009af9; stroke-linecap:butt; stroke-linejoin:round; stroke-width:4; stroke-opacity:1; fill:none\" points=\"\n",
       "  305.239,1143.83 353.724,1010.42 402.209,1104.29 450.693,992.644 499.178,1025.83 547.663,1129.06 596.148,1048.08 644.633,87.9763 693.118,1233.91 741.603,1151.35 \n",
       "  790.088,1098 838.573,1036.34 887.058,1196.47 935.542,1101.75 984.027,1021.7 1032.51,1040.7 1081,980.951 1129.48,1004.72 1177.97,1238.01 1226.45,1202.88 \n",
       "  1274.94,1071.93 1323.42,1133.39 1371.91,1038.7 1420.39,1173.1 1468.88,1364.04 1517.36,1091.19 1565.85,1038.25 1614.33,1031.68 1662.82,1163.31 1711.3,1403.47 \n",
       "  1759.79,1076.13 1808.27,1129.15 1856.76,959.058 1905.24,1007.25 1953.73,1355.61 2002.21,1222.34 2050.7,1084.47 2099.18,1155.61 2147.66,1106.07 2196.15,1149.65 \n",
       "  2244.63,1445.72 2293.12,1047.95 \n",
       "  \"/>\n",
       "<path clip-path=\"url(#clip740)\" d=\"\n",
       "M1995.96 198.898 L2282.52 198.898 L2282.52 95.2176 L1995.96 95.2176  Z\n",
       "  \" fill=\"#ffffff\" fill-rule=\"evenodd\" fill-opacity=\"1\"/>\n",
       "<polyline clip-path=\"url(#clip740)\" style=\"stroke:#000000; stroke-linecap:butt; stroke-linejoin:round; stroke-width:4; stroke-opacity:1; fill:none\" points=\"\n",
       "  1995.96,198.898 2282.52,198.898 2282.52,95.2176 1995.96,95.2176 1995.96,198.898 \n",
       "  \"/>\n",
       "<polyline clip-path=\"url(#clip740)\" style=\"stroke:#009af9; stroke-linecap:butt; stroke-linejoin:round; stroke-width:4; stroke-opacity:1; fill:none\" points=\"\n",
       "  2019.37,147.058 2159.85,147.058 \n",
       "  \"/>\n",
       "<path clip-path=\"url(#clip740)\" d=\"M2197.1 166.745 Q2195.3 171.375 2193.59 172.787 Q2191.87 174.199 2189 174.199 L2185.6 174.199 L2185.6 170.634 L2188.1 170.634 Q2189.86 170.634 2190.83 169.8 Q2191.8 168.967 2192.98 165.865 L2193.75 163.921 L2183.26 138.412 L2187.78 138.412 L2195.88 158.689 L2203.98 138.412 L2208.49 138.412 L2197.1 166.745 Z\" fill=\"#000000\" fill-rule=\"evenodd\" fill-opacity=\"1\" /><path clip-path=\"url(#clip740)\" d=\"M2215.78 160.402 L2223.42 160.402 L2223.42 134.037 L2215.11 135.703 L2215.11 131.444 L2223.38 129.778 L2228.05 129.778 L2228.05 160.402 L2235.69 160.402 L2235.69 164.338 L2215.78 164.338 L2215.78 160.402 Z\" fill=\"#000000\" fill-rule=\"evenodd\" fill-opacity=\"1\" /></svg>\n"
      ]
     },
     "execution_count": 30,
     "metadata": {},
     "output_type": "execute_result"
    }
   ],
   "source": [
    "Φ̂ₙ = zeros(42)\n",
    "ni = zeros(42, 42)\n",
    "for n=1:42\n",
    "    for i=1:42\n",
    "        ni[n, i] = Tₙᵢ[n] * πₙᵢ[n,i] * (ŵᵢ[i]^(-θ))\n",
    "    end\n",
    "    Φ̂ₙ[n] = sum(ni[n, :])\n",
    "end\n",
    "\n",
    "# New CES price index\n",
    "P̂ₙ = (Φ̂ₙ).^(-1/θ);\n",
    "\n",
    "# Share of spending of n on i \n",
    "π̂ₙᵢ = zeros(42, 42)\n",
    "dₙᵢ = ones(42, 42)\n",
    "for n = 1:size(dₙᵢ, 1)\n",
    "    for i = 1:size(dₙᵢ, 2) \n",
    "        π̂ₙᵢ[n, i] = T̂ₙᵢ[i] * (dₙᵢ[n, i] * x[1][i])^(-θ) / Φ̂ₙ[n]\n",
    "    end\n",
    "end\n",
    "\n",
    "# New expenditures\n",
    "X̂ₙ = x[1] .+ h(x[1]);"
   ]
  },
  {
   "cell_type": "code",
   "execution_count": null,
   "id": "worst-parameter",
   "metadata": {},
   "outputs": [],
   "source": []
  }
 ],
 "metadata": {
  "kernelspec": {
   "display_name": "Julia 1.6.4",
   "language": "julia",
   "name": "julia-1.6"
  },
  "language_info": {
   "file_extension": ".jl",
   "mimetype": "application/julia",
   "name": "julia",
   "version": "1.6.4"
  }
 },
 "nbformat": 4,
 "nbformat_minor": 5
}
