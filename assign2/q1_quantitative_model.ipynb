{
 "cells": [
  {
   "cell_type": "code",
   "execution_count": 43,
   "id": "legal-ability",
   "metadata": {},
   "outputs": [],
   "source": [
    "using Plots, Colors, DataFrames, CSV, GLM\n",
    "\n",
    "cd(\"/Users/junwong/Dropbox/Second Year/Dingel - Trade/Assignments\")"
   ]
  },
  {
   "cell_type": "markdown",
   "id": "elementary-calgary",
   "metadata": {},
   "source": [
    "# Quantitative Model"
   ]
  },
  {
   "cell_type": "markdown",
   "id": "reasonable-alabama",
   "metadata": {},
   "source": [
    "## Calibrating $X_{ni}$"
   ]
  },
  {
   "cell_type": "code",
   "execution_count": 44,
   "id": "unavailable-diana",
   "metadata": {},
   "outputs": [],
   "source": [
    "df = DataFrame(CSV.File(\"data/bilateral_trade_country/bilateral_trade_country.csv\"))\n",
    "\n",
    "Xₙᵢ⁰ = unstack(df, :country_dest, :country_org, :trade_flow2014)\n",
    "Xₙᵢ⁰ = Array(Xₙᵢ⁰[!,2:43])\n",
    "\n",
    "exp⁰ = combine(groupby(df, :country_org), :trade_flow2014 => sum, renamecols=false);\n",
    "imp⁰ = combine(groupby(df, :country_dest), :trade_flow2014 => sum, renamecols=false);\n",
    "rename!(imp⁰, :trade_flow2014 => :imports)\n",
    "yₙ = exp⁰[!,2] ./ imp⁰[!,2];\n",
    "\n",
    "df = leftjoin(df, imp⁰, on=:country_dest);\n",
    "transform!(df, [:trade_flow2014, :imports] => (./) => :pi_ni);\n",
    "πₙᵢ = unstack(df, :country_dest, :country_org, :pi_ni);\n",
    "πₙᵢ = Array(πₙᵢ[!, 2:43]);"
   ]
  },
  {
   "cell_type": "markdown",
   "id": "upper-blend",
   "metadata": {},
   "source": [
    "## Impact of a 10% increase in Chinese productivity"
   ]
  },
  {
   "cell_type": "code",
   "execution_count": 45,
   "id": "initial-shepherd",
   "metadata": {
    "scrolled": true
   },
   "outputs": [
    {
     "data": {
      "text/plain": [
       "0.01"
      ]
     },
     "execution_count": 45,
     "metadata": {},
     "output_type": "execute_result"
    }
   ],
   "source": [
    "# Setting T̂ₙᵢ\n",
    "T̂ₙᵢ = ones(42,1);\n",
    "T̂ₙᵢ[8] = 1.1;\n",
    "θ = 4;\n",
    "\n",
    "# Initialize vectors\n",
    "ŵ = ones(42, 1);\n",
    "\n",
    "# Transfer numeraire\n",
    "h(w) = w[end]\n",
    "\n",
    "# Parameters\n",
    "tol = 1e-10\n",
    "κ=0.01"
   ]
  },
  {
   "cell_type": "code",
   "execution_count": 46,
   "id": "assigned-calendar",
   "metadata": {
    "scrolled": true
   },
   "outputs": [
    {
     "data": {
      "text/plain": [
       "#25 (generic function with 1 method)"
      ]
     },
     "execution_count": 46,
     "metadata": {},
     "output_type": "execute_result"
    }
   ],
   "source": [
    "# Excess demand function \n",
    "excess_demand = function(ŵ, Xₙᵢ⁰, T̂, πₙᵢ, yₙ, θ, w0)\n",
    "    # get the denominator that is by n\n",
    "    dni = zeros(length(T̂), length(T̂))  \n",
    "    for i = 1:size(Xₙᵢ⁰, 2)\n",
    "        for n = 1:size(Xₙᵢ⁰, 1)\n",
    "            dni[n, i] = πₙᵢ[n, i] .* T̂[i] .* (ŵ[i] .^ (-θ))\n",
    "        end\n",
    "    end \n",
    "    \n",
    "    # get the rest of the calculations\n",
    "    res_i = zeros(length(T̂), 1)\n",
    "    for i = 1:size(Xₙᵢ⁰, 2)\n",
    "        res_by_n = zeros(length(T̂), 1)\n",
    "        denom_i = sum(Xₙᵢ⁰[:,i])\n",
    "        for n = 1:size(Xₙᵢ⁰, 1)\n",
    "            num_ni = Xₙᵢ⁰[n, i] * T̂[i] * ((ŵ[i]) ^ (-θ))\n",
    "            num_n = yₙ[n] .* ŵ[n] .+ (1 .- yₙ[n]) .* h(w0 .* ŵ) ./ h(w0)\n",
    "            denom_n = sum(dni[n, :])\n",
    "            res_by_n[n] = num_n * num_ni / denom_i / denom_n\n",
    "        end\n",
    "        res_i[i] = sum(res_by_n) - ŵ[i]\n",
    "    end\n",
    "    \n",
    "    return res_i\n",
    "end "
   ]
  },
  {
   "cell_type": "code",
   "execution_count": 47,
   "id": "liked-barcelona",
   "metadata": {},
   "outputs": [
    {
     "data": {
      "text/plain": [
       "#27 (generic function with 1 method)"
      ]
     },
     "execution_count": 47,
     "metadata": {},
     "output_type": "execute_result"
    }
   ],
   "source": [
    "# Iterating wrapper\n",
    "iterating_fn = function(ŵ, Xₙᵢ⁰, T̂, πₙᵢ, yₙ, θ, w0, tol, κ) \n",
    "    zᵢ = ones(length(T̂))\n",
    "    \n",
    "    while maximum(abs.(zᵢ)) > tol\n",
    "        iter +=1\n",
    "        zᵢ = excess_demand(ŵ, Xₙᵢ⁰, T̂, πₙᵢ, yₙ, θ, w0) \n",
    "        ŵ = ŵ .+ κ .* zᵢ\n",
    "        ŵ[end] = 1\n",
    "    end \n",
    "    \n",
    "    return [ŵ, zᵢ, iter]\n",
    "end     "
   ]
  },
  {
   "cell_type": "code",
   "execution_count": 48,
   "id": "specified-original",
   "metadata": {},
   "outputs": [
    {
     "name": "stdout",
     "output_type": "stream",
     "text": [
      "-0.0042254001559204335-0.0015119267799735825-0.002018234018251519-0.001677863566966642-0.0018846207780900404\n",
      "-0.004193258934968802-0.0015267574532096262-0.0020227695971866133-0.0016930638454645264-0.001882322870565778\n",
      "-0.004161191664822095-0.0015409559937860084-0.0020267584542281725-0.001707544465341826-0.001879861209081568\n",
      "-0.004129201368371915-0.001554537052483318-0.002030216829291387-0.001721323019064358-0.001877239502255601\n",
      "-0.004097290982414847-0.001567514976260287-0.0020331605598602476-0.001734416721110854-0.0018744613950235633\n",
      "-0.004065463359336108-0.0015799038143492483-0.0020356050900363076-0.0017468424157557338-0.0018715304696413915\n"
     ]
    },
    {
     "data": {
      "text/plain": [
       "3-element Vector{Any}:\n",
       "  [0.9997512819353416; 0.9999071840392993; … ; 0.999339151257065; 1.0]\n",
       "  [-0.004065463359336108; -0.0015799038143492483; … ; -0.010411379406528587; -0.0015346030449434611]\n",
       " 6"
      ]
     },
     "execution_count": 48,
     "metadata": {},
     "output_type": "execute_result"
    }
   ],
   "source": [
    "# Run function\n",
    "x = iterating_fn(ones(42, 1), Xₙᵢ⁰, T̂ₙᵢ, πₙᵢ, yₙ, θ, ones(42,1), tol, κ)"
   ]
  },
  {
   "cell_type": "markdown",
   "id": "understanding-hepatitis",
   "metadata": {},
   "source": [
    "## Changes in Real Wage and Expenditures"
   ]
  },
  {
   "cell_type": "markdown",
   "id": "median-watershed",
   "metadata": {},
   "source": [
    "Construct terms"
   ]
  },
  {
   "cell_type": "code",
   "execution_count": 57,
   "id": "partial-greene",
   "metadata": {
    "scrolled": true
   },
   "outputs": [],
   "source": [
    "Φ̂ₙ = zeros(42)\n",
    "ni = zeros(42, 42)\n",
    "for n=1:42\n",
    "    for i=1:42\n",
    "        ni[n, i] = T̂ₙᵢ[n] * πₙᵢ[n,i] * (x[1][i]^(-θ)) # add T in here \n",
    "    end\n",
    "    Φ̂ₙ[n] = sum(ni[n, :])\n",
    "end\n",
    "\n",
    "# New CES price index\n",
    "P̂ₙ = (Φ̂ₙ).^(-1/θ);\n",
    "\n",
    "# Real wage\n",
    "ω̂ = x[1] ./ P̂ₙ\n",
    "\n",
    "# Share of spending of n on i \n",
    "π̂ₙᵢ = zeros(42, 42)\n",
    "dₙᵢ = ones(42, 42)\n",
    "for n = 1:size(dₙᵢ, 1)\n",
    "    for i = 1:size(dₙᵢ, 2) \n",
    "        π̂ₙᵢ[n, i] = T̂ₙᵢ[i] * (dₙᵢ[n, i] * x[1][i])^(-θ) / Φ̂ₙ[n]\n",
    "    end\n",
    "end\n",
    "\n",
    "# Change in domestic trade share \n",
    "π̂ₙₙ = T̂ₙᵢ .* (x[1] ./ P̂ₙ).^(-θ)\n",
    "\n",
    "# New expenditures\n",
    "X̂ₙ = x[1] .+ h(x[1])\n",
    "Χ̂ₙ = X̂ₙ ./ P̂ₙ;"
   ]
  },
  {
   "cell_type": "markdown",
   "id": "supported-certificate",
   "metadata": {},
   "source": [
    "Regressions"
   ]
  },
  {
   "cell_type": "code",
   "execution_count": 58,
   "id": "australian-victoria",
   "metadata": {},
   "outputs": [
    {
     "data": {
      "image/svg+xml": [
       "<?xml version=\"1.0\" encoding=\"utf-8\"?>\n",
       "<svg xmlns=\"http://www.w3.org/2000/svg\" xmlns:xlink=\"http://www.w3.org/1999/xlink\" width=\"600\" height=\"400\" viewBox=\"0 0 2400 1600\">\n",
       "<defs>\n",
       "  <clipPath id=\"clip060\">\n",
       "    <rect x=\"0\" y=\"0\" width=\"2400\" height=\"1600\"/>\n",
       "  </clipPath>\n",
       "</defs>\n",
       "<path clip-path=\"url(#clip060)\" d=\"\n",
       "M0 1600 L2400 1600 L2400 0 L0 0  Z\n",
       "  \" fill=\"#ffffff\" fill-rule=\"evenodd\" fill-opacity=\"1\"/>\n",
       "<defs>\n",
       "  <clipPath id=\"clip061\">\n",
       "    <rect x=\"480\" y=\"0\" width=\"1681\" height=\"1600\"/>\n",
       "  </clipPath>\n",
       "</defs>\n",
       "<path clip-path=\"url(#clip060)\" d=\"\n",
       "M214.353 1486.45 L2352.76 1486.45 L2352.76 47.2441 L214.353 47.2441  Z\n",
       "  \" fill=\"#ffffff\" fill-rule=\"evenodd\" fill-opacity=\"1\"/>\n",
       "<defs>\n",
       "  <clipPath id=\"clip062\">\n",
       "    <rect x=\"214\" y=\"47\" width=\"2139\" height=\"1440\"/>\n",
       "  </clipPath>\n",
       "</defs>\n",
       "<polyline clip-path=\"url(#clip062)\" style=\"stroke:#000000; stroke-linecap:butt; stroke-linejoin:round; stroke-width:2; stroke-opacity:0.1; fill:none\" points=\"\n",
       "  225.669,1486.45 225.669,47.2441 \n",
       "  \"/>\n",
       "<polyline clip-path=\"url(#clip062)\" style=\"stroke:#000000; stroke-linecap:butt; stroke-linejoin:round; stroke-width:2; stroke-opacity:0.1; fill:none\" points=\"\n",
       "  717.709,1486.45 717.709,47.2441 \n",
       "  \"/>\n",
       "<polyline clip-path=\"url(#clip062)\" style=\"stroke:#000000; stroke-linecap:butt; stroke-linejoin:round; stroke-width:2; stroke-opacity:0.1; fill:none\" points=\"\n",
       "  1209.75,1486.45 1209.75,47.2441 \n",
       "  \"/>\n",
       "<polyline clip-path=\"url(#clip062)\" style=\"stroke:#000000; stroke-linecap:butt; stroke-linejoin:round; stroke-width:2; stroke-opacity:0.1; fill:none\" points=\"\n",
       "  1701.79,1486.45 1701.79,47.2441 \n",
       "  \"/>\n",
       "<polyline clip-path=\"url(#clip062)\" style=\"stroke:#000000; stroke-linecap:butt; stroke-linejoin:round; stroke-width:2; stroke-opacity:0.1; fill:none\" points=\"\n",
       "  2193.83,1486.45 2193.83,47.2441 \n",
       "  \"/>\n",
       "<polyline clip-path=\"url(#clip060)\" style=\"stroke:#000000; stroke-linecap:butt; stroke-linejoin:round; stroke-width:4; stroke-opacity:1; fill:none\" points=\"\n",
       "  214.353,1486.45 2352.76,1486.45 \n",
       "  \"/>\n",
       "<polyline clip-path=\"url(#clip060)\" style=\"stroke:#000000; stroke-linecap:butt; stroke-linejoin:round; stroke-width:4; stroke-opacity:1; fill:none\" points=\"\n",
       "  225.669,1486.45 225.669,1467.55 \n",
       "  \"/>\n",
       "<polyline clip-path=\"url(#clip060)\" style=\"stroke:#000000; stroke-linecap:butt; stroke-linejoin:round; stroke-width:4; stroke-opacity:1; fill:none\" points=\"\n",
       "  717.709,1486.45 717.709,1467.55 \n",
       "  \"/>\n",
       "<polyline clip-path=\"url(#clip060)\" style=\"stroke:#000000; stroke-linecap:butt; stroke-linejoin:round; stroke-width:4; stroke-opacity:1; fill:none\" points=\"\n",
       "  1209.75,1486.45 1209.75,1467.55 \n",
       "  \"/>\n",
       "<polyline clip-path=\"url(#clip060)\" style=\"stroke:#000000; stroke-linecap:butt; stroke-linejoin:round; stroke-width:4; stroke-opacity:1; fill:none\" points=\"\n",
       "  1701.79,1486.45 1701.79,1467.55 \n",
       "  \"/>\n",
       "<polyline clip-path=\"url(#clip060)\" style=\"stroke:#000000; stroke-linecap:butt; stroke-linejoin:round; stroke-width:4; stroke-opacity:1; fill:none\" points=\"\n",
       "  2193.83,1486.45 2193.83,1467.55 \n",
       "  \"/>\n",
       "<path clip-path=\"url(#clip060)\" d=\"M225.669 1517.37 Q222.058 1517.37 220.23 1520.93 Q218.424 1524.47 218.424 1531.6 Q218.424 1538.71 220.23 1542.27 Q222.058 1545.82 225.669 1545.82 Q229.304 1545.82 231.109 1542.27 Q232.938 1538.71 232.938 1531.6 Q232.938 1524.47 231.109 1520.93 Q229.304 1517.37 225.669 1517.37 M225.669 1513.66 Q231.48 1513.66 234.535 1518.27 Q237.614 1522.85 237.614 1531.6 Q237.614 1540.33 234.535 1544.94 Q231.48 1549.52 225.669 1549.52 Q219.859 1549.52 216.781 1544.94 Q213.725 1540.33 213.725 1531.6 Q213.725 1522.85 216.781 1518.27 Q219.859 1513.66 225.669 1513.66 Z\" fill=\"#000000\" fill-rule=\"evenodd\" fill-opacity=\"1\" /><path clip-path=\"url(#clip060)\" d=\"M692.397 1544.91 L700.035 1544.91 L700.035 1518.55 L691.725 1520.21 L691.725 1515.95 L699.989 1514.29 L704.665 1514.29 L704.665 1544.91 L712.304 1544.91 L712.304 1548.85 L692.397 1548.85 L692.397 1544.91 Z\" fill=\"#000000\" fill-rule=\"evenodd\" fill-opacity=\"1\" /><path clip-path=\"url(#clip060)\" d=\"M731.748 1517.37 Q728.137 1517.37 726.308 1520.93 Q724.503 1524.47 724.503 1531.6 Q724.503 1538.71 726.308 1542.27 Q728.137 1545.82 731.748 1545.82 Q735.382 1545.82 737.188 1542.27 Q739.017 1538.71 739.017 1531.6 Q739.017 1524.47 737.188 1520.93 Q735.382 1517.37 731.748 1517.37 M731.748 1513.66 Q737.558 1513.66 740.614 1518.27 Q743.693 1522.85 743.693 1531.6 Q743.693 1540.33 740.614 1544.94 Q737.558 1549.52 731.748 1549.52 Q725.938 1549.52 722.859 1544.94 Q719.804 1540.33 719.804 1531.6 Q719.804 1522.85 722.859 1518.27 Q725.938 1513.66 731.748 1513.66 Z\" fill=\"#000000\" fill-rule=\"evenodd\" fill-opacity=\"1\" /><path clip-path=\"url(#clip060)\" d=\"M1188.52 1544.91 L1204.84 1544.91 L1204.84 1548.85 L1182.9 1548.85 L1182.9 1544.91 Q1185.56 1542.16 1190.14 1537.53 Q1194.75 1532.88 1195.93 1531.53 Q1198.17 1529.01 1199.05 1527.27 Q1199.96 1525.51 1199.96 1523.82 Q1199.96 1521.07 1198.01 1519.33 Q1196.09 1517.6 1192.99 1517.6 Q1190.79 1517.6 1188.34 1518.36 Q1185.91 1519.13 1183.13 1520.68 L1183.13 1515.95 Q1185.95 1514.82 1188.41 1514.24 Q1190.86 1513.66 1192.9 1513.66 Q1198.27 1513.66 1201.46 1516.35 Q1204.66 1519.03 1204.66 1523.52 Q1204.66 1525.65 1203.85 1527.57 Q1203.06 1529.47 1200.95 1532.07 Q1200.37 1532.74 1197.27 1535.95 Q1194.17 1539.15 1188.52 1544.91 Z\" fill=\"#000000\" fill-rule=\"evenodd\" fill-opacity=\"1\" /><path clip-path=\"url(#clip060)\" d=\"M1224.66 1517.37 Q1221.04 1517.37 1219.22 1520.93 Q1217.41 1524.47 1217.41 1531.6 Q1217.41 1538.71 1219.22 1542.27 Q1221.04 1545.82 1224.66 1545.82 Q1228.29 1545.82 1230.1 1542.27 Q1231.92 1538.71 1231.92 1531.6 Q1231.92 1524.47 1230.1 1520.93 Q1228.29 1517.37 1224.66 1517.37 M1224.66 1513.66 Q1230.47 1513.66 1233.52 1518.27 Q1236.6 1522.85 1236.6 1531.6 Q1236.6 1540.33 1233.52 1544.94 Q1230.47 1549.52 1224.66 1549.52 Q1218.85 1549.52 1215.77 1544.94 Q1212.71 1540.33 1212.71 1531.6 Q1212.71 1522.85 1215.77 1518.27 Q1218.85 1513.66 1224.66 1513.66 Z\" fill=\"#000000\" fill-rule=\"evenodd\" fill-opacity=\"1\" /><path clip-path=\"url(#clip060)\" d=\"M1690.63 1530.21 Q1693.99 1530.93 1695.86 1533.2 Q1697.76 1535.47 1697.76 1538.8 Q1697.76 1543.92 1694.24 1546.72 Q1690.72 1549.52 1684.24 1549.52 Q1682.07 1549.52 1679.75 1549.08 Q1677.46 1548.66 1675.01 1547.81 L1675.01 1543.29 Q1676.95 1544.43 1679.26 1545.01 Q1681.58 1545.58 1684.1 1545.58 Q1688.5 1545.58 1690.79 1543.85 Q1693.11 1542.11 1693.11 1538.8 Q1693.11 1535.75 1690.95 1534.03 Q1688.82 1532.3 1685.01 1532.3 L1680.98 1532.3 L1680.98 1528.45 L1685.19 1528.45 Q1688.64 1528.45 1690.47 1527.09 Q1692.3 1525.7 1692.3 1523.11 Q1692.3 1520.45 1690.4 1519.03 Q1688.52 1517.6 1685.01 1517.6 Q1683.08 1517.6 1680.89 1518.01 Q1678.69 1518.43 1676.05 1519.31 L1676.05 1515.14 Q1678.71 1514.4 1681.02 1514.03 Q1683.36 1513.66 1685.42 1513.66 Q1690.75 1513.66 1693.85 1516.09 Q1696.95 1518.5 1696.95 1522.62 Q1696.95 1525.49 1695.31 1527.48 Q1693.66 1529.45 1690.63 1530.21 Z\" fill=\"#000000\" fill-rule=\"evenodd\" fill-opacity=\"1\" /><path clip-path=\"url(#clip060)\" d=\"M1716.63 1517.37 Q1713.01 1517.37 1711.19 1520.93 Q1709.38 1524.47 1709.38 1531.6 Q1709.38 1538.71 1711.19 1542.27 Q1713.01 1545.82 1716.63 1545.82 Q1720.26 1545.82 1722.07 1542.27 Q1723.89 1538.71 1723.89 1531.6 Q1723.89 1524.47 1722.07 1520.93 Q1720.26 1517.37 1716.63 1517.37 M1716.63 1513.66 Q1722.44 1513.66 1725.49 1518.27 Q1728.57 1522.85 1728.57 1531.6 Q1728.57 1540.33 1725.49 1544.94 Q1722.44 1549.52 1716.63 1549.52 Q1710.82 1549.52 1707.74 1544.94 Q1704.68 1540.33 1704.68 1531.6 Q1704.68 1522.85 1707.74 1518.27 Q1710.82 1513.66 1716.63 1513.66 Z\" fill=\"#000000\" fill-rule=\"evenodd\" fill-opacity=\"1\" /><path clip-path=\"url(#clip060)\" d=\"M2182 1518.36 L2170.19 1536.81 L2182 1536.81 L2182 1518.36 M2180.77 1514.29 L2186.65 1514.29 L2186.65 1536.81 L2191.58 1536.81 L2191.58 1540.7 L2186.65 1540.7 L2186.65 1548.85 L2182 1548.85 L2182 1540.7 L2166.4 1540.7 L2166.4 1536.19 L2180.77 1514.29 Z\" fill=\"#000000\" fill-rule=\"evenodd\" fill-opacity=\"1\" /><path clip-path=\"url(#clip060)\" d=\"M2209.31 1517.37 Q2205.7 1517.37 2203.87 1520.93 Q2202.07 1524.47 2202.07 1531.6 Q2202.07 1538.71 2203.87 1542.27 Q2205.7 1545.82 2209.31 1545.82 Q2212.95 1545.82 2214.75 1542.27 Q2216.58 1538.71 2216.58 1531.6 Q2216.58 1524.47 2214.75 1520.93 Q2212.95 1517.37 2209.31 1517.37 M2209.31 1513.66 Q2215.12 1513.66 2218.18 1518.27 Q2221.26 1522.85 2221.26 1531.6 Q2221.26 1540.33 2218.18 1544.94 Q2215.12 1549.52 2209.31 1549.52 Q2203.5 1549.52 2200.42 1544.94 Q2197.37 1540.33 2197.37 1531.6 Q2197.37 1522.85 2200.42 1518.27 Q2203.5 1513.66 2209.31 1513.66 Z\" fill=\"#000000\" fill-rule=\"evenodd\" fill-opacity=\"1\" /><polyline clip-path=\"url(#clip062)\" style=\"stroke:#000000; stroke-linecap:butt; stroke-linejoin:round; stroke-width:2; stroke-opacity:0.1; fill:none\" points=\"\n",
       "  214.353,1437.93 2352.76,1437.93 \n",
       "  \"/>\n",
       "<polyline clip-path=\"url(#clip062)\" style=\"stroke:#000000; stroke-linecap:butt; stroke-linejoin:round; stroke-width:2; stroke-opacity:0.1; fill:none\" points=\"\n",
       "  214.353,1158.73 2352.76,1158.73 \n",
       "  \"/>\n",
       "<polyline clip-path=\"url(#clip062)\" style=\"stroke:#000000; stroke-linecap:butt; stroke-linejoin:round; stroke-width:2; stroke-opacity:0.1; fill:none\" points=\"\n",
       "  214.353,879.533 2352.76,879.533 \n",
       "  \"/>\n",
       "<polyline clip-path=\"url(#clip062)\" style=\"stroke:#000000; stroke-linecap:butt; stroke-linejoin:round; stroke-width:2; stroke-opacity:0.1; fill:none\" points=\"\n",
       "  214.353,600.337 2352.76,600.337 \n",
       "  \"/>\n",
       "<polyline clip-path=\"url(#clip062)\" style=\"stroke:#000000; stroke-linecap:butt; stroke-linejoin:round; stroke-width:2; stroke-opacity:0.1; fill:none\" points=\"\n",
       "  214.353,321.141 2352.76,321.141 \n",
       "  \"/>\n",
       "<polyline clip-path=\"url(#clip060)\" style=\"stroke:#000000; stroke-linecap:butt; stroke-linejoin:round; stroke-width:4; stroke-opacity:1; fill:none\" points=\"\n",
       "  214.353,1486.45 214.353,47.2441 \n",
       "  \"/>\n",
       "<polyline clip-path=\"url(#clip060)\" style=\"stroke:#000000; stroke-linecap:butt; stroke-linejoin:round; stroke-width:4; stroke-opacity:1; fill:none\" points=\"\n",
       "  214.353,1437.93 233.25,1437.93 \n",
       "  \"/>\n",
       "<polyline clip-path=\"url(#clip060)\" style=\"stroke:#000000; stroke-linecap:butt; stroke-linejoin:round; stroke-width:4; stroke-opacity:1; fill:none\" points=\"\n",
       "  214.353,1158.73 233.25,1158.73 \n",
       "  \"/>\n",
       "<polyline clip-path=\"url(#clip060)\" style=\"stroke:#000000; stroke-linecap:butt; stroke-linejoin:round; stroke-width:4; stroke-opacity:1; fill:none\" points=\"\n",
       "  214.353,879.533 233.25,879.533 \n",
       "  \"/>\n",
       "<polyline clip-path=\"url(#clip060)\" style=\"stroke:#000000; stroke-linecap:butt; stroke-linejoin:round; stroke-width:4; stroke-opacity:1; fill:none\" points=\"\n",
       "  214.353,600.337 233.25,600.337 \n",
       "  \"/>\n",
       "<polyline clip-path=\"url(#clip060)\" style=\"stroke:#000000; stroke-linecap:butt; stroke-linejoin:round; stroke-width:4; stroke-opacity:1; fill:none\" points=\"\n",
       "  214.353,321.141 233.25,321.141 \n",
       "  \"/>\n",
       "<path clip-path=\"url(#clip060)\" d=\"M51.6634 1451.27 L59.3023 1451.27 L59.3023 1424.9 L50.9921 1426.57 L50.9921 1422.31 L59.256 1420.65 L63.9319 1420.65 L63.9319 1451.27 L71.5707 1451.27 L71.5707 1455.21 L51.6634 1455.21 L51.6634 1451.27 Z\" fill=\"#000000\" fill-rule=\"evenodd\" fill-opacity=\"1\" /><path clip-path=\"url(#clip060)\" d=\"M81.0151 1449.33 L85.8993 1449.33 L85.8993 1455.21 L81.0151 1455.21 L81.0151 1449.33 Z\" fill=\"#000000\" fill-rule=\"evenodd\" fill-opacity=\"1\" /><path clip-path=\"url(#clip060)\" d=\"M106.084 1423.72 Q102.473 1423.72 100.645 1427.29 Q98.8391 1430.83 98.8391 1437.96 Q98.8391 1445.07 100.645 1448.63 Q102.473 1452.17 106.084 1452.17 Q109.719 1452.17 111.524 1448.63 Q113.353 1445.07 113.353 1437.96 Q113.353 1430.83 111.524 1427.29 Q109.719 1423.72 106.084 1423.72 M106.084 1420.02 Q111.895 1420.02 114.95 1424.63 Q118.029 1429.21 118.029 1437.96 Q118.029 1446.69 114.95 1451.29 Q111.895 1455.88 106.084 1455.88 Q100.274 1455.88 97.1956 1451.29 Q94.14 1446.69 94.14 1437.96 Q94.14 1429.21 97.1956 1424.63 Q100.274 1420.02 106.084 1420.02 Z\" fill=\"#000000\" fill-rule=\"evenodd\" fill-opacity=\"1\" /><path clip-path=\"url(#clip060)\" d=\"M136.246 1423.72 Q132.635 1423.72 130.807 1427.29 Q129.001 1430.83 129.001 1437.96 Q129.001 1445.07 130.807 1448.63 Q132.635 1452.17 136.246 1452.17 Q139.881 1452.17 141.686 1448.63 Q143.515 1445.07 143.515 1437.96 Q143.515 1430.83 141.686 1427.29 Q139.881 1423.72 136.246 1423.72 M136.246 1420.02 Q142.056 1420.02 145.112 1424.63 Q148.191 1429.21 148.191 1437.96 Q148.191 1446.69 145.112 1451.29 Q142.056 1455.88 136.246 1455.88 Q130.436 1455.88 127.357 1451.29 Q124.302 1446.69 124.302 1437.96 Q124.302 1429.21 127.357 1424.63 Q130.436 1420.02 136.246 1420.02 Z\" fill=\"#000000\" fill-rule=\"evenodd\" fill-opacity=\"1\" /><path clip-path=\"url(#clip060)\" d=\"M166.408 1423.72 Q162.797 1423.72 160.968 1427.29 Q159.163 1430.83 159.163 1437.96 Q159.163 1445.07 160.968 1448.63 Q162.797 1452.17 166.408 1452.17 Q170.042 1452.17 171.848 1448.63 Q173.677 1445.07 173.677 1437.96 Q173.677 1430.83 171.848 1427.29 Q170.042 1423.72 166.408 1423.72 M166.408 1420.02 Q172.218 1420.02 175.274 1424.63 Q178.353 1429.21 178.353 1437.96 Q178.353 1446.69 175.274 1451.29 Q172.218 1455.88 166.408 1455.88 Q160.598 1455.88 157.519 1451.29 Q154.464 1446.69 154.464 1437.96 Q154.464 1429.21 157.519 1424.63 Q160.598 1420.02 166.408 1420.02 Z\" fill=\"#000000\" fill-rule=\"evenodd\" fill-opacity=\"1\" /><path clip-path=\"url(#clip060)\" d=\"M52.6588 1172.07 L60.2976 1172.07 L60.2976 1145.71 L51.9875 1147.38 L51.9875 1143.12 L60.2513 1141.45 L64.9272 1141.45 L64.9272 1172.07 L72.5661 1172.07 L72.5661 1176.01 L52.6588 1176.01 L52.6588 1172.07 Z\" fill=\"#000000\" fill-rule=\"evenodd\" fill-opacity=\"1\" /><path clip-path=\"url(#clip060)\" d=\"M82.0105 1170.13 L86.8947 1170.13 L86.8947 1176.01 L82.0105 1176.01 L82.0105 1170.13 Z\" fill=\"#000000\" fill-rule=\"evenodd\" fill-opacity=\"1\" /><path clip-path=\"url(#clip060)\" d=\"M107.08 1144.53 Q103.469 1144.53 101.64 1148.09 Q99.8345 1151.63 99.8345 1158.76 Q99.8345 1165.87 101.64 1169.44 Q103.469 1172.98 107.08 1172.98 Q110.714 1172.98 112.52 1169.44 Q114.348 1165.87 114.348 1158.76 Q114.348 1151.63 112.52 1148.09 Q110.714 1144.53 107.08 1144.53 M107.08 1140.82 Q112.89 1140.82 115.945 1145.43 Q119.024 1150.01 119.024 1158.76 Q119.024 1167.49 115.945 1172.1 Q112.89 1176.68 107.08 1176.68 Q101.27 1176.68 98.1909 1172.1 Q95.1354 1167.49 95.1354 1158.76 Q95.1354 1150.01 98.1909 1145.43 Q101.27 1140.82 107.08 1140.82 Z\" fill=\"#000000\" fill-rule=\"evenodd\" fill-opacity=\"1\" /><path clip-path=\"url(#clip060)\" d=\"M137.242 1144.53 Q133.631 1144.53 131.802 1148.09 Q129.996 1151.63 129.996 1158.76 Q129.996 1165.87 131.802 1169.44 Q133.631 1172.98 137.242 1172.98 Q140.876 1172.98 142.681 1169.44 Q144.51 1165.87 144.51 1158.76 Q144.51 1151.63 142.681 1148.09 Q140.876 1144.53 137.242 1144.53 M137.242 1140.82 Q143.052 1140.82 146.107 1145.43 Q149.186 1150.01 149.186 1158.76 Q149.186 1167.49 146.107 1172.1 Q143.052 1176.68 137.242 1176.68 Q131.432 1176.68 128.353 1172.1 Q125.297 1167.49 125.297 1158.76 Q125.297 1150.01 128.353 1145.43 Q131.432 1140.82 137.242 1140.82 Z\" fill=\"#000000\" fill-rule=\"evenodd\" fill-opacity=\"1\" /><path clip-path=\"url(#clip060)\" d=\"M157.45 1141.45 L175.806 1141.45 L175.806 1145.38 L161.732 1145.38 L161.732 1153.86 Q162.751 1153.51 163.769 1153.35 Q164.788 1153.16 165.806 1153.16 Q171.593 1153.16 174.973 1156.33 Q178.353 1159.5 178.353 1164.92 Q178.353 1170.5 174.88 1173.6 Q171.408 1176.68 165.089 1176.68 Q162.913 1176.68 160.644 1176.31 Q158.399 1175.94 155.992 1175.2 L155.992 1170.5 Q158.075 1171.63 160.297 1172.19 Q162.519 1172.75 164.996 1172.75 Q169.001 1172.75 171.339 1170.64 Q173.677 1168.53 173.677 1164.92 Q173.677 1161.31 171.339 1159.2 Q169.001 1157.1 164.996 1157.1 Q163.121 1157.1 161.246 1157.51 Q159.394 1157.93 157.45 1158.81 L157.45 1141.45 Z\" fill=\"#000000\" fill-rule=\"evenodd\" fill-opacity=\"1\" /><path clip-path=\"url(#clip060)\" d=\"M51.6634 892.878 L59.3023 892.878 L59.3023 866.513 L50.9921 868.179 L50.9921 863.92 L59.256 862.253 L63.9319 862.253 L63.9319 892.878 L71.5707 892.878 L71.5707 896.813 L51.6634 896.813 L51.6634 892.878 Z\" fill=\"#000000\" fill-rule=\"evenodd\" fill-opacity=\"1\" /><path clip-path=\"url(#clip060)\" d=\"M81.0151 890.934 L85.8993 890.934 L85.8993 896.813 L81.0151 896.813 L81.0151 890.934 Z\" fill=\"#000000\" fill-rule=\"evenodd\" fill-opacity=\"1\" /><path clip-path=\"url(#clip060)\" d=\"M106.084 865.332 Q102.473 865.332 100.645 868.897 Q98.8391 872.438 98.8391 879.568 Q98.8391 886.674 100.645 890.239 Q102.473 893.781 106.084 893.781 Q109.719 893.781 111.524 890.239 Q113.353 886.674 113.353 879.568 Q113.353 872.438 111.524 868.897 Q109.719 865.332 106.084 865.332 M106.084 861.628 Q111.895 861.628 114.95 866.235 Q118.029 870.818 118.029 879.568 Q118.029 888.295 114.95 892.901 Q111.895 897.485 106.084 897.485 Q100.274 897.485 97.1956 892.901 Q94.14 888.295 94.14 879.568 Q94.14 870.818 97.1956 866.235 Q100.274 861.628 106.084 861.628 Z\" fill=\"#000000\" fill-rule=\"evenodd\" fill-opacity=\"1\" /><path clip-path=\"url(#clip060)\" d=\"M127.057 892.878 L134.695 892.878 L134.695 866.513 L126.385 868.179 L126.385 863.92 L134.649 862.253 L139.325 862.253 L139.325 892.878 L146.964 892.878 L146.964 896.813 L127.057 896.813 L127.057 892.878 Z\" fill=\"#000000\" fill-rule=\"evenodd\" fill-opacity=\"1\" /><path clip-path=\"url(#clip060)\" d=\"M166.408 865.332 Q162.797 865.332 160.968 868.897 Q159.163 872.438 159.163 879.568 Q159.163 886.674 160.968 890.239 Q162.797 893.781 166.408 893.781 Q170.042 893.781 171.848 890.239 Q173.677 886.674 173.677 879.568 Q173.677 872.438 171.848 868.897 Q170.042 865.332 166.408 865.332 M166.408 861.628 Q172.218 861.628 175.274 866.235 Q178.353 870.818 178.353 879.568 Q178.353 888.295 175.274 892.901 Q172.218 897.485 166.408 897.485 Q160.598 897.485 157.519 892.901 Q154.464 888.295 154.464 879.568 Q154.464 870.818 157.519 866.235 Q160.598 861.628 166.408 861.628 Z\" fill=\"#000000\" fill-rule=\"evenodd\" fill-opacity=\"1\" /><path clip-path=\"url(#clip060)\" d=\"M52.6588 613.682 L60.2976 613.682 L60.2976 587.317 L51.9875 588.983 L51.9875 584.724 L60.2513 583.057 L64.9272 583.057 L64.9272 613.682 L72.5661 613.682 L72.5661 617.617 L52.6588 617.617 L52.6588 613.682 Z\" fill=\"#000000\" fill-rule=\"evenodd\" fill-opacity=\"1\" /><path clip-path=\"url(#clip060)\" d=\"M82.0105 611.738 L86.8947 611.738 L86.8947 617.617 L82.0105 617.617 L82.0105 611.738 Z\" fill=\"#000000\" fill-rule=\"evenodd\" fill-opacity=\"1\" /><path clip-path=\"url(#clip060)\" d=\"M107.08 586.136 Q103.469 586.136 101.64 589.701 Q99.8345 593.242 99.8345 600.372 Q99.8345 607.479 101.64 611.043 Q103.469 614.585 107.08 614.585 Q110.714 614.585 112.52 611.043 Q114.348 607.479 114.348 600.372 Q114.348 593.242 112.52 589.701 Q110.714 586.136 107.08 586.136 M107.08 582.432 Q112.89 582.432 115.945 587.039 Q119.024 591.622 119.024 600.372 Q119.024 609.099 115.945 613.705 Q112.89 618.289 107.08 618.289 Q101.27 618.289 98.1909 613.705 Q95.1354 609.099 95.1354 600.372 Q95.1354 591.622 98.1909 587.039 Q101.27 582.432 107.08 582.432 Z\" fill=\"#000000\" fill-rule=\"evenodd\" fill-opacity=\"1\" /><path clip-path=\"url(#clip060)\" d=\"M128.052 613.682 L135.691 613.682 L135.691 587.317 L127.381 588.983 L127.381 584.724 L135.644 583.057 L140.32 583.057 L140.32 613.682 L147.959 613.682 L147.959 617.617 L128.052 617.617 L128.052 613.682 Z\" fill=\"#000000\" fill-rule=\"evenodd\" fill-opacity=\"1\" /><path clip-path=\"url(#clip060)\" d=\"M157.45 583.057 L175.806 583.057 L175.806 586.993 L161.732 586.993 L161.732 595.465 Q162.751 595.117 163.769 594.955 Q164.788 594.77 165.806 594.77 Q171.593 594.77 174.973 597.942 Q178.353 601.113 178.353 606.529 Q178.353 612.108 174.88 615.21 Q171.408 618.289 165.089 618.289 Q162.913 618.289 160.644 617.918 Q158.399 617.548 155.992 616.807 L155.992 612.108 Q158.075 613.242 160.297 613.798 Q162.519 614.353 164.996 614.353 Q169.001 614.353 171.339 612.247 Q173.677 610.141 173.677 606.529 Q173.677 602.918 171.339 600.812 Q169.001 598.705 164.996 598.705 Q163.121 598.705 161.246 599.122 Q159.394 599.539 157.45 600.418 L157.45 583.057 Z\" fill=\"#000000\" fill-rule=\"evenodd\" fill-opacity=\"1\" /><path clip-path=\"url(#clip060)\" d=\"M51.6634 334.486 L59.3023 334.486 L59.3023 308.121 L50.9921 309.787 L50.9921 305.528 L59.256 303.861 L63.9319 303.861 L63.9319 334.486 L71.5707 334.486 L71.5707 338.421 L51.6634 338.421 L51.6634 334.486 Z\" fill=\"#000000\" fill-rule=\"evenodd\" fill-opacity=\"1\" /><path clip-path=\"url(#clip060)\" d=\"M81.0151 332.542 L85.8993 332.542 L85.8993 338.421 L81.0151 338.421 L81.0151 332.542 Z\" fill=\"#000000\" fill-rule=\"evenodd\" fill-opacity=\"1\" /><path clip-path=\"url(#clip060)\" d=\"M106.084 306.94 Q102.473 306.94 100.645 310.505 Q98.8391 314.047 98.8391 321.176 Q98.8391 328.283 100.645 331.847 Q102.473 335.389 106.084 335.389 Q109.719 335.389 111.524 331.847 Q113.353 328.283 113.353 321.176 Q113.353 314.047 111.524 310.505 Q109.719 306.94 106.084 306.94 M106.084 303.236 Q111.895 303.236 114.95 307.843 Q118.029 312.426 118.029 321.176 Q118.029 329.903 114.95 334.509 Q111.895 339.093 106.084 339.093 Q100.274 339.093 97.1956 334.509 Q94.14 329.903 94.14 321.176 Q94.14 312.426 97.1956 307.843 Q100.274 303.236 106.084 303.236 Z\" fill=\"#000000\" fill-rule=\"evenodd\" fill-opacity=\"1\" /><path clip-path=\"url(#clip060)\" d=\"M130.274 334.486 L146.593 334.486 L146.593 338.421 L124.649 338.421 L124.649 334.486 Q127.311 331.732 131.894 327.102 Q136.501 322.449 137.681 321.107 Q139.927 318.584 140.806 316.847 Q141.709 315.088 141.709 313.398 Q141.709 310.644 139.765 308.908 Q137.844 307.172 134.742 307.172 Q132.543 307.172 130.089 307.935 Q127.658 308.699 124.881 310.25 L124.881 305.528 Q127.705 304.394 130.158 303.815 Q132.612 303.236 134.649 303.236 Q140.019 303.236 143.214 305.922 Q146.408 308.607 146.408 313.098 Q146.408 315.227 145.598 317.148 Q144.811 319.047 142.705 321.639 Q142.126 322.31 139.024 325.528 Q135.922 328.722 130.274 334.486 Z\" fill=\"#000000\" fill-rule=\"evenodd\" fill-opacity=\"1\" /><path clip-path=\"url(#clip060)\" d=\"M166.408 306.94 Q162.797 306.94 160.968 310.505 Q159.163 314.047 159.163 321.176 Q159.163 328.283 160.968 331.847 Q162.797 335.389 166.408 335.389 Q170.042 335.389 171.848 331.847 Q173.677 328.283 173.677 321.176 Q173.677 314.047 171.848 310.505 Q170.042 306.94 166.408 306.94 M166.408 303.236 Q172.218 303.236 175.274 307.843 Q178.353 312.426 178.353 321.176 Q178.353 329.903 175.274 334.509 Q172.218 339.093 166.408 339.093 Q160.598 339.093 157.519 334.509 Q154.464 329.903 154.464 321.176 Q154.464 312.426 157.519 307.843 Q160.598 303.236 166.408 303.236 Z\" fill=\"#000000\" fill-rule=\"evenodd\" fill-opacity=\"1\" /><polyline clip-path=\"url(#clip062)\" style=\"stroke:#009af9; stroke-linecap:butt; stroke-linejoin:round; stroke-width:4; stroke-opacity:1; fill:none\" points=\"\n",
       "  274.873,1438.91 324.077,1437.25 373.281,1437.8 422.485,1437.36 471.689,1437.92 520.893,1438.88 570.097,1437.57 619.301,87.9763 668.505,1438.45 717.709,1438.86 \n",
       "  766.913,1438.13 816.117,1437.46 865.321,1438.43 914.525,1438.43 963.729,1437.77 1012.93,1437.89 1062.14,1437.26 1111.34,1437.16 1160.54,1438.62 1209.75,1438.37 \n",
       "  1258.95,1437.59 1308.16,1438.31 1357.36,1437.6 1406.56,1438.57 1455.77,1441.2 1504.97,1436.82 1554.18,1438.04 1603.38,1437.51 1652.58,1438.83 1701.79,1439.64 \n",
       "  1750.99,1437.6 1800.2,1437.82 1849.4,1437.23 1898.6,1437.19 1947.81,1442.04 1997.01,1438.76 2046.22,1437.35 2095.42,1437.75 2144.62,1438.17 2193.83,1438.01 \n",
       "  2243.03,1445.72 2292.24,1437.6 \n",
       "  \"/>\n",
       "<path clip-path=\"url(#clip060)\" d=\"\n",
       "M1991.45 198.898 L2281.48 198.898 L2281.48 95.2176 L1991.45 95.2176  Z\n",
       "  \" fill=\"#ffffff\" fill-rule=\"evenodd\" fill-opacity=\"1\"/>\n",
       "<polyline clip-path=\"url(#clip060)\" style=\"stroke:#000000; stroke-linecap:butt; stroke-linejoin:round; stroke-width:4; stroke-opacity:1; fill:none\" points=\"\n",
       "  1991.45,198.898 2281.48,198.898 2281.48,95.2176 1991.45,95.2176 1991.45,198.898 \n",
       "  \"/>\n",
       "<polyline clip-path=\"url(#clip060)\" style=\"stroke:#009af9; stroke-linecap:butt; stroke-linejoin:round; stroke-width:4; stroke-opacity:1; fill:none\" points=\"\n",
       "  2015.21,147.058 2157.77,147.058 \n",
       "  \"/>\n",
       "<path clip-path=\"url(#clip060)\" d=\"M2195.37 166.745 Q2193.56 171.375 2191.85 172.787 Q2190.14 174.199 2187.27 174.199 L2183.86 174.199 L2183.86 170.634 L2186.36 170.634 Q2188.12 170.634 2189.09 169.8 Q2190.07 168.967 2191.25 165.865 L2192.01 163.921 L2181.53 138.412 L2186.04 138.412 L2194.14 158.689 L2202.24 138.412 L2206.76 138.412 L2195.37 166.745 Z\" fill=\"#000000\" fill-rule=\"evenodd\" fill-opacity=\"1\" /><path clip-path=\"url(#clip060)\" d=\"M2214.05 160.402 L2221.69 160.402 L2221.69 134.037 L2213.38 135.703 L2213.38 131.444 L2221.64 129.778 L2226.32 129.778 L2226.32 160.402 L2233.96 160.402 L2233.96 164.338 L2214.05 164.338 L2214.05 160.402 Z\" fill=\"#000000\" fill-rule=\"evenodd\" fill-opacity=\"1\" /></svg>\n"
      ]
     },
     "execution_count": 58,
     "metadata": {},
     "output_type": "execute_result"
    }
   ],
   "source": [
    "plot(ω̂)"
   ]
  },
  {
   "cell_type": "code",
   "execution_count": 61,
   "id": "likely-bangkok",
   "metadata": {},
   "outputs": [],
   "source": [
    "reg_data = hcat(ω̂,  Χ̂ₙ, Φ̂ₙ,  π̂ₙₙ, πₙᵢ[:,8])\n",
    "reg_data = DataFrame(reg_data, :auto)\n",
    "rename!(reg_data, [:real_wage, :real_exp, :market_acc, :domestic_share, :initial_chn]);"
   ]
  },
  {
   "cell_type": "code",
   "execution_count": 64,
   "id": "trained-tooth",
   "metadata": {},
   "outputs": [
    {
     "data": {
      "text/plain": [
       "StatsModels.TableRegressionModel{LinearModel{GLM.LmResp{Vector{Float64}}, GLM.DensePredChol{Float64, LinearAlgebra.CholeskyPivoted{Float64, Matrix{Float64}}}}, Matrix{Float64}}\n",
       "\n",
       "real_wage ~ 1 + market_acc + domestic_share + initial_chn\n",
       "\n",
       "Coefficients:\n",
       "────────────────────────────────────────────────────────────────────────────────\n",
       "                     Coef.  Std. Error      t  Pr(>|t|)   Lower 95%    Upper 95%\n",
       "────────────────────────────────────────────────────────────────────────────────\n",
       "(Intercept)      0.743357    0.117031    6.35    <1e-06   0.506439    0.980275\n",
       "market_acc      -0.0466133   0.0284001  -1.64    0.1090  -0.104106    0.0108797\n",
       "domestic_share   0.303094    0.135206    2.24    0.0309   0.0293829   0.576804\n",
       "initial_chn     -0.032602    0.0152937  -2.13    0.0396  -0.0635625  -0.00164147\n",
       "────────────────────────────────────────────────────────────────────────────────"
      ]
     },
     "execution_count": 64,
     "metadata": {},
     "output_type": "execute_result"
    }
   ],
   "source": [
    "lm(@formula(real_wage ~ market_acc + domestic_share + initial_chn), reg_data)\n",
    "lm(@formula(real_exp ~ market_acc + domestic_share + initial_chn), reg_data)"
   ]
  },
  {
   "cell_type": "markdown",
   "id": "painted-international",
   "metadata": {},
   "source": [
    "## Changing numeraire"
   ]
  },
  {
   "cell_type": "code",
   "execution_count": 59,
   "id": "psychological-relation",
   "metadata": {},
   "outputs": [
    {
     "name": "stdout",
     "output_type": "stream",
     "text": [
      "-0.0042254001559204335-0.0015119267799735825-0.002018234018251519-0.001677863566966642-0.0018846207780900404\n",
      "-0.004193108976557114-0.001529325748900745-0.0020254926506377835-0.001690938930129282-0.001880917178967878\n",
      "-0.0041608896648086535-0.0015460702706919793-0.002032152035858714-0.0017033646642435896-0.0018770659963354142\n",
      "-0.004128745405960643-0.0015621746743827991-0.0020382291644368555-0.0017151567362284625-0.0018730708633213355\n",
      "-0.004096679294886996-0.0015776530059850025-0.0020437406201674335-0.0017263307694155294-0.0018689353483046789\n",
      "-0.0040646943378225275-0.0015925190339086681-0.0020487025888902277-0.0017369020506111665-0.0018646629559504468\n"
     ]
    },
    {
     "data": {
      "text/plain": [
       "3-element Vector{Any}:\n",
       "  [0.9997513048216404; 0.9999068033048615; … ; 0.9993383592978293; 1.0]\n",
       "  [-0.0040646943378225275; -0.0015925190339086681; … ; -0.010437223107861548; -0.0015257894702489505]\n",
       " 6"
      ]
     },
     "execution_count": 59,
     "metadata": {},
     "output_type": "execute_result"
    }
   ],
   "source": [
    "# Transfer numeraire\n",
    "h(w) = w[8] # china is now transfer numeraire \n",
    "x = iterating_fn(ones(42, 1), Xₙᵢ⁰, T̂ₙᵢ, πₙᵢ, yₙ, θ, ones(42,1), tol, κ)"
   ]
  },
  {
   "cell_type": "code",
   "execution_count": 62,
   "id": "premier-freight",
   "metadata": {},
   "outputs": [],
   "source": [
    "Φ̂ₙ = zeros(42)\n",
    "ni = zeros(42, 42)\n",
    "for n=1:42\n",
    "    for i=1:42\n",
    "        ni[n, i] = T̂ₙᵢ[n] * πₙᵢ[n,i] * (x[1][i]^(-θ))\n",
    "    end\n",
    "    Φ̂ₙ[n] = sum(ni[n, :])\n",
    "end\n",
    "\n",
    "# New CES price index\n",
    "P̂ₙ = (Φ̂ₙ).^(-1/θ);\n",
    "\n",
    "# Share of spending of n on i \n",
    "π̂ₙᵢ = zeros(42, 42)\n",
    "dₙᵢ = ones(42, 42)\n",
    "for n = 1:size(dₙᵢ, 1)\n",
    "    for i = 1:size(dₙᵢ, 2) \n",
    "        π̂ₙᵢ[n, i] = T̂ₙᵢ[i] * (dₙᵢ[n, i] * x[1][i])^(-θ) / Φ̂ₙ[n]\n",
    "    end\n",
    "end\n",
    "\n",
    "# New expenditures\n",
    "X̂ₙ = x[1] .+ h(x[1]);"
   ]
  },
  {
   "cell_type": "code",
   "execution_count": 63,
   "id": "worst-parameter",
   "metadata": {},
   "outputs": [
    {
     "data": {
      "image/svg+xml": [
       "<?xml version=\"1.0\" encoding=\"utf-8\"?>\n",
       "<svg xmlns=\"http://www.w3.org/2000/svg\" xmlns:xlink=\"http://www.w3.org/1999/xlink\" width=\"600\" height=\"400\" viewBox=\"0 0 2400 1600\">\n",
       "<defs>\n",
       "  <clipPath id=\"clip100\">\n",
       "    <rect x=\"0\" y=\"0\" width=\"2400\" height=\"1600\"/>\n",
       "  </clipPath>\n",
       "</defs>\n",
       "<path clip-path=\"url(#clip100)\" d=\"\n",
       "M0 1600 L2400 1600 L2400 0 L0 0  Z\n",
       "  \" fill=\"#ffffff\" fill-rule=\"evenodd\" fill-opacity=\"1\"/>\n",
       "<defs>\n",
       "  <clipPath id=\"clip101\">\n",
       "    <rect x=\"480\" y=\"0\" width=\"1681\" height=\"1600\"/>\n",
       "  </clipPath>\n",
       "</defs>\n",
       "<path clip-path=\"url(#clip100)\" d=\"\n",
       "M214.353 1486.45 L2352.76 1486.45 L2352.76 47.2441 L214.353 47.2441  Z\n",
       "  \" fill=\"#ffffff\" fill-rule=\"evenodd\" fill-opacity=\"1\"/>\n",
       "<defs>\n",
       "  <clipPath id=\"clip102\">\n",
       "    <rect x=\"214\" y=\"47\" width=\"2139\" height=\"1440\"/>\n",
       "  </clipPath>\n",
       "</defs>\n",
       "<polyline clip-path=\"url(#clip102)\" style=\"stroke:#000000; stroke-linecap:butt; stroke-linejoin:round; stroke-width:2; stroke-opacity:0.1; fill:none\" points=\"\n",
       "  225.669,1486.45 225.669,47.2441 \n",
       "  \"/>\n",
       "<polyline clip-path=\"url(#clip102)\" style=\"stroke:#000000; stroke-linecap:butt; stroke-linejoin:round; stroke-width:2; stroke-opacity:0.1; fill:none\" points=\"\n",
       "  717.709,1486.45 717.709,47.2441 \n",
       "  \"/>\n",
       "<polyline clip-path=\"url(#clip102)\" style=\"stroke:#000000; stroke-linecap:butt; stroke-linejoin:round; stroke-width:2; stroke-opacity:0.1; fill:none\" points=\"\n",
       "  1209.75,1486.45 1209.75,47.2441 \n",
       "  \"/>\n",
       "<polyline clip-path=\"url(#clip102)\" style=\"stroke:#000000; stroke-linecap:butt; stroke-linejoin:round; stroke-width:2; stroke-opacity:0.1; fill:none\" points=\"\n",
       "  1701.79,1486.45 1701.79,47.2441 \n",
       "  \"/>\n",
       "<polyline clip-path=\"url(#clip102)\" style=\"stroke:#000000; stroke-linecap:butt; stroke-linejoin:round; stroke-width:2; stroke-opacity:0.1; fill:none\" points=\"\n",
       "  2193.83,1486.45 2193.83,47.2441 \n",
       "  \"/>\n",
       "<polyline clip-path=\"url(#clip100)\" style=\"stroke:#000000; stroke-linecap:butt; stroke-linejoin:round; stroke-width:4; stroke-opacity:1; fill:none\" points=\"\n",
       "  214.353,1486.45 2352.76,1486.45 \n",
       "  \"/>\n",
       "<polyline clip-path=\"url(#clip100)\" style=\"stroke:#000000; stroke-linecap:butt; stroke-linejoin:round; stroke-width:4; stroke-opacity:1; fill:none\" points=\"\n",
       "  225.669,1486.45 225.669,1467.55 \n",
       "  \"/>\n",
       "<polyline clip-path=\"url(#clip100)\" style=\"stroke:#000000; stroke-linecap:butt; stroke-linejoin:round; stroke-width:4; stroke-opacity:1; fill:none\" points=\"\n",
       "  717.709,1486.45 717.709,1467.55 \n",
       "  \"/>\n",
       "<polyline clip-path=\"url(#clip100)\" style=\"stroke:#000000; stroke-linecap:butt; stroke-linejoin:round; stroke-width:4; stroke-opacity:1; fill:none\" points=\"\n",
       "  1209.75,1486.45 1209.75,1467.55 \n",
       "  \"/>\n",
       "<polyline clip-path=\"url(#clip100)\" style=\"stroke:#000000; stroke-linecap:butt; stroke-linejoin:round; stroke-width:4; stroke-opacity:1; fill:none\" points=\"\n",
       "  1701.79,1486.45 1701.79,1467.55 \n",
       "  \"/>\n",
       "<polyline clip-path=\"url(#clip100)\" style=\"stroke:#000000; stroke-linecap:butt; stroke-linejoin:round; stroke-width:4; stroke-opacity:1; fill:none\" points=\"\n",
       "  2193.83,1486.45 2193.83,1467.55 \n",
       "  \"/>\n",
       "<path clip-path=\"url(#clip100)\" d=\"M225.669 1517.37 Q222.058 1517.37 220.23 1520.93 Q218.424 1524.47 218.424 1531.6 Q218.424 1538.71 220.23 1542.27 Q222.058 1545.82 225.669 1545.82 Q229.304 1545.82 231.109 1542.27 Q232.938 1538.71 232.938 1531.6 Q232.938 1524.47 231.109 1520.93 Q229.304 1517.37 225.669 1517.37 M225.669 1513.66 Q231.48 1513.66 234.535 1518.27 Q237.614 1522.85 237.614 1531.6 Q237.614 1540.33 234.535 1544.94 Q231.48 1549.52 225.669 1549.52 Q219.859 1549.52 216.781 1544.94 Q213.725 1540.33 213.725 1531.6 Q213.725 1522.85 216.781 1518.27 Q219.859 1513.66 225.669 1513.66 Z\" fill=\"#000000\" fill-rule=\"evenodd\" fill-opacity=\"1\" /><path clip-path=\"url(#clip100)\" d=\"M692.397 1544.91 L700.035 1544.91 L700.035 1518.55 L691.725 1520.21 L691.725 1515.95 L699.989 1514.29 L704.665 1514.29 L704.665 1544.91 L712.304 1544.91 L712.304 1548.85 L692.397 1548.85 L692.397 1544.91 Z\" fill=\"#000000\" fill-rule=\"evenodd\" fill-opacity=\"1\" /><path clip-path=\"url(#clip100)\" d=\"M731.748 1517.37 Q728.137 1517.37 726.308 1520.93 Q724.503 1524.47 724.503 1531.6 Q724.503 1538.71 726.308 1542.27 Q728.137 1545.82 731.748 1545.82 Q735.382 1545.82 737.188 1542.27 Q739.017 1538.71 739.017 1531.6 Q739.017 1524.47 737.188 1520.93 Q735.382 1517.37 731.748 1517.37 M731.748 1513.66 Q737.558 1513.66 740.614 1518.27 Q743.693 1522.85 743.693 1531.6 Q743.693 1540.33 740.614 1544.94 Q737.558 1549.52 731.748 1549.52 Q725.938 1549.52 722.859 1544.94 Q719.804 1540.33 719.804 1531.6 Q719.804 1522.85 722.859 1518.27 Q725.938 1513.66 731.748 1513.66 Z\" fill=\"#000000\" fill-rule=\"evenodd\" fill-opacity=\"1\" /><path clip-path=\"url(#clip100)\" d=\"M1188.52 1544.91 L1204.84 1544.91 L1204.84 1548.85 L1182.9 1548.85 L1182.9 1544.91 Q1185.56 1542.16 1190.14 1537.53 Q1194.75 1532.88 1195.93 1531.53 Q1198.17 1529.01 1199.05 1527.27 Q1199.96 1525.51 1199.96 1523.82 Q1199.96 1521.07 1198.01 1519.33 Q1196.09 1517.6 1192.99 1517.6 Q1190.79 1517.6 1188.34 1518.36 Q1185.91 1519.13 1183.13 1520.68 L1183.13 1515.95 Q1185.95 1514.82 1188.41 1514.24 Q1190.86 1513.66 1192.9 1513.66 Q1198.27 1513.66 1201.46 1516.35 Q1204.66 1519.03 1204.66 1523.52 Q1204.66 1525.65 1203.85 1527.57 Q1203.06 1529.47 1200.95 1532.07 Q1200.37 1532.74 1197.27 1535.95 Q1194.17 1539.15 1188.52 1544.91 Z\" fill=\"#000000\" fill-rule=\"evenodd\" fill-opacity=\"1\" /><path clip-path=\"url(#clip100)\" d=\"M1224.66 1517.37 Q1221.04 1517.37 1219.22 1520.93 Q1217.41 1524.47 1217.41 1531.6 Q1217.41 1538.71 1219.22 1542.27 Q1221.04 1545.82 1224.66 1545.82 Q1228.29 1545.82 1230.1 1542.27 Q1231.92 1538.71 1231.92 1531.6 Q1231.92 1524.47 1230.1 1520.93 Q1228.29 1517.37 1224.66 1517.37 M1224.66 1513.66 Q1230.47 1513.66 1233.52 1518.27 Q1236.6 1522.85 1236.6 1531.6 Q1236.6 1540.33 1233.52 1544.94 Q1230.47 1549.52 1224.66 1549.52 Q1218.85 1549.52 1215.77 1544.94 Q1212.71 1540.33 1212.71 1531.6 Q1212.71 1522.85 1215.77 1518.27 Q1218.85 1513.66 1224.66 1513.66 Z\" fill=\"#000000\" fill-rule=\"evenodd\" fill-opacity=\"1\" /><path clip-path=\"url(#clip100)\" d=\"M1690.63 1530.21 Q1693.99 1530.93 1695.86 1533.2 Q1697.76 1535.47 1697.76 1538.8 Q1697.76 1543.92 1694.24 1546.72 Q1690.72 1549.52 1684.24 1549.52 Q1682.07 1549.52 1679.75 1549.08 Q1677.46 1548.66 1675.01 1547.81 L1675.01 1543.29 Q1676.95 1544.43 1679.26 1545.01 Q1681.58 1545.58 1684.1 1545.58 Q1688.5 1545.58 1690.79 1543.85 Q1693.11 1542.11 1693.11 1538.8 Q1693.11 1535.75 1690.95 1534.03 Q1688.82 1532.3 1685.01 1532.3 L1680.98 1532.3 L1680.98 1528.45 L1685.19 1528.45 Q1688.64 1528.45 1690.47 1527.09 Q1692.3 1525.7 1692.3 1523.11 Q1692.3 1520.45 1690.4 1519.03 Q1688.52 1517.6 1685.01 1517.6 Q1683.08 1517.6 1680.89 1518.01 Q1678.69 1518.43 1676.05 1519.31 L1676.05 1515.14 Q1678.71 1514.4 1681.02 1514.03 Q1683.36 1513.66 1685.42 1513.66 Q1690.75 1513.66 1693.85 1516.09 Q1696.95 1518.5 1696.95 1522.62 Q1696.95 1525.49 1695.31 1527.48 Q1693.66 1529.45 1690.63 1530.21 Z\" fill=\"#000000\" fill-rule=\"evenodd\" fill-opacity=\"1\" /><path clip-path=\"url(#clip100)\" d=\"M1716.63 1517.37 Q1713.01 1517.37 1711.19 1520.93 Q1709.38 1524.47 1709.38 1531.6 Q1709.38 1538.71 1711.19 1542.27 Q1713.01 1545.82 1716.63 1545.82 Q1720.26 1545.82 1722.07 1542.27 Q1723.89 1538.71 1723.89 1531.6 Q1723.89 1524.47 1722.07 1520.93 Q1720.26 1517.37 1716.63 1517.37 M1716.63 1513.66 Q1722.44 1513.66 1725.49 1518.27 Q1728.57 1522.85 1728.57 1531.6 Q1728.57 1540.33 1725.49 1544.94 Q1722.44 1549.52 1716.63 1549.52 Q1710.82 1549.52 1707.74 1544.94 Q1704.68 1540.33 1704.68 1531.6 Q1704.68 1522.85 1707.74 1518.27 Q1710.82 1513.66 1716.63 1513.66 Z\" fill=\"#000000\" fill-rule=\"evenodd\" fill-opacity=\"1\" /><path clip-path=\"url(#clip100)\" d=\"M2182 1518.36 L2170.19 1536.81 L2182 1536.81 L2182 1518.36 M2180.77 1514.29 L2186.65 1514.29 L2186.65 1536.81 L2191.58 1536.81 L2191.58 1540.7 L2186.65 1540.7 L2186.65 1548.85 L2182 1548.85 L2182 1540.7 L2166.4 1540.7 L2166.4 1536.19 L2180.77 1514.29 Z\" fill=\"#000000\" fill-rule=\"evenodd\" fill-opacity=\"1\" /><path clip-path=\"url(#clip100)\" d=\"M2209.31 1517.37 Q2205.7 1517.37 2203.87 1520.93 Q2202.07 1524.47 2202.07 1531.6 Q2202.07 1538.71 2203.87 1542.27 Q2205.7 1545.82 2209.31 1545.82 Q2212.95 1545.82 2214.75 1542.27 Q2216.58 1538.71 2216.58 1531.6 Q2216.58 1524.47 2214.75 1520.93 Q2212.95 1517.37 2209.31 1517.37 M2209.31 1513.66 Q2215.12 1513.66 2218.18 1518.27 Q2221.26 1522.85 2221.26 1531.6 Q2221.26 1540.33 2218.18 1544.94 Q2215.12 1549.52 2209.31 1549.52 Q2203.5 1549.52 2200.42 1544.94 Q2197.37 1540.33 2197.37 1531.6 Q2197.37 1522.85 2200.42 1518.27 Q2203.5 1513.66 2209.31 1513.66 Z\" fill=\"#000000\" fill-rule=\"evenodd\" fill-opacity=\"1\" /><polyline clip-path=\"url(#clip102)\" style=\"stroke:#000000; stroke-linecap:butt; stroke-linejoin:round; stroke-width:2; stroke-opacity:0.1; fill:none\" points=\"\n",
       "  214.353,1437.91 2352.76,1437.91 \n",
       "  \"/>\n",
       "<polyline clip-path=\"url(#clip102)\" style=\"stroke:#000000; stroke-linecap:butt; stroke-linejoin:round; stroke-width:2; stroke-opacity:0.1; fill:none\" points=\"\n",
       "  214.353,1158.72 2352.76,1158.72 \n",
       "  \"/>\n",
       "<polyline clip-path=\"url(#clip102)\" style=\"stroke:#000000; stroke-linecap:butt; stroke-linejoin:round; stroke-width:2; stroke-opacity:0.1; fill:none\" points=\"\n",
       "  214.353,879.525 2352.76,879.525 \n",
       "  \"/>\n",
       "<polyline clip-path=\"url(#clip102)\" style=\"stroke:#000000; stroke-linecap:butt; stroke-linejoin:round; stroke-width:2; stroke-opacity:0.1; fill:none\" points=\"\n",
       "  214.353,600.331 2352.76,600.331 \n",
       "  \"/>\n",
       "<polyline clip-path=\"url(#clip102)\" style=\"stroke:#000000; stroke-linecap:butt; stroke-linejoin:round; stroke-width:2; stroke-opacity:0.1; fill:none\" points=\"\n",
       "  214.353,321.138 2352.76,321.138 \n",
       "  \"/>\n",
       "<polyline clip-path=\"url(#clip100)\" style=\"stroke:#000000; stroke-linecap:butt; stroke-linejoin:round; stroke-width:4; stroke-opacity:1; fill:none\" points=\"\n",
       "  214.353,1486.45 214.353,47.2441 \n",
       "  \"/>\n",
       "<polyline clip-path=\"url(#clip100)\" style=\"stroke:#000000; stroke-linecap:butt; stroke-linejoin:round; stroke-width:4; stroke-opacity:1; fill:none\" points=\"\n",
       "  214.353,1437.91 233.25,1437.91 \n",
       "  \"/>\n",
       "<polyline clip-path=\"url(#clip100)\" style=\"stroke:#000000; stroke-linecap:butt; stroke-linejoin:round; stroke-width:4; stroke-opacity:1; fill:none\" points=\"\n",
       "  214.353,1158.72 233.25,1158.72 \n",
       "  \"/>\n",
       "<polyline clip-path=\"url(#clip100)\" style=\"stroke:#000000; stroke-linecap:butt; stroke-linejoin:round; stroke-width:4; stroke-opacity:1; fill:none\" points=\"\n",
       "  214.353,879.525 233.25,879.525 \n",
       "  \"/>\n",
       "<polyline clip-path=\"url(#clip100)\" style=\"stroke:#000000; stroke-linecap:butt; stroke-linejoin:round; stroke-width:4; stroke-opacity:1; fill:none\" points=\"\n",
       "  214.353,600.331 233.25,600.331 \n",
       "  \"/>\n",
       "<polyline clip-path=\"url(#clip100)\" style=\"stroke:#000000; stroke-linecap:butt; stroke-linejoin:round; stroke-width:4; stroke-opacity:1; fill:none\" points=\"\n",
       "  214.353,321.138 233.25,321.138 \n",
       "  \"/>\n",
       "<path clip-path=\"url(#clip100)\" d=\"M51.6634 1451.26 L59.3023 1451.26 L59.3023 1424.89 L50.9921 1426.56 L50.9921 1422.3 L59.256 1420.63 L63.9319 1420.63 L63.9319 1451.26 L71.5707 1451.26 L71.5707 1455.19 L51.6634 1455.19 L51.6634 1451.26 Z\" fill=\"#000000\" fill-rule=\"evenodd\" fill-opacity=\"1\" /><path clip-path=\"url(#clip100)\" d=\"M81.0151 1449.31 L85.8993 1449.31 L85.8993 1455.19 L81.0151 1455.19 L81.0151 1449.31 Z\" fill=\"#000000\" fill-rule=\"evenodd\" fill-opacity=\"1\" /><path clip-path=\"url(#clip100)\" d=\"M106.084 1423.71 Q102.473 1423.71 100.645 1427.28 Q98.8391 1430.82 98.8391 1437.95 Q98.8391 1445.05 100.645 1448.62 Q102.473 1452.16 106.084 1452.16 Q109.719 1452.16 111.524 1448.62 Q113.353 1445.05 113.353 1437.95 Q113.353 1430.82 111.524 1427.28 Q109.719 1423.71 106.084 1423.71 M106.084 1420.01 Q111.895 1420.01 114.95 1424.61 Q118.029 1429.2 118.029 1437.95 Q118.029 1446.67 114.95 1451.28 Q111.895 1455.86 106.084 1455.86 Q100.274 1455.86 97.1956 1451.28 Q94.14 1446.67 94.14 1437.95 Q94.14 1429.2 97.1956 1424.61 Q100.274 1420.01 106.084 1420.01 Z\" fill=\"#000000\" fill-rule=\"evenodd\" fill-opacity=\"1\" /><path clip-path=\"url(#clip100)\" d=\"M136.246 1423.71 Q132.635 1423.71 130.807 1427.28 Q129.001 1430.82 129.001 1437.95 Q129.001 1445.05 130.807 1448.62 Q132.635 1452.16 136.246 1452.16 Q139.881 1452.16 141.686 1448.62 Q143.515 1445.05 143.515 1437.95 Q143.515 1430.82 141.686 1427.28 Q139.881 1423.71 136.246 1423.71 M136.246 1420.01 Q142.056 1420.01 145.112 1424.61 Q148.191 1429.2 148.191 1437.95 Q148.191 1446.67 145.112 1451.28 Q142.056 1455.86 136.246 1455.86 Q130.436 1455.86 127.357 1451.28 Q124.302 1446.67 124.302 1437.95 Q124.302 1429.2 127.357 1424.61 Q130.436 1420.01 136.246 1420.01 Z\" fill=\"#000000\" fill-rule=\"evenodd\" fill-opacity=\"1\" /><path clip-path=\"url(#clip100)\" d=\"M166.408 1423.71 Q162.797 1423.71 160.968 1427.28 Q159.163 1430.82 159.163 1437.95 Q159.163 1445.05 160.968 1448.62 Q162.797 1452.16 166.408 1452.16 Q170.042 1452.16 171.848 1448.62 Q173.677 1445.05 173.677 1437.95 Q173.677 1430.82 171.848 1427.28 Q170.042 1423.71 166.408 1423.71 M166.408 1420.01 Q172.218 1420.01 175.274 1424.61 Q178.353 1429.2 178.353 1437.95 Q178.353 1446.67 175.274 1451.28 Q172.218 1455.86 166.408 1455.86 Q160.598 1455.86 157.519 1451.28 Q154.464 1446.67 154.464 1437.95 Q154.464 1429.2 157.519 1424.61 Q160.598 1420.01 166.408 1420.01 Z\" fill=\"#000000\" fill-rule=\"evenodd\" fill-opacity=\"1\" /><path clip-path=\"url(#clip100)\" d=\"M52.6588 1172.06 L60.2976 1172.06 L60.2976 1145.7 L51.9875 1147.36 L51.9875 1143.11 L60.2513 1141.44 L64.9272 1141.44 L64.9272 1172.06 L72.5661 1172.06 L72.5661 1176 L52.6588 1176 L52.6588 1172.06 Z\" fill=\"#000000\" fill-rule=\"evenodd\" fill-opacity=\"1\" /><path clip-path=\"url(#clip100)\" d=\"M82.0105 1170.12 L86.8947 1170.12 L86.8947 1176 L82.0105 1176 L82.0105 1170.12 Z\" fill=\"#000000\" fill-rule=\"evenodd\" fill-opacity=\"1\" /><path clip-path=\"url(#clip100)\" d=\"M107.08 1144.52 Q103.469 1144.52 101.64 1148.08 Q99.8345 1151.62 99.8345 1158.75 Q99.8345 1165.86 101.64 1169.42 Q103.469 1172.97 107.08 1172.97 Q110.714 1172.97 112.52 1169.42 Q114.348 1165.86 114.348 1158.75 Q114.348 1151.62 112.52 1148.08 Q110.714 1144.52 107.08 1144.52 M107.08 1140.81 Q112.89 1140.81 115.945 1145.42 Q119.024 1150 119.024 1158.75 Q119.024 1167.48 115.945 1172.09 Q112.89 1176.67 107.08 1176.67 Q101.27 1176.67 98.1909 1172.09 Q95.1354 1167.48 95.1354 1158.75 Q95.1354 1150 98.1909 1145.42 Q101.27 1140.81 107.08 1140.81 Z\" fill=\"#000000\" fill-rule=\"evenodd\" fill-opacity=\"1\" /><path clip-path=\"url(#clip100)\" d=\"M137.242 1144.52 Q133.631 1144.52 131.802 1148.08 Q129.996 1151.62 129.996 1158.75 Q129.996 1165.86 131.802 1169.42 Q133.631 1172.97 137.242 1172.97 Q140.876 1172.97 142.681 1169.42 Q144.51 1165.86 144.51 1158.75 Q144.51 1151.62 142.681 1148.08 Q140.876 1144.52 137.242 1144.52 M137.242 1140.81 Q143.052 1140.81 146.107 1145.42 Q149.186 1150 149.186 1158.75 Q149.186 1167.48 146.107 1172.09 Q143.052 1176.67 137.242 1176.67 Q131.432 1176.67 128.353 1172.09 Q125.297 1167.48 125.297 1158.75 Q125.297 1150 128.353 1145.42 Q131.432 1140.81 137.242 1140.81 Z\" fill=\"#000000\" fill-rule=\"evenodd\" fill-opacity=\"1\" /><path clip-path=\"url(#clip100)\" d=\"M157.45 1141.44 L175.806 1141.44 L175.806 1145.37 L161.732 1145.37 L161.732 1153.85 Q162.751 1153.5 163.769 1153.34 Q164.788 1153.15 165.806 1153.15 Q171.593 1153.15 174.973 1156.32 Q178.353 1159.49 178.353 1164.91 Q178.353 1170.49 174.88 1173.59 Q171.408 1176.67 165.089 1176.67 Q162.913 1176.67 160.644 1176.3 Q158.399 1175.93 155.992 1175.19 L155.992 1170.49 Q158.075 1171.62 160.297 1172.18 Q162.519 1172.73 164.996 1172.73 Q169.001 1172.73 171.339 1170.63 Q173.677 1168.52 173.677 1164.91 Q173.677 1161.3 171.339 1159.19 Q169.001 1157.09 164.996 1157.09 Q163.121 1157.09 161.246 1157.5 Q159.394 1157.92 157.45 1158.8 L157.45 1141.44 Z\" fill=\"#000000\" fill-rule=\"evenodd\" fill-opacity=\"1\" /><path clip-path=\"url(#clip100)\" d=\"M51.6634 892.87 L59.3023 892.87 L59.3023 866.504 L50.9921 868.171 L50.9921 863.912 L59.256 862.245 L63.9319 862.245 L63.9319 892.87 L71.5707 892.87 L71.5707 896.805 L51.6634 896.805 L51.6634 892.87 Z\" fill=\"#000000\" fill-rule=\"evenodd\" fill-opacity=\"1\" /><path clip-path=\"url(#clip100)\" d=\"M81.0151 890.925 L85.8993 890.925 L85.8993 896.805 L81.0151 896.805 L81.0151 890.925 Z\" fill=\"#000000\" fill-rule=\"evenodd\" fill-opacity=\"1\" /><path clip-path=\"url(#clip100)\" d=\"M106.084 865.324 Q102.473 865.324 100.645 868.888 Q98.8391 872.43 98.8391 879.56 Q98.8391 886.666 100.645 890.231 Q102.473 893.773 106.084 893.773 Q109.719 893.773 111.524 890.231 Q113.353 886.666 113.353 879.56 Q113.353 872.43 111.524 868.888 Q109.719 865.324 106.084 865.324 M106.084 861.62 Q111.895 861.62 114.95 866.226 Q118.029 870.81 118.029 879.56 Q118.029 888.286 114.95 892.893 Q111.895 897.476 106.084 897.476 Q100.274 897.476 97.1956 892.893 Q94.14 888.286 94.14 879.56 Q94.14 870.81 97.1956 866.226 Q100.274 861.62 106.084 861.62 Z\" fill=\"#000000\" fill-rule=\"evenodd\" fill-opacity=\"1\" /><path clip-path=\"url(#clip100)\" d=\"M127.057 892.87 L134.695 892.87 L134.695 866.504 L126.385 868.171 L126.385 863.912 L134.649 862.245 L139.325 862.245 L139.325 892.87 L146.964 892.87 L146.964 896.805 L127.057 896.805 L127.057 892.87 Z\" fill=\"#000000\" fill-rule=\"evenodd\" fill-opacity=\"1\" /><path clip-path=\"url(#clip100)\" d=\"M166.408 865.324 Q162.797 865.324 160.968 868.888 Q159.163 872.43 159.163 879.56 Q159.163 886.666 160.968 890.231 Q162.797 893.773 166.408 893.773 Q170.042 893.773 171.848 890.231 Q173.677 886.666 173.677 879.56 Q173.677 872.43 171.848 868.888 Q170.042 865.324 166.408 865.324 M166.408 861.62 Q172.218 861.62 175.274 866.226 Q178.353 870.81 178.353 879.56 Q178.353 888.286 175.274 892.893 Q172.218 897.476 166.408 897.476 Q160.598 897.476 157.519 892.893 Q154.464 888.286 154.464 879.56 Q154.464 870.81 157.519 866.226 Q160.598 861.62 166.408 861.62 Z\" fill=\"#000000\" fill-rule=\"evenodd\" fill-opacity=\"1\" /><path clip-path=\"url(#clip100)\" d=\"M52.6588 613.676 L60.2976 613.676 L60.2976 587.311 L51.9875 588.977 L51.9875 584.718 L60.2513 583.051 L64.9272 583.051 L64.9272 613.676 L72.5661 613.676 L72.5661 617.611 L52.6588 617.611 L52.6588 613.676 Z\" fill=\"#000000\" fill-rule=\"evenodd\" fill-opacity=\"1\" /><path clip-path=\"url(#clip100)\" d=\"M82.0105 611.732 L86.8947 611.732 L86.8947 617.611 L82.0105 617.611 L82.0105 611.732 Z\" fill=\"#000000\" fill-rule=\"evenodd\" fill-opacity=\"1\" /><path clip-path=\"url(#clip100)\" d=\"M107.08 586.13 Q103.469 586.13 101.64 589.695 Q99.8345 593.237 99.8345 600.366 Q99.8345 607.473 101.64 611.037 Q103.469 614.579 107.08 614.579 Q110.714 614.579 112.52 611.037 Q114.348 607.473 114.348 600.366 Q114.348 593.237 112.52 589.695 Q110.714 586.13 107.08 586.13 M107.08 582.426 Q112.89 582.426 115.945 587.033 Q119.024 591.616 119.024 600.366 Q119.024 609.093 115.945 613.699 Q112.89 618.283 107.08 618.283 Q101.27 618.283 98.1909 613.699 Q95.1354 609.093 95.1354 600.366 Q95.1354 591.616 98.1909 587.033 Q101.27 582.426 107.08 582.426 Z\" fill=\"#000000\" fill-rule=\"evenodd\" fill-opacity=\"1\" /><path clip-path=\"url(#clip100)\" d=\"M128.052 613.676 L135.691 613.676 L135.691 587.311 L127.381 588.977 L127.381 584.718 L135.644 583.051 L140.32 583.051 L140.32 613.676 L147.959 613.676 L147.959 617.611 L128.052 617.611 L128.052 613.676 Z\" fill=\"#000000\" fill-rule=\"evenodd\" fill-opacity=\"1\" /><path clip-path=\"url(#clip100)\" d=\"M157.45 583.051 L175.806 583.051 L175.806 586.987 L161.732 586.987 L161.732 595.459 Q162.751 595.112 163.769 594.95 Q164.788 594.764 165.806 594.764 Q171.593 594.764 174.973 597.936 Q178.353 601.107 178.353 606.524 Q178.353 612.102 174.88 615.204 Q171.408 618.283 165.089 618.283 Q162.913 618.283 160.644 617.912 Q158.399 617.542 155.992 616.801 L155.992 612.102 Q158.075 613.237 160.297 613.792 Q162.519 614.348 164.996 614.348 Q169.001 614.348 171.339 612.241 Q173.677 610.135 173.677 606.524 Q173.677 602.912 171.339 600.806 Q169.001 598.7 164.996 598.7 Q163.121 598.7 161.246 599.116 Q159.394 599.533 157.45 600.412 L157.45 583.051 Z\" fill=\"#000000\" fill-rule=\"evenodd\" fill-opacity=\"1\" /><path clip-path=\"url(#clip100)\" d=\"M51.6634 334.483 L59.3023 334.483 L59.3023 308.117 L50.9921 309.784 L50.9921 305.525 L59.256 303.858 L63.9319 303.858 L63.9319 334.483 L71.5707 334.483 L71.5707 338.418 L51.6634 338.418 L51.6634 334.483 Z\" fill=\"#000000\" fill-rule=\"evenodd\" fill-opacity=\"1\" /><path clip-path=\"url(#clip100)\" d=\"M81.0151 332.538 L85.8993 332.538 L85.8993 338.418 L81.0151 338.418 L81.0151 332.538 Z\" fill=\"#000000\" fill-rule=\"evenodd\" fill-opacity=\"1\" /><path clip-path=\"url(#clip100)\" d=\"M106.084 306.937 Q102.473 306.937 100.645 310.501 Q98.8391 314.043 98.8391 321.173 Q98.8391 328.279 100.645 331.844 Q102.473 335.386 106.084 335.386 Q109.719 335.386 111.524 331.844 Q113.353 328.279 113.353 321.173 Q113.353 314.043 111.524 310.501 Q109.719 306.937 106.084 306.937 M106.084 303.233 Q111.895 303.233 114.95 307.839 Q118.029 312.423 118.029 321.173 Q118.029 329.9 114.95 334.506 Q111.895 339.089 106.084 339.089 Q100.274 339.089 97.1956 334.506 Q94.14 329.9 94.14 321.173 Q94.14 312.423 97.1956 307.839 Q100.274 303.233 106.084 303.233 Z\" fill=\"#000000\" fill-rule=\"evenodd\" fill-opacity=\"1\" /><path clip-path=\"url(#clip100)\" d=\"M130.274 334.483 L146.593 334.483 L146.593 338.418 L124.649 338.418 L124.649 334.483 Q127.311 331.728 131.894 327.099 Q136.501 322.446 137.681 321.103 Q139.927 318.58 140.806 316.844 Q141.709 315.085 141.709 313.395 Q141.709 310.64 139.765 308.904 Q137.844 307.168 134.742 307.168 Q132.543 307.168 130.089 307.932 Q127.658 308.696 124.881 310.247 L124.881 305.525 Q127.705 304.39 130.158 303.812 Q132.612 303.233 134.649 303.233 Q140.019 303.233 143.214 305.918 Q146.408 308.603 146.408 313.094 Q146.408 315.224 145.598 317.145 Q144.811 319.043 142.705 321.636 Q142.126 322.307 139.024 325.525 Q135.922 328.719 130.274 334.483 Z\" fill=\"#000000\" fill-rule=\"evenodd\" fill-opacity=\"1\" /><path clip-path=\"url(#clip100)\" d=\"M166.408 306.937 Q162.797 306.937 160.968 310.501 Q159.163 314.043 159.163 321.173 Q159.163 328.279 160.968 331.844 Q162.797 335.386 166.408 335.386 Q170.042 335.386 171.848 331.844 Q173.677 328.279 173.677 321.173 Q173.677 314.043 171.848 310.501 Q170.042 306.937 166.408 306.937 M166.408 303.233 Q172.218 303.233 175.274 307.839 Q178.353 312.423 178.353 321.173 Q178.353 329.9 175.274 334.506 Q172.218 339.089 166.408 339.089 Q160.598 339.089 157.519 334.506 Q154.464 329.9 154.464 321.173 Q154.464 312.423 157.519 307.839 Q160.598 303.233 166.408 303.233 Z\" fill=\"#000000\" fill-rule=\"evenodd\" fill-opacity=\"1\" /><polyline clip-path=\"url(#clip102)\" style=\"stroke:#009af9; stroke-linecap:butt; stroke-linejoin:round; stroke-width:4; stroke-opacity:1; fill:none\" points=\"\n",
       "  274.873,1438.89 324.077,1437.24 373.281,1437.78 422.485,1437.34 471.689,1437.91 520.893,1438.86 570.097,1437.57 619.301,87.9763 668.505,1438.44 717.709,1438.85 \n",
       "  766.913,1438.12 816.117,1437.44 865.321,1438.42 914.525,1438.41 963.729,1437.75 1012.93,1437.87 1062.14,1437.24 1111.34,1437.14 1160.54,1438.61 1209.75,1438.36 \n",
       "  1258.95,1437.58 1308.16,1438.32 1357.36,1437.59 1406.56,1438.55 1455.77,1441.19 1504.97,1436.81 1554.18,1438.04 1603.38,1437.49 1652.58,1438.82 1701.79,1439.64 \n",
       "  1750.99,1437.6 1800.2,1437.8 1849.4,1437.22 1898.6,1437.17 1947.81,1442.01 1997.01,1438.74 2046.22,1437.34 2095.42,1437.74 2144.62,1438.16 2193.83,1438 \n",
       "  2243.03,1445.72 2292.24,1437.59 \n",
       "  \"/>\n",
       "<path clip-path=\"url(#clip100)\" d=\"\n",
       "M1991.45 198.898 L2281.48 198.898 L2281.48 95.2176 L1991.45 95.2176  Z\n",
       "  \" fill=\"#ffffff\" fill-rule=\"evenodd\" fill-opacity=\"1\"/>\n",
       "<polyline clip-path=\"url(#clip100)\" style=\"stroke:#000000; stroke-linecap:butt; stroke-linejoin:round; stroke-width:4; stroke-opacity:1; fill:none\" points=\"\n",
       "  1991.45,198.898 2281.48,198.898 2281.48,95.2176 1991.45,95.2176 1991.45,198.898 \n",
       "  \"/>\n",
       "<polyline clip-path=\"url(#clip100)\" style=\"stroke:#009af9; stroke-linecap:butt; stroke-linejoin:round; stroke-width:4; stroke-opacity:1; fill:none\" points=\"\n",
       "  2015.21,147.058 2157.77,147.058 \n",
       "  \"/>\n",
       "<path clip-path=\"url(#clip100)\" d=\"M2195.37 166.745 Q2193.56 171.375 2191.85 172.787 Q2190.14 174.199 2187.27 174.199 L2183.86 174.199 L2183.86 170.634 L2186.36 170.634 Q2188.12 170.634 2189.09 169.8 Q2190.07 168.967 2191.25 165.865 L2192.01 163.921 L2181.53 138.412 L2186.04 138.412 L2194.14 158.689 L2202.24 138.412 L2206.76 138.412 L2195.37 166.745 Z\" fill=\"#000000\" fill-rule=\"evenodd\" fill-opacity=\"1\" /><path clip-path=\"url(#clip100)\" d=\"M2214.05 160.402 L2221.69 160.402 L2221.69 134.037 L2213.38 135.703 L2213.38 131.444 L2221.64 129.778 L2226.32 129.778 L2226.32 160.402 L2233.96 160.402 L2233.96 164.338 L2214.05 164.338 L2214.05 160.402 Z\" fill=\"#000000\" fill-rule=\"evenodd\" fill-opacity=\"1\" /></svg>\n"
      ]
     },
     "execution_count": 63,
     "metadata": {},
     "output_type": "execute_result"
    }
   ],
   "source": [
    "plot(x[1]./P̂ₙ)"
   ]
  },
  {
   "cell_type": "code",
   "execution_count": null,
   "id": "adjacent-october",
   "metadata": {},
   "outputs": [],
   "source": []
  }
 ],
 "metadata": {
  "kernelspec": {
   "display_name": "Julia 1.6.4",
   "language": "julia",
   "name": "julia-1.6"
  },
  "language_info": {
   "file_extension": ".jl",
   "mimetype": "application/julia",
   "name": "julia",
   "version": "1.6.4"
  }
 },
 "nbformat": 4,
 "nbformat_minor": 5
}
