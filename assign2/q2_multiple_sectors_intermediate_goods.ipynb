{
 "cells": [
  {
   "cell_type": "code",
   "execution_count": null,
   "id": "structural-london",
   "metadata": {},
   "outputs": [],
   "source": [
    "using Plots, Colors, DataFrames, CSV, GLM, Statistics\n",
    "\n",
    "cd(\"/Users/junwong/Dropbox/Second Year/Dingel - Trade/Assignments\")"
   ]
  },
  {
   "cell_type": "markdown",
   "id": "unlikely-grammar",
   "metadata": {},
   "source": [
    "# Calibrating sector level data"
   ]
  },
  {
   "cell_type": "code",
   "execution_count": null,
   "id": "departmental-attitude",
   "metadata": {},
   "outputs": [],
   "source": [
    "df = DataFrame(CSV.File(\"data/bilateral_trade_country/bilateral_trade_sector_country.csv\"))\n",
    "\n",
    "# Total destination sector; collapse to country-origin/dest + sector-origin level\n",
    "bilateral_spending_by_sectororg = combine(groupby(df, [:country_org, :country_dest, :sector_org]), :trade_flow2014 => sum, renamecols=false);\n",
    "rename!(bilateral_spending_by_sectororg, :trade_flow2014 => :trade_flow2014_sectororg)\n",
    "\n",
    "# Total spending by sector in country n \n",
    "spending_by_sectororg = combine(groupby(bilateral_spending_by_sectororg, [:country_dest, :sector_org]), :trade_flow2014_sectororg => sum, renamecols=false);\n",
    "rename!(spending_by_sectororg, :trade_flow2014_sectororg => :spending_sectororg)\n",
    "bilateral_spending_by_sectororg = leftjoin(bilateral_spending_by_sectororg, spending_by_sectororg, on=[:country_dest, :sector_org])\n",
    "transform!(bilateral_spending_by_sectororg, [:trade_flow2014_sectororg, :spending_sectororg] => (./) => :pi_ni_j);\n",
    "\n",
    "df = leftjoin(df, bilateral_spending_by_sectororg, on=[:country_org, :country_dest, :sector_org]);\n"
   ]
  },
  {
   "cell_type": "markdown",
   "id": "involved-gazette",
   "metadata": {},
   "source": [
    "Compute $\\gamma$"
   ]
  },
  {
   "cell_type": "code",
   "execution_count": null,
   "id": "turned-arizona",
   "metadata": {
    "scrolled": true
   },
   "outputs": [],
   "source": [
    "# Total revenue of sector k in country n \n",
    "bilateral_revenue_by_sectororg = combine(groupby(df, [:country_org, :country_dest, :sector_org]), :trade_flow2014 => sum, renamecols=false);\n",
    "rename!(bilateral_revenue_by_sectororg, :trade_flow2014 => :trade_flow2014_sectororg)\n",
    "\n",
    "revenue_by_sectororg = combine(groupby(bilateral_revenue_by_sectororg, [:country_org, :sector_org]), :trade_flow2014_sectororg => sum, renamecols=false)\n",
    "rename!(revenue_by_sectororg, [:country_org, :sector_org, :trade_flow2014_sectororg] .=> [:country, :sector_dest, :revenue_sectororg])\n",
    "\n",
    "cross_sector_spending = combine(groupby(df, [:country_dest, :sector_dest, :sector_org]), :trade_flow2014 => sum, renamecols=false)\n",
    "rename!(cross_sector_spending, [:country_dest, :trade_flow2014] .=> [:country, :spending_cross_sector])\n",
    "cross_sector_spending = innerjoin(cross_sector_spending, revenue_by_sectororg, on=[:country, :sector_dest])\n",
    "transform!(cross_sector_spending, [:spending_cross_sector, :revenue_sectororg] => (./) => :gamma_n_jk)\n",
    "\n",
    "# Impute gamma\n",
    "nm_cross_sector = filter(:gamma_n_jk => x -> !(ismissing(x) || isnan(x)), cross_sector_spending)\n",
    "nm_cross_sector = combine(groupby(nm_cross_sector, [:sector_org, :sector_dest]), :gamma_n_jk => mean)\n",
    "cross_sector_spending = leftjoin(cross_sector_spending, nm_cross_sector, on=[:sector_org, :sector_dest])\n",
    "for row in eachrow(cross_sector_spending)\n",
    "    row[:gamma_n_jk] = ifelse(isnan(row[:gamma_n_jk]), row[:gamma_n_jk_mean], row[:gamma_n_jk])\n",
    "end\n",
    "\n",
    "# Average gamma across countries\n",
    "gamma_bar = combine(groupby(cross_sector_spending, [:sector_dest, :sector_org]), :gamma_n_jk => mean);"
   ]
  },
  {
   "cell_type": "code",
   "execution_count": null,
   "id": "czech-trust",
   "metadata": {
    "scrolled": false
   },
   "outputs": [],
   "source": [
    "gamma_sectdest = combine(groupby(cross_sector_spending, [:country, :sector_dest]), :gamma_n_jk => sum)\n",
    "gamma_sectdest[!, :gamma_n_k] = 1 .- gamma_sectdest[!,:gamma_n_jk_sum];\n",
    "\n",
    "avg_value_added_share = combine(groupby(gamma_sectdest, :sector_dest), :gamma_n_k => mean)\n",
    "histogram(avg_value_added_share[!, :gamma_n_k_mean])\n",
    "\n",
    "\n",
    "\n"
   ]
  },
  {
   "cell_type": "markdown",
   "id": "configured-hospital",
   "metadata": {},
   "source": [
    "Value added in initial equilibrium "
   ]
  },
  {
   "cell_type": "code",
   "execution_count": null,
   "id": "assisted-stranger",
   "metadata": {
    "scrolled": true
   },
   "outputs": [],
   "source": [
    "temp = leftjoin(bilateral_spending_by_sectororg, gamma_sectdest, on=[:country_dest => :country, :sector_org => :sector_dest])\n",
    "transform!(temp, [:gamma_n_k, :trade_flow2014_sectororg] => (.*) => :value_added)\n",
    "temp = combine(groupby(temp, :country_dest), :value_added => sum, renamecols=false)"
   ]
  },
  {
   "cell_type": "markdown",
   "id": "biblical-heavy",
   "metadata": {},
   "source": [
    "international transfers"
   ]
  },
  {
   "cell_type": "code",
   "execution_count": null,
   "id": "collaborative-synthesis",
   "metadata": {
    "scrolled": true
   },
   "outputs": [],
   "source": [
    "d1 = combine(groupby(df, [:country_org, :country_dest, :sector_dest]), :trade_flow2014 => sum, renamecols=false);\n",
    "X_nd_k = combine(groupby(d1, [:country_dest]), :trade_flow2014 => sum, renamecols=false);\n",
    "rename!(X_nd_k, :trade_flow2014 => :xndk)\n",
    "X_dn_k = combine(groupby(d1, [:country_org]), :trade_flow2014 => sum, renamecols=false);\n",
    "rename!(X_dn_k, :trade_flow2014 => :xdnk)\n",
    "temp1 = innerjoin(X_nd_k, X_dn_k, on = :country_dest => :country_org)\n",
    "transform!(temp1, [:xndk, :xdnk] => (.-) => :transfer)\n",
    "# this seems wrong? but unclear.... \n",
    "temp = innerjoin(temp, temp1, on=:country_dest )\n",
    "transform!(temp, [:transfer, :value_added] => (./) => :ratio)\n",
    "#plot here doesn't seem to be working for some reason "
   ]
  },
  {
   "cell_type": "code",
   "execution_count": null,
   "id": "orange-external",
   "metadata": {},
   "outputs": [],
   "source": []
  }
 ],
 "metadata": {
  "kernelspec": {
   "display_name": "Julia 1.6.4",
   "language": "julia",
   "name": "julia-1.6"
  },
  "language_info": {
   "file_extension": ".jl",
   "mimetype": "application/julia",
   "name": "julia",
   "version": "1.6.4"
  }
 },
 "nbformat": 4,
 "nbformat_minor": 5
}
