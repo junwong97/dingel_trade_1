{
 "cells": [
  {
   "cell_type": "code",
   "execution_count": 39,
   "id": "structural-london",
   "metadata": {},
   "outputs": [],
   "source": [
    "using Plots, Colors, DataFrames, CSV, GLM, Statistics\n",
    "\n",
    "cd(\"/Users/junwong/Dropbox/Second Year/Dingel - Trade/Assignments\")"
   ]
  },
  {
   "cell_type": "markdown",
   "id": "unlikely-grammar",
   "metadata": {},
   "source": [
    "# Calibrating sector level data"
   ]
  },
  {
   "cell_type": "code",
   "execution_count": 18,
   "id": "departmental-attitude",
   "metadata": {},
   "outputs": [],
   "source": [
    "df = DataFrame(CSV.File(\"data/bilateral_trade_country/bilateral_trade_sector_country.csv\"))\n",
    "\n",
    "# Total destination sector; collapse to country-origin/dest + sector-origin level\n",
    "bilateral_spending_by_sectororg = combine(groupby(df, [:country_org, :country_dest, :sector_org]), :trade_flow2014 => sum, renamecols=false);\n",
    "rename!(bilateral_spending_by_sectororg, :trade_flow2014 => :trade_flow2014_sectororg)\n",
    "\n",
    "# Total spending by sector in country n \n",
    "spending_by_sectororg = combine(groupby(bilateral_spending_by_sectororg, [:country_dest, :sector_org]), :trade_flow2014_sectororg => sum, renamecols=false);\n",
    "rename!(spending_by_sectororg, :trade_flow2014_sectororg => :spending_sectororg)\n",
    "bilateral_spending_by_sectororg = leftjoin(bilateral_spending_by_sectororg, spending_by_sectororg, on=[:country_dest, :sector_org])\n",
    "transform!(bilateral_spending_by_sectororg, [:trade_flow2014_sectororg, :spending_sectororg] => (./) => :pi_ni_j);\n",
    "\n",
    "df = leftjoin(df, bilateral_spending_by_sectororg, on=[:country_org, :country_dest, :sector_org]);\n"
   ]
  },
  {
   "cell_type": "markdown",
   "id": "involved-gazette",
   "metadata": {},
   "source": [
    "Compute $\\gamma$"
   ]
  },
  {
   "cell_type": "code",
   "execution_count": 40,
   "id": "julian-weapon",
   "metadata": {},
   "outputs": [
    {
     "data": {
      "text/html": [
       "<div class=\"data-frame\"><p>2,862 rows × 3 columns</p><table class=\"data-frame\"><thead><tr><th></th><th>sector_dest</th><th>sector_org</th><th>gamma_n_jk_mean</th></tr><tr><th></th><th title=\"Int64\">Int64</th><th title=\"Int64\">Int64</th><th title=\"Float64\">Float64</th></tr></thead><tbody><tr><th>1</th><td>0</td><td>1</td><td>0.0203131</td></tr><tr><th>2</th><td>0</td><td>2</td><td>0.00145403</td></tr><tr><th>3</th><td>0</td><td>3</td><td>0.00194419</td></tr><tr><th>4</th><td>0</td><td>4</td><td>0.00447138</td></tr><tr><th>5</th><td>0</td><td>5</td><td>0.0575723</td></tr><tr><th>6</th><td>0</td><td>6</td><td>0.0166605</td></tr><tr><th>7</th><td>0</td><td>7</td><td>0.00137359</td></tr><tr><th>8</th><td>0</td><td>8</td><td>0.00195332</td></tr><tr><th>9</th><td>0</td><td>9</td><td>0.000971318</td></tr><tr><th>10</th><td>0</td><td>10</td><td>0.0138534</td></tr><tr><th>11</th><td>0</td><td>11</td><td>0.00748781</td></tr><tr><th>12</th><td>0</td><td>12</td><td>0.00824377</td></tr><tr><th>13</th><td>0</td><td>13</td><td>0.00315136</td></tr><tr><th>14</th><td>0</td><td>14</td><td>0.00224873</td></tr><tr><th>15</th><td>0</td><td>15</td><td>0.00185813</td></tr><tr><th>16</th><td>0</td><td>16</td><td>0.00543739</td></tr><tr><th>17</th><td>0</td><td>17</td><td>0.0167964</td></tr><tr><th>18</th><td>0</td><td>18</td><td>0.00805905</td></tr><tr><th>19</th><td>0</td><td>19</td><td>0.0207014</td></tr><tr><th>20</th><td>0</td><td>20</td><td>0.0253129</td></tr><tr><th>21</th><td>0</td><td>21</td><td>0.00803344</td></tr><tr><th>22</th><td>0</td><td>22</td><td>0.00920272</td></tr><tr><th>23</th><td>0</td><td>23</td><td>0.00212601</td></tr><tr><th>24</th><td>0</td><td>24</td><td>0.0164652</td></tr><tr><th>25</th><td>0</td><td>25</td><td>0.00257904</td></tr><tr><th>26</th><td>0</td><td>26</td><td>0.00254959</td></tr><tr><th>27</th><td>0</td><td>27</td><td>0.10938</td></tr><tr><th>28</th><td>0</td><td>28</td><td>0.012128</td></tr><tr><th>29</th><td>0</td><td>29</td><td>0.0373646</td></tr><tr><th>30</th><td>0</td><td>30</td><td>0.0465764</td></tr><tr><th>&vellip;</th><td>&vellip;</td><td>&vellip;</td><td>&vellip;</td></tr></tbody></table></div>"
      ],
      "text/latex": [
       "\\begin{tabular}{r|ccc}\n",
       "\t& sector\\_dest & sector\\_org & gamma\\_n\\_jk\\_mean\\\\\n",
       "\t\\hline\n",
       "\t& Int64 & Int64 & Float64\\\\\n",
       "\t\\hline\n",
       "\t1 & 0 & 1 & 0.0203131 \\\\\n",
       "\t2 & 0 & 2 & 0.00145403 \\\\\n",
       "\t3 & 0 & 3 & 0.00194419 \\\\\n",
       "\t4 & 0 & 4 & 0.00447138 \\\\\n",
       "\t5 & 0 & 5 & 0.0575723 \\\\\n",
       "\t6 & 0 & 6 & 0.0166605 \\\\\n",
       "\t7 & 0 & 7 & 0.00137359 \\\\\n",
       "\t8 & 0 & 8 & 0.00195332 \\\\\n",
       "\t9 & 0 & 9 & 0.000971318 \\\\\n",
       "\t10 & 0 & 10 & 0.0138534 \\\\\n",
       "\t11 & 0 & 11 & 0.00748781 \\\\\n",
       "\t12 & 0 & 12 & 0.00824377 \\\\\n",
       "\t13 & 0 & 13 & 0.00315136 \\\\\n",
       "\t14 & 0 & 14 & 0.00224873 \\\\\n",
       "\t15 & 0 & 15 & 0.00185813 \\\\\n",
       "\t16 & 0 & 16 & 0.00543739 \\\\\n",
       "\t17 & 0 & 17 & 0.0167964 \\\\\n",
       "\t18 & 0 & 18 & 0.00805905 \\\\\n",
       "\t19 & 0 & 19 & 0.0207014 \\\\\n",
       "\t20 & 0 & 20 & 0.0253129 \\\\\n",
       "\t21 & 0 & 21 & 0.00803344 \\\\\n",
       "\t22 & 0 & 22 & 0.00920272 \\\\\n",
       "\t23 & 0 & 23 & 0.00212601 \\\\\n",
       "\t24 & 0 & 24 & 0.0164652 \\\\\n",
       "\t25 & 0 & 25 & 0.00257904 \\\\\n",
       "\t26 & 0 & 26 & 0.00254959 \\\\\n",
       "\t27 & 0 & 27 & 0.10938 \\\\\n",
       "\t28 & 0 & 28 & 0.012128 \\\\\n",
       "\t29 & 0 & 29 & 0.0373646 \\\\\n",
       "\t30 & 0 & 30 & 0.0465764 \\\\\n",
       "\t$\\dots$ & $\\dots$ & $\\dots$ & $\\dots$ \\\\\n",
       "\\end{tabular}\n"
      ],
      "text/plain": [
       "\u001b[1m2862×3 DataFrame\u001b[0m\n",
       "\u001b[1m  Row \u001b[0m│\u001b[1m sector_dest \u001b[0m\u001b[1m sector_org \u001b[0m\u001b[1m gamma_n_jk_mean \u001b[0m\n",
       "\u001b[1m      \u001b[0m│\u001b[90m Int64       \u001b[0m\u001b[90m Int64      \u001b[0m\u001b[90m Float64         \u001b[0m\n",
       "──────┼──────────────────────────────────────────\n",
       "    1 │           0           1      0.0203131\n",
       "    2 │           0           2      0.00145403\n",
       "    3 │           0           3      0.00194419\n",
       "    4 │           0           4      0.00447138\n",
       "    5 │           0           5      0.0575723\n",
       "    6 │           0           6      0.0166605\n",
       "    7 │           0           7      0.00137359\n",
       "    8 │           0           8      0.00195332\n",
       "    9 │           0           9      0.000971318\n",
       "   10 │           0          10      0.0138534\n",
       "   11 │           0          11      0.00748781\n",
       "  ⋮   │      ⋮           ⋮              ⋮\n",
       " 2853 │          54          44      0.0531998\n",
       " 2854 │          54          45      0.0394035\n",
       " 2855 │          54          46      0.0124046\n",
       " 2856 │          54          47      0.00338134\n",
       " 2857 │          54          48      0.00853734\n",
       " 2858 │          54          49      0.0170299\n",
       " 2859 │          54          50      0.0645468\n",
       " 2860 │          54          52      0.0147312\n",
       " 2861 │          54          53      0.0160928\n",
       " 2862 │          54          54      0.0945025\n",
       "\u001b[36m                                2841 rows omitted\u001b[0m"
      ]
     },
     "execution_count": 40,
     "metadata": {},
     "output_type": "execute_result"
    }
   ],
   "source": [
    "# Total revenue of sector k in country n \n",
    "bilateral_revenue_by_sectordest = combine(groupby(df, [:country_org, :country_dest, :sector_dest]), :trade_flow2014 => sum, renamecols=false);\n",
    "rename!(bilateral_revenue_by_sectordest, :trade_flow2014 => :trade_flow2014_sectordest)\n",
    "revenue_by_sectordest = combine(groupby(bilateral_revenue_by_sectordest, [:country_org, :sector_dest]), :trade_flow2014_sectordest => sum, renamecols=false)\n",
    "rename!(revenue_by_sectordest, [:country_org, :trade_flow2014_sectordest] .=> [:country, :revenue_sectordest])\n",
    "\n",
    "cross_sector_spending = combine(groupby(df, [:country_dest, :sector_dest, :sector_org]), :trade_flow2014 => sum, renamecols=false)\n",
    "rename!(cross_sector_spending, [:country_dest, :trade_flow2014] .=> [:country, :spending_cross_sector])\n",
    "\n",
    "cross_sector_spending = leftjoin(cross_sector_spending, revenue_by_sectordest, on=[:country, :sector_dest])\n",
    "transform!(cross_sector_spending, [:spending_cross_sector, :revenue_sectordest] => (./) => :gamma_n_jk)\n",
    "\n",
    "# Average gamma across countries \n",
    "gamma_bar = combine(groupby(cross_sector_spending, [:sector_dest, :sector_org]), :gamma_n_jk => mean)"
   ]
  },
  {
   "cell_type": "code",
   "execution_count": null,
   "id": "alternate-bidder",
   "metadata": {},
   "outputs": [],
   "source": []
  }
 ],
 "metadata": {
  "kernelspec": {
   "display_name": "Julia 1.6.4",
   "language": "julia",
   "name": "julia-1.6"
  },
  "language_info": {
   "file_extension": ".jl",
   "mimetype": "application/julia",
   "name": "julia",
   "version": "1.6.4"
  }
 },
 "nbformat": 4,
 "nbformat_minor": 5
}
