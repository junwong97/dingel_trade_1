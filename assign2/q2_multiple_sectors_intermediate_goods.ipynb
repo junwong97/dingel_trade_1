{
 "cells": [
  {
   "cell_type": "code",
   "execution_count": 165,
   "id": "structural-london",
   "metadata": {},
   "outputs": [],
   "source": [
    "using Plots, Colors, DataFrames, CSV, GLM, Statistics\n",
    "using BenchmarkTools, SparseArrays\n",
    "\n",
    "cd(\"/Users/junwong/Dropbox/Second Year/Dingel - Trade/Assignments\")"
   ]
  },
  {
   "cell_type": "markdown",
   "id": "unlikely-grammar",
   "metadata": {},
   "source": [
    "# Calibrating sector level data"
   ]
  },
  {
   "cell_type": "code",
   "execution_count": 166,
   "id": "departmental-attitude",
   "metadata": {
    "scrolled": true
   },
   "outputs": [],
   "source": [
    "df = DataFrame(CSV.File(\"data/bilateral_trade_country/bilateral_trade_sector_country.csv\"));\n",
    "\n",
    "# Sector 51 is missing from the data, so let's fix this (so 52 is now 51, etc.)\n",
    "df[!,:sector_dest] = [x >= 51 ? x-1 : x for x in df[!,:sector_dest]];\n",
    "df[!,:sector_org] = [x >= 51 ? x-1 : x for x in df[!,:sector_org]];\n",
    "# I'm going to name sector 0 sector 54\n",
    "df[!,:sector_dest] = [x == 0 ? 54 : x for x in df[!,:sector_dest]];\n"
   ]
  },
  {
   "cell_type": "code",
   "execution_count": 167,
   "id": "devoted-disorder",
   "metadata": {},
   "outputs": [],
   "source": [
    "# Total destination sector; collapse to country-origin/dest + sector-origin level\n",
    "Xₙᵢʲ = combine(groupby(df, [:country_org, :country_dest, :sector_org]), :trade_flow2014 => sum, renamecols=false);\n",
    "rename!(Xₙᵢʲ, :trade_flow2014 => :X_ni_j0)\n",
    "\n",
    "# Total spending by sector in country n \n",
    "total_spending_sectororg = combine(groupby(Xₙᵢʲ, [:country_dest, :sector_org]), :X_ni_j0 => sum, renamecols=false);\n",
    "rename!(total_spending_sectororg, :X_ni_j0 => :spending_sectororg)\n",
    "\n",
    "# πₙᵢʲ = Xₙᵢʲ / ∑ₒ Xₙₒʲ\n",
    "Xₙᵢʲ = leftjoin(Xₙᵢʲ, total_spending_sectororg, on=[:country_dest, :sector_org])\n",
    "transform!(Xₙᵢʲ, [:X_ni_j0, :spending_sectororg] => (./) => :pi_ni_j);\n",
    "\n",
    "df = leftjoin(df, Xₙᵢʲ, on=[:country_org, :country_dest, :sector_org]);\n"
   ]
  },
  {
   "cell_type": "markdown",
   "id": "involved-gazette",
   "metadata": {},
   "source": [
    "## Compute $\\gamma$"
   ]
  },
  {
   "cell_type": "code",
   "execution_count": 168,
   "id": "turned-arizona",
   "metadata": {
    "scrolled": true
   },
   "outputs": [],
   "source": [
    "# Total revenue of sector k in country n = ∑ᵢ Xᵢₙᵏ\n",
    "revenue_by_sectororg = combine(groupby(Xₙᵢʲ, [:country_org, :sector_org]), :X_ni_j0 => sum, renamecols=false)\n",
    "rename!(revenue_by_sectororg, [:country_org, :sector_org, :X_ni_j0] .=> [:country, :sector_dest, :revenue_sectororg])\n",
    "\n",
    "# Purchases of sector k in country n on goods of sector j = ∑ᵢ Xₙᵢʲᵏ\n",
    "cross_sector_spending = combine(groupby(df, [:country_dest, :sector_dest, :sector_org]), :trade_flow2014 => sum, renamecols=false)\n",
    "rename!(cross_sector_spending, [:country_dest, :trade_flow2014] .=> [:country, :spending_cross_sector])\n",
    "\n",
    "# γₙʲᵏ = ∑ᵢ Xₙᵢʲᵏ / ∑ᵢ Xᵢₙᵏ\n",
    "cross_sector_spending = leftjoin(cross_sector_spending, revenue_by_sectororg, on=[:country, :sector_dest])\n",
    "transform!(cross_sector_spending, [:spending_cross_sector, :revenue_sectororg] => (./) => :gamma_n_jk)\n",
    "\n",
    "# Impute γ with average of sector pairs (j,k) across countries \n",
    "nm_cross_sector = filter(:gamma_n_jk => x -> !(ismissing(x) || isnan(x)), cross_sector_spending)\n",
    "nm_cross_sector = combine(groupby(nm_cross_sector, [:sector_org, :sector_dest]), :gamma_n_jk => mean)\n",
    "\n",
    "# If still missing, impute with just the average gammas across all sector pairs then I guess!?\n",
    "#avg = mean(nm_cross_sector[!,:gamma_n_jk_mean])\n",
    "\n",
    "cross_sector_spending = leftjoin(cross_sector_spending, nm_cross_sector, on=[:sector_org, :sector_dest])\n",
    "#cross_sector_spending[!,:gamma_n_jk_mean] = [ismissing(x) || isnan(x) ? avg : x for x in cross_sector_spending[!,:gamma_n_jk_mean]]\n",
    "cross_sector_spending = filter(:gamma_n_jk_mean => x -> !(ismissing(x) || isnan(x)), cross_sector_spending)\n",
    "for row in eachrow(cross_sector_spending)\n",
    "    row[:gamma_n_jk] = ifelse(ismissing(row[:gamma_n_jk]), row[:gamma_n_jk_mean], row[:gamma_n_jk])\n",
    "    row[:gamma_n_jk] = ifelse(isnan(row[:gamma_n_jk]), row[:gamma_n_jk_mean], row[:gamma_n_jk])\n",
    "end\n",
    "\n",
    "# Find average γ across countries \n",
    "γ̄ʲᵏ = combine(groupby(cross_sector_spending, [:sector_dest, :sector_org]), :gamma_n_jk => mean);\n"
   ]
  },
  {
   "cell_type": "markdown",
   "id": "still-cylinder",
   "metadata": {},
   "source": [
    "Heatmap for $\\gamma$"
   ]
  },
  {
   "cell_type": "code",
   "execution_count": 177,
   "id": "transparent-jonathan",
   "metadata": {},
   "outputs": [],
   "source": [
    "gr()\n",
    "data = Array(unstack(γ̄ʲᵏ, :sector_dest, :sector_org, :gamma_n_jk_mean))[:,2:end]\n",
    "sects = CSV.File(\"data/bilateral_trade_country/sector_list.csv\") |> Tables.matrix\n",
    "sects = sects[2:end,1]\n",
    "heatmap(1:53,\n",
    "    1:53, log10.(data),\n",
    "    xlabel=\"Origin Sector\", ylabel=\"Destination Sector\",\n",
    "    c=cgrad(:inferno))\n",
    "savefig(\"output/q2_heatmap.pdf\")"
   ]
  },
  {
   "cell_type": "markdown",
   "id": "technical-poetry",
   "metadata": {},
   "source": [
    "## Defining share value added in production"
   ]
  },
  {
   "cell_type": "code",
   "execution_count": 183,
   "id": "czech-trust",
   "metadata": {
    "scrolled": false
   },
   "outputs": [],
   "source": [
    "# ∑ⱼ γₙʲᵏ\n",
    "gamma_sectdest = combine(groupby(cross_sector_spending, [:country, :sector_dest]), :gamma_n_jk => sum)\n",
    "\n",
    "# γₙᵏ = 1 - ∑ⱼ γₙʲᵏ\n",
    "gamma_sectdest[!, :gamma_n_k] = 1 .- gamma_sectdest[!,:gamma_n_jk_sum];\n",
    "\n",
    "# Average value added \n",
    "avg_value_added_share = combine(groupby(gamma_sectdest, :sector_dest), :gamma_n_k => mean);\n",
    "\n",
    "histogram(gamma_sectdest[!,:gamma_n_k], legend=false, xlabel=\"Share value added in a country-sector pair\")\n",
    "savefig(\"output/q2_gamma_n_k_hist.pdf\")\n",
    "\n",
    "bar(1:53, avg_value_added_share[!,:gamma_n_k_mean], legend=false, ylabel=\"Average share value added\", xlabel=\"Sector\")\n",
    "savefig(\"output/q2_avg_gamma_n_k_hist.pdf\")\n"
   ]
  },
  {
   "cell_type": "markdown",
   "id": "configured-hospital",
   "metadata": {},
   "source": [
    "### Value added in initial equilibrium "
   ]
  },
  {
   "cell_type": "code",
   "execution_count": 161,
   "id": "assisted-stranger",
   "metadata": {
    "scrolled": true
   },
   "outputs": [],
   "source": [
    "va⁰ = leftjoin(Xₙᵢʲ, gamma_sectdest, on=[:country_dest => :country, :sector_org => :sector_dest])\n",
    "transform!(va⁰, [:gamma_n_k, :X_ni_j0] => (.*) => :value_added);\n",
    "va⁰ = combine(groupby(va⁰, :country_dest), :value_added => sum, renamecols=false);\n"
   ]
  },
  {
   "cell_type": "markdown",
   "id": "biblical-heavy",
   "metadata": {},
   "source": [
    "### International transfers"
   ]
  },
  {
   "cell_type": "code",
   "execution_count": 186,
   "id": "collaborative-synthesis",
   "metadata": {
    "scrolled": true
   },
   "outputs": [],
   "source": [
    "# ∑ₒₖ Xₒₙᵏ\n",
    "d1 = combine(groupby(df, :country_org), :trade_flow2014 => sum)\n",
    "rename!(d1, :trade_flow2014_sum => :sum_x_on_k)\n",
    "\n",
    "# ∑ₒₖ Xₙₒᵏ\n",
    "d2 = combine(groupby(df, :country_dest), :trade_flow2014 => sum)\n",
    "rename!(d2, :trade_flow2014_sum => :sum_x_no_k)\n",
    "\n",
    "# h(w) Dₙ = ∑ₒₖ Xₙₒᵏ - ∑ₒₖ Xₒₙᵏ\n",
    "transfers = innerjoin(d1, d2, on= :country_org => :country_dest)\n",
    "transform!(transfers, [:sum_x_no_k, :sum_x_on_k] => (.-) => :transfer)\n",
    "\n",
    "# Transfer as share of value added \n",
    "transfer_shares = innerjoin(transfers, va⁰, on= :country_org => :country_dest);\n",
    "transform!(transfer_shares, [:transfer, :value_added] => (./) => :transfer_share)\n",
    "transfer_shares[!,:transfer_share] = transfer_shares[!,:transfer_share]\n",
    "\n",
    "cntry = CSV.File(\"data/bilateral_trade_country/country_list.csv\") |> Tables.matrix\n",
    "bar(cntry, transfer_shares[!,:transfer_share], legend = false)\n",
    "savefig(\"output/q2_transfer_share.pdf\")\n"
   ]
  },
  {
   "cell_type": "markdown",
   "id": "loved-burns",
   "metadata": {},
   "source": [
    "### Final spending shares"
   ]
  },
  {
   "cell_type": "code",
   "execution_count": 164,
   "id": "statewide-mystery",
   "metadata": {
    "scrolled": true
   },
   "outputs": [
    {
     "data": {
      "text/plain": [
       "\"output/avg_alpha_j.csv\""
      ]
     },
     "execution_count": 164,
     "metadata": {},
     "output_type": "execute_result"
    }
   ],
   "source": [
    "# Rₙ⁰ = 0 since no tariff at baseline \n",
    "\n",
    "# ∑ᵢ Xₙᵢʲ is just total spending at destination across different origin sectors = total_spending_sectororg[!, :spending_sectororg]\n",
    "\n",
    "# ∑ₖ ∑ₒ γₙʲᵏ * Xₒₙᵏ: I think you should start with df\n",
    "num = innerjoin(cross_sector_spending, Xₙᵢʲ, on=[:country => :country_org, :sector_dest => :sector_org])\n",
    "transform!(num, [:X_ni_j0, :gamma_n_jk] => (.*) => :numerator)\n",
    "num = combine(groupby(num, [:country, :sector_org]), :numerator => sum, renamecols = false)\n",
    "select!(num, [:country, :sector_org, :numerator])\n",
    "\n",
    "# αₙʲ = (∑ᵢ Xₙᵢʲ - ∑ₖ ∑ₒ γₙʲᵏ * Xₒₙᵏ) / (Rₙ⁰ + wₙLₙ + h(w) Dₙ) \n",
    "num = innerjoin(num, transfer_shares, on=:country => :country_org)\n",
    "num = innerjoin(num, total_spending_sectororg, on=[:country => :country_dest, :sector_org => :sector_org])\n",
    "num.alpha_n_j = (num.spending_sectororg .- num.numerator) ./ (num.value_added .+ num.transfer);\n",
    "\n",
    "# ᾱʲ \n",
    "avg_alpha = combine(groupby(num, [:sector_org]), :alpha_n_j => mean)\n",
    "CSV.write(\"output/avg_alpha_j.csv\", avg_alpha);\n"
   ]
  },
  {
   "cell_type": "markdown",
   "id": "casual-interstate",
   "metadata": {},
   "source": [
    "## Calibrate $\\theta^j$"
   ]
  },
  {
   "cell_type": "code",
   "execution_count": 145,
   "id": "apart-going",
   "metadata": {
    "scrolled": true
   },
   "outputs": [],
   "source": [
    "theta_j = DataFrame(CSV.File(\"data/bilateral_trade_country/theta_caliendo_parro.csv\"))\n",
    "theta_j[!,:sector] = [x >= 51 ? x-1 : x for x in theta_j[!,:sector]];\n",
    "#filter!(:sector => x -> x !=0, theta_j) #filter out sector 0\n",
    "replace!(theta_j.theta_j, missing => mean(skipmissing(theta_j.theta_j))); # replace missing with average\n",
    "θʲ = Array(theta_j[:,2]);\n"
   ]
  },
  {
   "cell_type": "markdown",
   "id": "incident-lunch",
   "metadata": {},
   "source": [
    "# Define iterating functions"
   ]
  },
  {
   "cell_type": "code",
   "execution_count": 132,
   "id": "accessible-wound",
   "metadata": {},
   "outputs": [
    {
     "data": {
      "text/plain": [
       "#201 (generic function with 1 method)"
      ]
     },
     "execution_count": 132,
     "metadata": {},
     "output_type": "execute_result"
    }
   ],
   "source": [
    "# Calculate P̃ given ŵ\n",
    "P_tilde_n_j = function (πₙᵢ, λᵢʲ, τ̂, ŵ, γᵢʲ, γᵢᵏʲ, Pₙʲ)\n",
    "    p_tilde_output = zeros(42, size(θʲ, 1))\n",
    "    for country_dest in 1:42\n",
    "        for sector_org in 1:size(θʲ, 1) \n",
    "            inner = 0\n",
    "            for country_org in 1:42 \n",
    "                P_i = 1\n",
    "                for sector_dest in 1:size(θʲ, 1)\n",
    "                    P_i *= (Pₙʲ[country_org, sector_dest] ^ γᵢᵏʲ[country_org, sector_dest, sector_org]) #i am flipping this because previously it was gamma_n^jk but now its gamma_i^kj\n",
    "                end\n",
    "                inner += πₙᵢ[country_org, country_dest, sector_org] * λᵢʲ[country_org, sector_org] * (τ̂[country_org, country_dest] * ŵ[country_org] ^ γᵢʲ[country_org, sector_org] * P_i) ^ (-θʲ[sector_org])\n",
    "            end\n",
    "            p_tilde_output[country_dest, sector_org] = inner^(-1/θʲ[sector_org])\n",
    "        end\n",
    "    end\n",
    "    \n",
    "    return p_tilde_output\n",
    "end\n",
    "\n",
    "# Iterate to find price index\n",
    "iterate_p_tilde = function(πₙᵢ, λᵢʲ, τ̂, ŵ, γᵢʲ, γᵢᵏʲ, Pₙʲ, κ, tol)\n",
    "    iter = 0\n",
    "    P̂ = Pₙʲ \n",
    "    diff = Inf\n",
    "    while maximum(diff) > tol\n",
    "        iter +=1\n",
    "        P̂_old = P̂\n",
    "        P̂ = P_tilde_n_j(πₙᵢ, λᵢʲ, τ̂, ŵ, γᵢʲ, γᵢᵏʲ, P̂)\n",
    "        diff = P̂ .- P̂_old\n",
    "        P̂ = P̂ .+ κ .* diff\n",
    "        #println(minimum(P̂))\n",
    "    end \n",
    "    \n",
    "    return [P̂, iter]\n",
    "end\n",
    "\n",
    "# Numeraire function\n",
    "h(w) = w[end]\n",
    "\n",
    "# Calculate π̂ and F̂ given ŵ and P̂\n",
    "find_π_F = function(P̂ₙʲ, πₙᵢ, α, λᵢʲ, τ̂, ŵ, w⁰, γᵢʲ, tfs, D̂ₙ)\n",
    "    π̂ₙᵢʲ = zeros(42, 42, size(θʲ, 1))\n",
    "    for country_dest in 1:42\n",
    "        for sector_org in 1:size(θʲ, 1) \n",
    "        for country_org in 1:42 \n",
    "            P_i = 1\n",
    "                for sector_dest in 1:size(θʲ, 1)\n",
    "                    P_i *= P̂ₙʲ[country_org, sector_dest] ^ γᵢᵏʲ[country_org, sector_dest, sector_org]\n",
    "                end\n",
    "                π̂ₙᵢʲ[country_org, country_dest, sector_org] = λᵢʲ[country_org, sector_org] * (τ̂[country_org, country_dest] * ŵ[country_org] ^ γᵢʲ[country_org, sector_org] * P_i) ^ (-θʲ[sector_org]) * P̂ₙʲ[country_dest, sector_org]^(-θʲ[sector_org])\n",
    "            end\n",
    "        end\n",
    "    end\n",
    "    \n",
    "    # work in progress\n",
    "    Fₙᵢʲ = zeros(42, 42, size(θʲ, 1))\n",
    "    for country_dest in 1:42\n",
    "        for sector_org in 1:size(θʲ, 1) \n",
    "            for country_org in 1:42 \n",
    "                Fₙᵢʲ[country_org, country_dest, sector_org] = π̂ₙᵢʲ[country_org, country_dest, sector_org] * πₙᵢ[country_org, country_dest, sector_org] * α[country_dest, sector_org] * (w⁰[country_dest] * ŵ[country_dest] + tfs[country_dest] + h(w⁰[country_dest] * ŵ[country_dest]) / h(w⁰[country_dest]) * D̂ₙ[country_dest] )\n",
    "            end\n",
    "        end\n",
    "    end\n",
    "    \n",
    "    return [π̂ₙᵢʲ, Fₙᵢʲ]\n",
    "end\n",
    "\n",
    "# Excess demand\n",
    "excess_demand = function(γᵢʲ, τ¹, X⁰X̂, ŵ, va)\n",
    "    z = zeros(42, 1)\n",
    "    for country_org in 1:42 \n",
    "        summed_term = 0\n",
    "        for country_dest in 1:42 \n",
    "            for sector in 1:size(θʲ, 1)\n",
    "                summed_term += (γᵢʲ[country_org, sector] / (1+τ¹[country_dest, country_org, sector]) * X⁰X̂[country_dest, country_org, sector]) / va[country_org]\n",
    "            end\n",
    "        end\n",
    "        z[country_org] = summed_term - ŵ[country_org]\n",
    "    end\n",
    "    return z\n",
    "end \n"
   ]
  },
  {
   "cell_type": "code",
   "execution_count": 195,
   "id": "cardiac-resistance",
   "metadata": {},
   "outputs": [
    {
     "data": {
      "text/plain": [
       "#265 (generic function with 1 method)"
      ]
     },
     "execution_count": 195,
     "metadata": {},
     "output_type": "execute_result"
    }
   ],
   "source": [
    "# Big wrapper function: iterate to get excess demand\n",
    "iterate_exccess_demand = function(πₙᵢʲ, λ̂ᵢʲ, τ̂, τ¹, ŵ, va, γᵢʲ, γᵢᵏʲ, P̂ₙʲ, αₙʲ, tfs, D̂ₙ, Α, rowindex, θʲ, κʷ ,tol)\n",
    "    \n",
    "    zᵢ = ones(42,1)\n",
    "    \n",
    "    while maximum(abs.(zᵢ)) > tol\n",
    "\n",
    "        # given ŵ, iterate to find P̃\n",
    "        p_b = iterate_p_tilde(πₙᵢʲ, λ̂ᵢʲ, τ̂, ŵ, γᵢʲ, γᵢᵏʲ, P̂ₙʲ, 1, tol)\n",
    "    \n",
    "        println(\"p_b is fine\")\n",
    "        \n",
    "        # given P̃ and ŵ, find π̂ and F̂\n",
    "        pi_f  = find_π_F(p_b[1], πₙᵢʲ, αₙʲ, λ̂ᵢʲ, τ̂, ŵ, va, γᵢʲ, tfs, D̂ₙ);\n",
    "        \n",
    "        println(\"pi_f is fine\")\n",
    "        \n",
    "        # turn F into a NNJ x 1 matrix\n",
    "        F̂ = Float64[]\n",
    "        for country_dest in 1:42 \n",
    "            for country_org in 1:42\n",
    "                for sector in 1:size(θʲ, 1)\n",
    "                    push!(F̂, pi_f[2][country_org, country_dest, sector])\n",
    "                end\n",
    "            end\n",
    "        end\n",
    "\n",
    "        # given P̃, ŵ, π̂, F̂, solve a system to find X⁰X̂\n",
    "\n",
    "            # step 1: find diagonal matrix of pi hat's\n",
    "        val = Float64[]\n",
    "        for i in 1:size(rowindex, 1)\n",
    "                push!(val, pi_f[1][rowindex[i,:][3], rowindex[i,:][2], rowindex[i,:][4]])\n",
    "        end\n",
    "        Π̂ = sparse(Array(1:size(rowindex, 1)),Array(1:size(rowindex, 1)),val);\n",
    "\n",
    "            # step 2: premultiply A (computed outside) by the diagonal above\n",
    "        Β = Π̂ * Α\n",
    "\n",
    "            # step 3: iterate over the system specified to find X⁰X̂\n",
    "        xx = zeros(size(F̂, 1), 1)\n",
    "        for v in 1:30\n",
    "            xx = xx + F̂\n",
    "            F̂ = Β * F̂\n",
    "        end\n",
    "\n",
    "            # turn xx into 3-d array \n",
    "        x = hcat(rowindex, xx)\n",
    "        X⁰X̂ = zeros(42, 42, size(θʲ,1))\n",
    "        for i in 1:size(x, 1) #destination, origin, sector\n",
    "           X⁰X̂[floor(Int, x[i,:][2]), floor(Int, x[i,:][3]), floor(Int, x[i,:][4])] = x[i,:][5] \n",
    "        end\n",
    "\n",
    "        # calculate excess demand \n",
    "        zᵢ = excess_demand(γᵢʲ, τ¹, X⁰X̂, ŵ, va)\n",
    "\n",
    "        # update wage guess\n",
    "        ŵ = ŵ .+ κʷ .* zᵢ\n",
    "        \n",
    "        println(maximum(abs.(zᵢ)))\n",
    "        #println(ŵ)\n",
    "        \n",
    "    end\n",
    "    \n",
    "    return [ŵ, p_b[1], X⁰X̂, pi_f[1]]\n",
    "end\n",
    "    "
   ]
  },
  {
   "cell_type": "markdown",
   "id": "protective-simon",
   "metadata": {},
   "source": [
    "# Counterfactual: TFP shock to China"
   ]
  },
  {
   "cell_type": "markdown",
   "id": "gentle-updating",
   "metadata": {},
   "source": [
    "Set our parameters"
   ]
  },
  {
   "cell_type": "code",
   "execution_count": 147,
   "id": "scheduled-institution",
   "metadata": {
    "scrolled": true
   },
   "outputs": [],
   "source": [
    "# Givens\n",
    "gamma_i_kj = select(filter([:sector_dest, :sector_org] => (x, y) -> x <= size(θʲ, 1) && y <= size(θʲ, 1), cross_sector_spending), [:country, :sector_org, :sector_dest, :gamma_n_jk])\n",
    "γᵢᵏʲ = zeros(42, size(θʲ, 1), size(θʲ, 1)) #country, sector_org, sector_dest\n",
    "pi_ni_j = select(filter(:sector_org => x -> x <= size(θʲ, 1), Xₙᵢʲ), [:country_org, :country_dest, :sector_org, :pi_ni_j])\n",
    "πₙᵢʲ = zeros(42, 42, size(θʲ, 1)) #country_org, country_dest, sector_org\n",
    "\n",
    "for k in 1:size(θʲ, 1)\n",
    "    γᵢᵏʲ[:, :, k] = Array(unstack(filter(:sector_dest => x -> x == k, gamma_i_kj), :country, :sector_org, :gamma_n_jk))[:, 2:end]\n",
    "    πₙᵢʲ[:, :, k] = Array(unstack(filter(:sector_org => x -> x == k, pi_ni_j), :country_org, :country_dest, :pi_ni_j))[:, 2:end]\n",
    "end\n",
    "\n",
    "# country, sector_dest\n",
    "γᵢʲ = Array(unstack(select(filter(:sector_dest => x -> x <= size(θʲ, 1), gamma_sectdest), [:country, :sector_dest, :gamma_n_k]), :country, :sector_dest, :gamma_n_k)[:, 2:end]);\n",
    "\n",
    "# consider feeding a shock of 1 first\n",
    "λ̂ᵢʲ = ones(42, size(θʲ, 1))\n",
    "\n",
    "τ̂ = ones(42, 42)\n",
    "\n",
    "αₙʲ = Array(unstack(num, :country, :sector_org, :alpha_n_j)[:,2:end]);\n",
    "\n",
    "tfs = Array(transfers[!,:transfer]);\n",
    "\n",
    "τ¹ = zeros(42, 42, size(θʲ, 1));\n",
    "\n",
    "ŵ = ones(42, 1)\n",
    "P̂ₙʲ = ones(42, size(θʲ, 1))\n",
    "D̂ₙ = ones(42,1)\n",
    "\n",
    "va = Array(va⁰[!,:value_added]);\n"
   ]
  },
  {
   "cell_type": "markdown",
   "id": "adopted-rouge",
   "metadata": {},
   "source": [
    "Find the A matrix before looping. This literally took me forever to figure out how to do efficiently, but the strategy comes down to:\n",
    "- find the indices with supposedly nonzero terms\n",
    "- make two sparse matrices for d=n and o=n\n",
    "- add the two matrices together\n",
    "\n",
    "This shouldn't take too long or too much memory."
   ]
  },
  {
   "cell_type": "code",
   "execution_count": 148,
   "id": "wrapped-expense",
   "metadata": {},
   "outputs": [],
   "source": [
    "findindex = function(dim, sector)\n",
    "    index=DataFrame(iteration = Int[], country_dest = Int[], country_org = Int[], sector_org = Int[]) \n",
    "    iter = 0\n",
    "    for country_dest in 1:dim\n",
    "        for country_org in 1:dim\n",
    "            for sector_org in 1:sector\n",
    "                iter += 1 \n",
    "                push!(index, (iter, country_dest, country_org, sector_org))\n",
    "            end\n",
    "        end\n",
    "    end\n",
    "    \n",
    "    return index\n",
    "end\n",
    "\n",
    "rowindex = findindex(42, size(θʲ, 1));\n",
    "colindex = findindex(42, size(θʲ, 1));\n"
   ]
  },
  {
   "cell_type": "code",
   "execution_count": 149,
   "id": "talented-positive",
   "metadata": {
    "scrolled": true
   },
   "outputs": [
    {
     "data": {
      "text/plain": [
       "93492×93492 SparseMatrixCSC{Float64, Int64} with 0 stored entries:\n",
       "⠀⠀⠀⠀⠀⠀⠀⠀⠀⠀⠀⠀⠀⠀⠀⠀⠀⠀⠀⠀⠀⠀⠀⠀⠀⠀⠀⠀⠀⠀⠀⠀⠀⠀⠀⠀⠀⠀⠀⠀\n",
       "⠀⠀⠀⠀⠀⠀⠀⠀⠀⠀⠀⠀⠀⠀⠀⠀⠀⠀⠀⠀⠀⠀⠀⠀⠀⠀⠀⠀⠀⠀⠀⠀⠀⠀⠀⠀⠀⠀⠀⠀\n",
       "⠀⠀⠀⠀⠀⠀⠀⠀⠀⠀⠀⠀⠀⠀⠀⠀⠀⠀⠀⠀⠀⠀⠀⠀⠀⠀⠀⠀⠀⠀⠀⠀⠀⠀⠀⠀⠀⠀⠀⠀\n",
       "⠀⠀⠀⠀⠀⠀⠀⠀⠀⠀⠀⠀⠀⠀⠀⠀⠀⠀⠀⠀⠀⠀⠀⠀⠀⠀⠀⠀⠀⠀⠀⠀⠀⠀⠀⠀⠀⠀⠀⠀\n",
       "⠀⠀⠀⠀⠀⠀⠀⠀⠀⠀⠀⠀⠀⠀⠀⠀⠀⠀⠀⠀⠀⠀⠀⠀⠀⠀⠀⠀⠀⠀⠀⠀⠀⠀⠀⠀⠀⠀⠀⠀\n",
       "⠀⠀⠀⠀⠀⠀⠀⠀⠀⠀⠀⠀⠀⠀⠀⠀⠀⠀⠀⠀⠀⠀⠀⠀⠀⠀⠀⠀⠀⠀⠀⠀⠀⠀⠀⠀⠀⠀⠀⠀\n",
       "⠀⠀⠀⠀⠀⠀⠀⠀⠀⠀⠀⠀⠀⠀⠀⠀⠀⠀⠀⠀⠀⠀⠀⠀⠀⠀⠀⠀⠀⠀⠀⠀⠀⠀⠀⠀⠀⠀⠀⠀\n",
       "⠀⠀⠀⠀⠀⠀⠀⠀⠀⠀⠀⠀⠀⠀⠀⠀⠀⠀⠀⠀⠀⠀⠀⠀⠀⠀⠀⠀⠀⠀⠀⠀⠀⠀⠀⠀⠀⠀⠀⠀\n",
       "⠀⠀⠀⠀⠀⠀⠀⠀⠀⠀⠀⠀⠀⠀⠀⠀⠀⠀⠀⠀⠀⠀⠀⠀⠀⠀⠀⠀⠀⠀⠀⠀⠀⠀⠀⠀⠀⠀⠀⠀\n",
       "⠀⠀⠀⠀⠀⠀⠀⠀⠀⠀⠀⠀⠀⠀⠀⠀⠀⠀⠀⠀⠀⠀⠀⠀⠀⠀⠀⠀⠀⠀⠀⠀⠀⠀⠀⠀⠀⠀⠀⠀\n",
       "⠀⠀⠀⠀⠀⠀⠀⠀⠀⠀⠀⠀⠀⠀⠀⠀⠀⠀⠀⠀⠀⠀⠀⠀⠀⠀⠀⠀⠀⠀⠀⠀⠀⠀⠀⠀⠀⠀⠀⠀\n",
       "⠀⠀⠀⠀⠀⠀⠀⠀⠀⠀⠀⠀⠀⠀⠀⠀⠀⠀⠀⠀⠀⠀⠀⠀⠀⠀⠀⠀⠀⠀⠀⠀⠀⠀⠀⠀⠀⠀⠀⠀\n",
       "⠀⠀⠀⠀⠀⠀⠀⠀⠀⠀⠀⠀⠀⠀⠀⠀⠀⠀⠀⠀⠀⠀⠀⠀⠀⠀⠀⠀⠀⠀⠀⠀⠀⠀⠀⠀⠀⠀⠀⠀\n",
       "⠀⠀⠀⠀⠀⠀⠀⠀⠀⠀⠀⠀⠀⠀⠀⠀⠀⠀⠀⠀⠀⠀⠀⠀⠀⠀⠀⠀⠀⠀⠀⠀⠀⠀⠀⠀⠀⠀⠀⠀\n",
       "⠀⠀⠀⠀⠀⠀⠀⠀⠀⠀⠀⠀⠀⠀⠀⠀⠀⠀⠀⠀⠀⠀⠀⠀⠀⠀⠀⠀⠀⠀⠀⠀⠀⠀⠀⠀⠀⠀⠀⠀\n",
       "⠀⠀⠀⠀⠀⠀⠀⠀⠀⠀⠀⠀⠀⠀⠀⠀⠀⠀⠀⠀⠀⠀⠀⠀⠀⠀⠀⠀⠀⠀⠀⠀⠀⠀⠀⠀⠀⠀⠀⠀\n",
       "⠀⠀⠀⠀⠀⠀⠀⠀⠀⠀⠀⠀⠀⠀⠀⠀⠀⠀⠀⠀⠀⠀⠀⠀⠀⠀⠀⠀⠀⠀⠀⠀⠀⠀⠀⠀⠀⠀⠀⠀\n",
       "⠀⠀⠀⠀⠀⠀⠀⠀⠀⠀⠀⠀⠀⠀⠀⠀⠀⠀⠀⠀⠀⠀⠀⠀⠀⠀⠀⠀⠀⠀⠀⠀⠀⠀⠀⠀⠀⠀⠀⠀\n",
       "⠀⠀⠀⠀⠀⠀⠀⠀⠀⠀⠀⠀⠀⠀⠀⠀⠀⠀⠀⠀⠀⠀⠀⠀⠀⠀⠀⠀⠀⠀⠀⠀⠀⠀⠀⠀⠀⠀⠀⠀\n",
       "⠀⠀⠀⠀⠀⠀⠀⠀⠀⠀⠀⠀⠀⠀⠀⠀⠀⠀⠀⠀⠀⠀⠀⠀⠀⠀⠀⠀⠀⠀⠀⠀⠀⠀⠀⠀⠀⠀⠀⠀"
      ]
     },
     "execution_count": 149,
     "metadata": {},
     "output_type": "execute_result"
    }
   ],
   "source": [
    "# Join by country to get d=n or o=n! \n",
    "d_eq_n = innerjoin(rowindex, colindex, on=[:country_dest], makeunique=true)\n",
    "select!(d_eq_n, [:iteration, :iteration_1])\n",
    "d_eq_n = Array(d_eq_n)\n",
    "\n",
    "o_eq_n = innerjoin(rowindex, colindex, on=[:country_dest => :country_org], makeunique=true)\n",
    "select!(o_eq_n, [:iteration, :iteration_1])\n",
    "o_eq_n = Array(o_eq_n)\n",
    "\n",
    "rowindex = Array(rowindex);\n",
    "colindex = Array(colindex);\n",
    "\n",
    "# Now let's focus on the values for d = n \n",
    "val = Float64[]\n",
    "new_rows = []\n",
    "for row in eachrow(d_eq_n)\n",
    "    i = row[1] #row (out of NNJ)\n",
    "    j = row[2] #column (out of NNJ)\n",
    "    num = πₙᵢʲ[rowindex[i,:][3], rowindex[i,:][2], rowindex[i,:][4]] * αₙʲ[rowindex[i,:][2], rowindex[i,:][4]] * τ¹[colindex[j,:][2], colindex[j,:][3], colindex[j,:][4]] / (1 + τ¹[colindex[i,:][2], colindex[j,:][3], colindex[j,:][4]])\n",
    "    push!(val, num)\n",
    "end\n",
    "\n",
    "# No need to waste memory if everything is zero\n",
    "if size(val, 1) != 0\n",
    "    dn = sparse(d_eq_n[:,1], d_eq_n[:, 2], val);\n",
    "else \n",
    "    dn = spzeros(size(rowindex, 1), size(colindex, 1));\n",
    "end \n"
   ]
  },
  {
   "cell_type": "code",
   "execution_count": 150,
   "id": "oriented-pontiac",
   "metadata": {},
   "outputs": [],
   "source": [
    "# Now focus on values for o = n \n",
    "val = Float64[] \n",
    "for row in eachrow(o_eq_n)\n",
    "    i = row[1] #row (out of NNJ)\n",
    "    j = row[2] #column (out of NNJ)\n",
    "    num = πₙᵢʲ[rowindex[i,:][3], rowindex[i,:][2], rowindex[i,:][4]] * γᵢᵏʲ[rowindex[i,:][2], rowindex[i,:][4], colindex[j,:][4]] / (1 + τ¹[colindex[j,:][2], colindex[j,:][3], colindex[j,:][4]])\n",
    "    push!(val, num)\n",
    "end\n",
    "\n",
    "on = sparse(o_eq_n[:,1], o_eq_n[:, 2], val);\n",
    "\n",
    "# A matrix is just the sum of two components: one where d=n and one where o=n\n",
    "Α = on + dn;"
   ]
  },
  {
   "cell_type": "markdown",
   "id": "grateful-floor",
   "metadata": {},
   "source": [
    "## Now we want to benchmark whether excess demand will converge in one go\n",
    "This works if tolerance is high, but something goes wrong and the price vector doesn't converge if tolerance is lower."
   ]
  },
  {
   "cell_type": "code",
   "execution_count": 189,
   "id": "sixth-agent",
   "metadata": {
    "scrolled": true
   },
   "outputs": [
    {
     "name": "stdout",
     "output_type": "stream",
     "text": [
      "0.9999999999999964\n",
      "p_b is fine\n",
      "pi_f is fine\n",
      "0.1369383714183927\n",
      "[1.000148186239941; 1.00013938000314; 1.0000573025953985; 0.9995829779241897; 0.9999672517687951; 1.0002541525925448; 1.000630401754687; 1.0000687914868953; 1.000197855223465; 1.000397103239504; 1.0001798830106128; 0.9999520750737018; 0.999980246686361; 0.9998252373301325; 0.9999647608750375; 1.0000561614883416; 0.9994969127428497; 1.0001440811154905; 1.0000549678789568; 1.0001260818964977; 0.9998996218423876; 0.9995777331941199; 1.000037993598906; 0.9999304048442813; 0.9999459697103185; 0.9998307496304861; 0.9993432065476466; 0.999595594790176; 1.0001949359907483; 1.0008964690417101; 1.001369383714184; 1.0002587864494998; 0.999937205603024; 1.0000164908431042; 0.9995308278976448; 1.0007813012437374; 1.0001505306073706; 1.000060069221593; 1.0002228569357265; 1.0001386105562966; 1.0003767416304654; 0.9998891710299727]\n"
     ]
    },
    {
     "data": {
      "text/plain": [
       "4-element Vector{Array{Float64, N} where N}:\n",
       " [1.000148186239941; 1.00013938000314; … ; 1.0003767416304654; 0.9998891710299727]\n",
       " [1.0 1.0 … 1.0 1.0; 1.0 1.0 … 1.0 1.0; … ; 1.0 1.0 … 1.0 1.0; 1.0 1.0 … 1.0 1.0]\n",
       " [58620.36467634036 3.8918258204234006 … 4.2254917813638615 200.89244003685076; 0.678292663104555 7763.933398447465 … 0.08175374035087922 11.202051052834232; … ; 136.6192888730285 0.5245146117163837 … 16283.405665416964 1345.3862279610937; 124.53044153047867 17.644809919952685 … 59.03433800188687 387091.24605646887]\n",
       "\n",
       "[2342.9439719179745 0.19196015687061949 … 0.0055168148796171075 1.1693080935704707; 0.008219454890930226 3169.0373802268828 … 0.00011320798611571982 0.14752758509956207; … ; 5.673606364147622 0.06939946235560454 … 53.974121086667466 9.796028121380427; 27.36871938972642 0.2541771930911763 … 15.411920597795 29274.337741912743]\n",
       "\n",
       "[2739.0803105637365 0.0 … 0.6440691443067385 1.2475438441162068; 0.011288575029193197 85.02457439849634 … 0.5345114061525424 0.1082567551590716; … ; 0.8072961994174421 0.0 … 2406.7617736022185 21.809392512485648; 10.39965601933779 0.028522708243022485 … 168.26172829586145 17878.088363936164]\n",
       "\n",
       "...\n",
       "\n",
       "[84969.47426296156 0.21289899444943752 … 0.05822836223119535 152.08232244006962; 2.875135268264129 25237.560668382645 … 0.0172421394812093 7.841300099134413; … ; 4.059289396491115 0.07480369397644226 … 27842.272189775707 65.96383350981341; 155.94630018434054 23.582788275097545 … 0.8933026802693406 315533.9015894446]\n",
       "\n",
       "[129932.12854402362 0.4340539104172116 … 0.009372577454659305 51.98615695602461; 4.500755912096082 39487.01301291853 … 0.010039802582633713 3.115242125822604; … ; 0.04394740904526967 0.16715080614990863 … 24878.72277662324 1.676215987171904; 7.676077818844956 2.25474690084893 … 0.21721793286635177 2.0851331596606357e6]\n",
       "\n",
       "[192498.67848578564 1.2022670711029333 … 1.0348052507272802 150.52253132533193; 0.5760926837445064 47175.1247569788 … 0.7012163133728717 92.97225951972402; … ; 2.415886540977049 7.298177323323544 … 75918.77719766744 69.91023832684671; 18.028556458495878 11.24034501616027 … 20.052810789220963 4.192708930950698e6]\n",
       " [1.0 1.0 … 1.0 1.0; 1.0 1.0 … 1.0 1.0; … ; 1.0 1.0 … 1.0 1.0; 1.0 1.0 … 1.0 1.0]\n",
       "\n",
       "[1.0 1.0 … 1.0 1.0; 1.0 1.0 … 1.0 1.0; … ; 1.0 1.0 … 1.0 1.0; 1.0 1.0 … 1.0 1.0]\n",
       "\n",
       "[1.0 1.0 … 1.0 1.0; 1.0 1.0 … 1.0 1.0; … ; 1.0 1.0 … 1.0 1.0; 1.0 1.0 … 1.0 1.0]\n",
       "\n",
       "...\n",
       "\n",
       "[1.0 1.0 … 1.0 1.0; 1.0 1.0 … 1.0 1.0; … ; 1.0 1.0 … 1.0 1.0; 1.0 1.0 … 1.0 1.0]\n",
       "\n",
       "[1.0 1.0 … 1.0 1.0; 1.0 1.0 … 1.0 1.0; … ; 1.0 1.0 … 1.0 1.0; 1.0 1.0 … 1.0 1.0]\n",
       "\n",
       "[1.0 1.0 … 1.0 1.0; 1.0 1.0 … 1.0 1.0; … ; 1.0 1.0 … 1.0 1.0; 1.0 1.0 … 1.0 1.0]"
      ]
     },
     "execution_count": 189,
     "metadata": {},
     "output_type": "execute_result"
    }
   ],
   "source": [
    "# Moment of truth i guess\n",
    "j = iterate_exccess_demand(πₙᵢʲ, λ̂ᵢʲ, τ̂, τ¹, ŵ, va, γᵢʲ, γᵢᵏʲ, P̂ₙʲ, αₙʲ, tfs, D̂ₙ, Α, rowindex, θʲ, 0.01, 0.2)"
   ]
  },
  {
   "cell_type": "markdown",
   "id": "cellular-status",
   "metadata": {},
   "source": [
    "## Now we actually simulate the TFP shock to China"
   ]
  },
  {
   "cell_type": "code",
   "execution_count": 198,
   "id": "medieval-growing",
   "metadata": {
    "scrolled": true
   },
   "outputs": [
    {
     "name": "stdout",
     "output_type": "stream",
     "text": [
      "0.5770438600174252\n",
      "p_b is fine\n",
      "pi_f is fine\n",
      "19.19993594765865\n",
      "[1.039675261466077; 1.006778456584352; 1.0077076599841803; 1.0080578098875845; 1.0093324267720578; 1.0064142302575834; 1.0083078641744392; 1.383998718953173; 1.0077257866921479; 1.0113736697998306; 1.00781712591196; 1.002926879645974; 1.0051343708491414; 1.0073833197557844; 1.0041737743850843; 1.004478702495243; 1.0025968416807618; 1.004770830531737; 1.0063377424532247; 1.0150153798112833; 1.0039490774074555; 1.006687669194004; 1.0039466363760652; 1.0089437659637825; 1.0307705044592692; 1.004989396320559; 1.006594317319862; 1.0032175639360086; 1.0045321823518194; 1.0107459697257442; 1.0126933172729526; 1.004928229945927; 1.0032723013117153; 1.0039634382445866; 1.0290965390516753; 1.0203066031934604; 1.0063737679698035; 1.0051539557993656; 1.0071645919081362; 1.0057105850585224; 1.0509944311348782; 1.0026670049382682]\n",
      "0.681818082997719\n",
      "0.9499328949368298\n",
      "p_b is fine\n",
      "pi_f is fine\n",
      "1.311536081125036\n",
      "[1.0270141156609844; 1.0022478077266772; 1.002064873631893; 1.0016600613984858; 1.004140874107164; 1.0019559668433735; 1.003622395157406; 1.3577679973306724; 1.002267156901143; 1.0060426088272296; 1.0027703616726549; 0.999696129031876; 0.9996215924596996; 1.0015941823389498; 1.000595301366135; 1.0006419247612244; 0.9982395376418124; 1.0004402243004087; 1.001372785800845; 1.0067881264476721; 1.0000402600342857; 1.0006351399832245; 1.0004227804816543; 1.0033537421683223; 1.0196317778820096; 0.9992456945680332; 0.9991258142117179; 0.9980969993432675; 1.001410972232761; 1.005197155538469; 1.006923063575854; 1.0005677222997684; 0.9997445773452833; 0.9995245889714007; 1.0175816241513043; 1.0110955873186755; 1.0015382257826568; 1.0003038741220602; 1.0022797064701876; 1.001259260983391; 1.037895360815328; 0.999584379183737]\n",
      "0.6752884562759212\n",
      "0.9391816227726866\n",
      "p_b is fine\n",
      "pi_f is fine\n",
      "1.277654369642071\n",
      "[1.0166911151816969; 0.9997214274422027; 0.9987334303809603; 0.9977477046858241; 1.0008515585674078; 0.9997084614910966; 1.0011052815014205; 1.332214909937831; 0.9991252001427148; 1.0027105709698074; 0.9998259130724457; 0.998066573131628; 0.9966594637924857; 0.9981016277144908; 0.9987069432000611; 0.9987426409731358; 0.9957322031905025; 0.9982267961057585; 0.9984504515530078; 1.0011834462447122; 0.997803954701934; 0.9967794375895349; 0.9986490949950889; 0.9997262907632316; 1.0106169966818488; 0.9957865463383859; 0.9942803359102704; 0.9955501764196326; 0.9997863626089836; 1.0019759344751766; 1.0037147607159684; 0.9983891615257886; 0.9979038206694165; 0.9973045535936432; 1.0083571732462895; 1.0047467923679623; 0.9988951344312845; 0.9976759079860071; 0.9994886595852774; 0.998797606756667; 1.0266832520563778; 0.998174746490598]\n",
      "0.6689024654704854\n",
      "0.9288605947967061\n",
      "p_b is fine\n",
      "pi_f is fine\n",
      "1.2432233347139048\n",
      "[1.0089414730412296; 0.9986637210976551; 0.997236533898845; 0.9958950234936329; 0.9991342278482782; 0.9990638640896008; 1.0001669569955476; 1.307350443243553; 0.997782851616213; 1.0009377325667053; 0.9985012701536494; 0.9975500101942602; 0.9956577265557158; 0.9964162170974014; 0.997986290091084; 0.9981489374657998; 0.9947347313475893; 0.9975651269056698; 0.9971260615432991; 0.9981543616378212; 0.9969038542125788; 0.9946674512166179; 0.9980771509837089; 0.9977222970211541; 1.0038211309934713; 0.9943193427487901; 0.9916531928734087; 0.9948881236982121; 0.9992551258551196; 1.000618215683085; 1.0026922144735027; 0.9978344445276901; 0.9972936900686393; 0.9967512173400036; 1.001595351388339; 1.0013678315889827; 0.9979108307125503; 0.9966957725596318; 0.9982641966119461; 0.9978353669402381; 1.0174551137204464; 0.9978327957831054]\n",
      "0.6626483195051311\n",
      "0.9189239876211406\n",
      "p_b is fine\n",
      "pi_f is fine\n",
      "1.2081412796722721\n",
      "[1.0037897243297484; 0.9984774190323678; 0.9969333571861058; 0.9954513305124657; 0.9985541277046341; 0.9992561242350743; 1.0001517273185356; 1.2831876176501076; 0.9975417453857707; 1.000184545381922; 0.9982033650811831; 0.9976835283513797; 0.9958078934784986; 0.995882513863275; 0.9979253660834297; 0.9982509869348559; 0.9948195326773532; 0.9978313818233818; 0.9968469298558347; 0.9972558042024914; 0.996944368242752; 0.9937415410648397; 0.9981707606840222; 0.996897190975615; 0.9991747930217676; 0.9942873064729599; 0.9906059510087799; 0.995224720253448; 0.9993306262463333; 1.000484425642227; 1.0031233150528596; 0.9981637776843921; 0.9974479254137948; 0.9971576997699181; 0.9972696205140124; 1.0004512610673897; 0.9979261035503575; 0.9966965556502401; 0.9979920454433152; 0.9978153567033159; 1.0102076238799658; 0.9980011740937846]\n",
      "0.6565140912914498\n",
      "0.9093174084977447\n",
      "p_b is fine\n",
      "pi_f is fine\n",
      "1.1722698549458568\n",
      "[1.0008883449140418; 0.998671032339043; 0.9972050702990006; 0.9957268483597652; 0.9986069233948969; 0.9997030703333627; 1.0005270589008792; 1.2597422205511903; 0.9977737998970009; 0.9999662162661552; 0.9983925138131701; 0.9980941784965864; 0.996392214076651; 0.9958921074702213; 0.9981363331309181; 0.9986029857322208; 0.9954778234886222; 0.9984894019969259; 0.9970876577398913; 0.9976077371905181; 0.9974857960669543; 0.9934826234762699; 0.9985152661959696; 0.9967822740350929; 0.9963734989061415; 0.9949754209242969; 0.9904631237476857; 0.9958511893703269; 0.9996254619060875; 1.0009372425033958; 1.0041620314126076; 0.9987349796079794; 0.9979532763431428; 0.9978907289468172; 0.994987964442373; 1.0007895042254675; 0.9983569528202202; 0.9971196087658195; 0.9981484541100484; 0.9982315226160309; 1.0047908199234439; 0.9983121662194381]\n",
      "0.6504923656125559\n",
      "p_b is fine\n",
      "pi_f is fine\n",
      "1.1097810155370846\n",
      "[0.9998302720619329; 0.9993507460269172; 0.9982278674863034; 0.9966969382248313; 0.9990541164686495; 1.0003465985799649; 1.0012075639569924; 1.2375466002404487; 0.9987097601975706; 1.0003798498051795; 0.9991184372173524; 0.9989345110020529; 0.9977380066753905; 0.9970107790007418; 0.9988321850059446; 0.9993611773702158; 0.996905864592183; 0.9995891242379307; 0.998119643038443; 0.9989246165421185; 0.998555752682344; 0.9944895826657304; 0.9992332174018196; 0.9978218251861698; 0.996098019088856; 0.9966168271413854; 0.9920090855180673; 0.9969291779191946; 1.0001495502760154; 1.0019225412703594; 1.0047775074528107; 0.9996684802071419; 0.9988206021278726; 0.9989106227104185; 0.9949879622092845; 1.0015899896648446; 0.9993133470803341; 0.9982937798772485; 0.9990242120847767; 0.9992252243378166; 1.0011864746799557; 0.9989490054906152]\n",
      "0.644736295518114\n",
      "p_b is fine\n",
      "pi_f is fine\n",
      "1.073292579732209\n",
      "[0.9993451839669956; 0.9996534412314435; 0.9987054931529895; 0.9971286595124862; 0.9992357064446383; 1.0005452438828193; 1.001523161568747; 1.2160807486458045; 0.9991706879691585; 1.0005471724190076; 0.9994295896670181; 0.9993052827652037; 0.9983481078346084; 0.9975039942265115; 0.9991269013601566; 0.9996711372827538; 0.9974920598417888; 1.0000967768372313; 0.9986562855905363; 0.999405192572028; 0.9990260905522544; 0.9950413695972393; 0.9995342905579978; 0.9983225620541906; 0.9960168331015632; 0.9974351933102346; 0.9928910431210118; 0.9973720286796021; 1.0003364823356031; 1.002390674048538; 1.0049192372628084; 1.0000598364454774; 0.9992156980463882; 0.9993592147149403; 0.9949621523229726; 1.0017903105745907; 0.9997705167618969; 0.9988847768616006; 0.9994201468805516; 0.9996746937315449; 0.9988890230712131; 0.9991780670444238]\n",
      "0.6390774844340799\n",
      "p_b is fine\n",
      "pi_f is fine\n",
      "1.0343793299904638\n",
      "[0.9991690166132461; 0.9998171777612005; 0.9989732322308281; 0.9973597924601987; 0.9993304466006342; 1.0006317391560928; 1.0017104148792393; 1.1953931620459952; 0.9994459867424027; 1.0006483369736268; 0.999599994218776; 0.9994926900141184; 0.998680835855267; 0.9977689555227929; 0.9992747234893946; 0.9998218534688775; 0.9977707132447722; 1.0003669966390558; 0.9989837892155917; 0.9996435176606825; 0.9992647986340797; 0.9954049833239964; 0.9996849097817807; 0.9986056036653712; 0.9960880305811984; 0.9979129097484174; 0.9934827011629187; 0.997588152130012; 1.0004275707674053; 1.0026696319348098; 1.0049595651602563; 1.0002580855225516; 0.9994232885133255; 0.9995899287441321; 0.9950215153134984; 1.0018735305256017; 1.0000283429639307; 0.9992295578170601; 0.999642519333312; 0.9999158345730165; 0.9975784034589078; 0.9992814765227604]\n",
      "0.6335437765032326\n",
      "p_b is fine\n"
     ]
    },
    {
     "name": "stdout",
     "output_type": "stream",
     "text": [
      "pi_f is fine\n",
      "0.9924867257466586\n",
      "[0.9991363268370602; 0.9999221224854479; 0.9991459210343853; 0.9975022084158938; 0.9993921096895149; 1.0006885811210255; 1.001844515359745; 1.1755434275310621; 0.9996370329797213; 1.0007335547922833; 0.9997149943850686; 0.9995992011037829; 0.9988907649070992; 0.9979393720798421; 0.9993626741810213; 0.9999078722579385; 0.9979183566340868; 1.0005245441411152; 0.9992074626511522; 0.9997930149081091; 0.9994017395804431; 0.9956699142602231; 0.9997751942602806; 0.9987915251277123; 0.996254695008056; 0.9982174315003726; 0.9939076206826967; 0.9977100201311736; 1.0004884672888161; 1.0028664554002646; 1.0049790016435076; 1.0003768901310324; 0.9995454946324906; 0.9997241099870084; 0.9951476346985653; 1.001928440853399; 1.000193010794957; 0.9994538461192753; 0.9997923796810984; 1.000066136964573; 0.996939274126846; 0.9993416265879946]\n",
      "0.6281601507799683\n",
      "p_b is fine\n",
      "pi_f is fine\n",
      "0.946750769938771\n",
      "[0.9991672286146722; 1.0000010792017022; 0.9992725314327665; 0.9976024446443241; 0.9994405860133586; 1.0007385694423012; 1.0019554585186519; 1.1566084121322866; 0.9997876610492472; 1.0008189041053412; 0.9998074621465219; 0.9996680426184201; 0.9990425304813493; 0.9980694286664651; 0.9994255456542297; 0.9999662214064678; 0.99800634366052; 1.000624425000471; 0.9993757307795522; 0.9999065292627777; 0.9994915657436412; 0.9958766561818971; 0.9998405733119035; 0.9989333474086006; 0.996481782471779; 0.998425852385109; 0.9942233329462582; 0.997790357453448; 1.00053961889354; 1.0030249211187892; 1.004996535185857; 1.0004612790224667; 0.9996263857975781; 0.9998127065658697; 0.995317005330604; 1.001975692588256; 1.0003112104296348; 0.9996151401827446; 0.9999105449717899; 1.0001746539533243; 0.9967349007244006; 0.9993863127768186]\n",
      "0.622955635959944\n",
      "p_b is fine\n",
      "pi_f is fine\n",
      "0.8960622495120879\n",
      "[0.9992279181133803; 1.0000691112623137; 0.9993767718552639; 0.997682548123882; 0.9994844864930748; 1.0007881892577646; 1.0020571468274708; 1.1386871671420449; 0.9999191417745227; 1.0009099971691071; 0.9998918900464628; 0.9997190433710096; 0.9991662004621059; 0.9981832087080145; 0.9994784349665952; 1.0000129086517702; 0.9980664464889503; 1.0006939211562937; 0.9995138077358187; 1.0000057358753; 0.9995593671708417; 0.9960476790389069; 0.999896057156285; 0.9990564588870391; 0.9967520609162791; 0.9985790647510779; 0.9944634318117928; 0.9978523296576035; 1.0005878556947136; 1.0031655625409828; 1.005016547267511; 1.0005308356261735; 0.9996869039122311; 0.9998793890624585; 0.9955158070949004; 1.0020217009636825; 1.000406029016956; 0.9997426646403431; 1.0000154820843545; 1.0002637176313285; 0.9968105985405151; 0.9994256918073069]\n",
      "0.6179661401149503\n",
      "p_b is fine\n",
      "pi_f is fine\n",
      "0.8390725868671672\n",
      "[0.9993059089387939; 1.0001336499771014; 0.9994709764203622; 0.9977537144426911; 0.9995280646735342; 1.0008392568351137; 1.0021565971914708; 1.1219057154047016; 1.000042468833347; 1.0010090070545643; 0.9999752523610766; 0.9997616626332305; 0.9992764012283358; 0.9982919338194716; 0.9995281874458105; 1.0000552209917677; 0.9981134042142593; 1.0007472838309617; 0.9996357191354044; 1.000100712144967; 0.9996171204420686; 0.9961969397993146; 0.9999482261067301; 0.9991736713377101; 0.9970588665558544; 0.9987001255618647; 0.9946498693399823; 0.9979064905310057; 1.0006355235063662; 1.0032987736338628; 1.0050398597891337; 1.0005944023649302; 0.9997374324453295; 0.9999356580110594; 0.9957376123607401; 1.0020693629324848; 1.0004895961646985; 0.9998520286353209; 1.0001160565672131; 1.0003438783536989; 0.9970741779220642; 0.9994636597582733]\n",
      "0.6132364277611562\n",
      "p_b is fine\n",
      "pi_f is fine\n",
      "0.7742387461030529\n",
      "[0.9993979892781302; 1.0001985137578275; 0.9995617753131056; 0.9978217837632525; 0.9995737027833893; 1.0008921968566602; 1.0022573972922026; 1.1064209404826406; 1.0001634543362454; 1.0011169313616557; 1.0000610539363068; 0.9998004239993417; 0.9993801672417365; 0.9984008894504967; 0.9995779438953456; 1.0000965087889708; 0.998154015417645; 1.0007920009803928; 0.9997494604632066; 1.0001965611956702; 0.9996705483186228; 0.9963335153235136; 0.9999999437350362; 0.9992916534696049; 0.9974010658368526; 0.9988021805695799; 0.994797557279202; 0.9979575337962435; 1.0006833458863618; 1.003429911033077; 1.0050664262623192; 1.000655906318769; 0.9997831072860894; 0.9999870931274079; 0.9959799949325232; 1.0021204043946492; 1.0005684147779166; 0.9999516352907775; 1.000216553155755; 1.0004200833077985; 0.9974746493531056; 0.9995017043929437]\n",
      "0.6088216080476605\n",
      "p_b is fine\n",
      "pi_f is fine\n",
      "0.6999931716314608\n",
      "[0.9995048534674084; 1.000265627223534; 0.999652654646307; 0.9978897161351002; 0.9996228857387788; 1.0009469277653704; 1.0023611246640245; 1.0924210770500113; 1.0002850230137605; 1.0012342475032252; 1.0001509499307528; 0.9998373582939243; 0.9994804859674036; 0.9985123806883806; 0.9996290474702467; 1.0001381978041357; 0.9981911494545668; 1.0008318151975317; 0.9998594564642119; 1.0002959212424687; 0.9997222065217025; 0.9964632438817032; 1.0000523054849122; 0.9994138004410479; 0.9977798121859367; 0.9988924402533164; 0.9949165398018714; 0.9980072385668277; 1.0007313481854219; 1.003561487064832; 1.005095919096268; 1.0007168486992746; 0.999826277300273; 1.000036189106729; 0.9962421612517619; 1.002175960734863; 1.0006458427033298; 1.0000457786598316; 1.0003188132142873; 1.0004944289543392; 0.9979855651745803; 0.9995402704590002]\n",
      "0.6047874962920159\n",
      "p_b is fine\n",
      "pi_f is fine\n",
      "0.6151688228210801\n",
      "[0.9996285234844857; 1.0003356865891044; 0.9997450740328799; 0.9979586880256643; 0.9996764986935561; 1.0010029980728754; 1.002467845814416; 1.0801177005935898; 1.0004081848530428; 1.0013608566680432; 1.0002452868886722; 0.9998731100395069; 0.999577920110575; 0.9986269087761368; 0.9996817948504197; 1.0001806135141496; 0.9982255685577042; 1.000868227958095; 0.9999677239150592; 1.0003998250615593; 0.9997728744464728; 0.9965894481928329; 1.0001054028992926; 0.9995413757228887; 0.9981959212288545; 0.9989742872471734; 0.9950131296664274; 0.9980557640746702; 1.000779120789973; 1.0036940542486075; 1.00512769149981; 1.0007773515166858; 0.9998676642781268; 1.0000836594972824; 0.9965231826286334; 1.0022365983189165; 1.0007232317433001; 1.0001361645602038; 1.0004230812450177; 1.0005673810571987; 0.9985926936048677; 0.9995792131278387]\n",
      "0.601208261327663\n",
      "p_b is fine\n",
      "pi_f is fine\n",
      "0.5198397932659787\n",
      "[0.9997704664082312; 1.0004082320389758; 0.9998387710231096; 0.9980284270057103; 0.9997346812113694; 1.0010594297291444; 1.0025760929202285; 1.0697209047282703; 1.0005322583918095; 1.0014955519087343; 1.0003430386286971; 0.9999073912727123; 0.9996712797735416; 0.9987434185182901; 0.9997356093554992; 1.0002232227863788; 0.9982567342594995; 1.000901208925883; 1.00007429643719; 1.0005076644355002; 0.9998221095247024; 0.9967130785436492; 1.0001585216813105; 0.9996736623101302; 0.9986468833452162; 0.9990483720915324; 0.9950904566967759; 0.998102156348919; 1.0008258215393704; 1.003826363179954; 1.0051604646663357; 1.0008365126766472; 0.9999068687879309; 1.0001289791602468; 0.9968201759656539; 1.0023019358058345; 1.0008003243934767; 1.0002225872742145; 1.0005281650489413; 1.0006382347340885; 0.9992838858832208; 0.9996178722426761]\n",
      "0.5981587098397272\n",
      "p_b is fine\n",
      "pi_f is fine\n",
      "0.4166097171707619\n",
      "[0.9999293275400979; 1.0004813681389717; 0.9999315877239561; 0.9980970983261519; 0.9997963215210599; 1.0011144291154646; 1.0026825699865796; 1.0613887103848552; 1.0006546560816303; 1.001635125940867; 1.0004414007619022; 0.9999391266062303; 0.9997578617126808; 0.998859039840094; 0.9997889201533973; 1.000264588966794; 0.9982831732727451; 1.0009295086325274; 1.0001772319845834; 1.000616589766901; 0.9998684018454315; 0.996832492608551; 1.0002100735414288; 0.9998075296565644; 0.9991231350979288; 0.9991132006209184; 0.9951487186283094; 0.9981445055058525; 1.0008700731422258; 1.0039551160419937; 1.0051918900608543; 1.0008924453979415; 0.9999425656613149; 1.0001705674930135; 0.9971260931037694; 1.0023698995770012; 1.0008752388824074; 1.0003031739912724; 1.0006312350910942; 1.0007052001297905; 1.0000395757205447; 0.9996549900887356]\n",
      "0.5956983362727206\n",
      "p_b is fine\n",
      "pi_f is fine\n",
      "0.31182164402232393\n",
      "[1.0000982683024642; 1.0005514842624728; 1.0000192705630753; 0.9981611312924505; 0.99985844196824; 1.0011651884225046; 1.0027820163147512; 1.0551522775044087; 1.0007706617134549; 1.0017735250806816; 1.000535474428455; 0.9999665719248798; 0.9998337315911854; 0.9989688106150889; 0.9998390468281582; 1.000302335123715; 0.9983028159055811; 1.0009509508063774; 1.0002726182024302; 1.0007208898803592; 0.9999092980241735; 0.99694331920751; 1.0002575482246754; 0.9999369888604147; 0.9996046820680546; 0.9991657182273123; 0.9951856250087273; 0.998180131150058; 1.0009099158541204; 1.0040747956649945; 1.0052183188274062; 1.0009423436342777; 0.9999726939935314; 1.0002059707792204; 0.9974276856201705; 1.0024359679639085; 1.0009444398441838; 1.0003746178871669; 1.000727684045322; 1.000765456591938; 1.000824926347644; 0.9996886773194504]\n"
     ]
    },
    {
     "name": "stdout",
     "output_type": "stream",
     "text": [
      "0.593847581618685\n",
      "p_b is fine\n",
      "pi_f is fine\n",
      "0.21518658864971185\n",
      "[1.0002637732609418; 1.0006136431587105; 1.0000960493541518; 0.9982156998049568; 0.9999161952259434; 1.0012082329699716; 1.0028679801526132; 1.0508485457314145; 1.0008739813929837; 1.0019020705590145; 1.0006188423965114; 0.9999877435767722; 0.9998946353908007; 0.9990662182848066; 0.9998825614782934; 1.000333553335462; 0.9983137064259289; 1.0009631686494709; 1.0003552631269539; 1.0008125286186935; 0.999941948971097; 0.9970392734318149; 1.0002979009428994; 1.000053785129745; 1.0000614693778636; 0.9992025023630584; 0.9951978479223544; 0.9982062449358213; 1.000943094879936; 1.0041784373241884; 1.0052354618370984; 1.0009830253105028; 0.9999950100280867; 1.0002324845402395; 0.9977058152167221; 1.0024934677067905; 1.0010033392575852; 1.0004329705771868; 1.0008117575805435; 1.0008156524596035; 1.0015886952873931; 0.9997167279976875]\n",
      "0.5925661947631622\n",
      "p_b is fine\n",
      "pi_f is fine\n",
      "0.13635848440109166\n",
      "[1.0004090546264828; 1.0006632267467648; 1.0001566719863764; 0.9982565122113557; 0.9999643376220879; 1.0012406907488083; 1.0029350270955109; 1.0481213760433927; 1.0009587473171395; 1.002011816993069; 1.0006856830874753; 1.0000013389741929; 0.9999378142083108; 0.9991452789705866; 0.9999164888764018; 1.0003559604514476; 0.9983151962507266; 1.0009649938809133; 1.0004205986879098; 1.0008839647219003; 0.9999643427710879; 0.9971146104197156; 1.000328662046015; 1.0001499531246267; 1.0004611172103601; 0.9992217962342406; 0.9951839029248485; 0.9982212827190017; 1.0009678981859709; 1.0042600262763195; 1.005240396453249; 1.001012215305412; 1.00000817810519; 1.0002484330482329; 0.997940686954072; 1.0025360785708894; 1.0010480186664805; 1.0004753323361948; 1.000878495316697; 1.0008531962865999; 1.0022745906835464; 0.9997374722978516]\n"
     ]
    },
    {
     "data": {
      "text/plain": [
       "4-element Vector{Array{Float64, N} where N}:\n",
       " [1.0004090546264828; 1.0006632267467648; … ; 1.0022745906835464; 0.9997374722978516]\n",
       " [1.0 1.0 … 1.0 1.0; 1.0 1.0 … 1.0 1.0; … ; 1.0 1.0 … 1.0 1.0; 1.0 1.0 … 1.0 1.0]\n",
       " [58620.36467634036 3.8918258204234006 … 4.2254917813638615 200.89244003685076; 0.678292663104555 7763.933398447465 … 0.08175374035087922 11.202051052834232; … ; 136.6192888730285 0.5245146117163837 … 16283.405665416964 1345.3862279610937; 124.53044153047867 17.644809919952685 … 59.03433800188687 387091.24605646887]\n",
       "\n",
       "[2342.9439719179745 0.19196015687061949 … 0.0055168148796171075 1.1693080935704707; 0.008219454890930226 3169.0373802268828 … 0.00011320798611571982 0.14752758509956207; … ; 5.673606364147622 0.06939946235560454 … 53.974121086667466 9.796028121380427; 27.36871938972642 0.2541771930911763 … 15.411920597795 29274.337741912743]\n",
       "\n",
       "[2739.0803105637365 0.0 … 0.6440691443067385 1.2475438441162068; 0.011288575029193197 85.02457439849634 … 0.5345114061525424 0.1082567551590716; … ; 0.8072961994174421 0.0 … 2406.7617736022185 21.809392512485648; 10.39965601933779 0.028522708243022485 … 168.26172829586145 17878.088363936164]\n",
       "\n",
       "...\n",
       "\n",
       "[84969.47426296156 0.21289899444943752 … 0.05822836223119535 152.08232244006962; 2.875135268264129 25237.560668382645 … 0.0172421394812093 7.841300099134413; … ; 4.059289396491115 0.07480369397644226 … 27842.272189775707 65.96383350981341; 155.94630018434054 23.582788275097545 … 0.8933026802693406 315533.9015894446]\n",
       "\n",
       "[129932.12854402362 0.4340539104172116 … 0.009372577454659305 51.98615695602461; 4.500755912096082 39487.01301291853 … 0.010039802582633713 3.115242125822604; … ; 0.04394740904526967 0.16715080614990863 … 24878.72277662324 1.676215987171904; 7.676077818844956 2.25474690084893 … 0.21721793286635177 2.0851331596606357e6]\n",
       "\n",
       "[192498.67848578564 1.2022670711029333 … 1.0348052507272802 150.52253132533193; 0.5760926837445064 47175.1247569788 … 0.7012163133728717 92.97225951972402; … ; 2.415886540977049 7.298177323323544 … 75918.77719766744 69.91023832684671; 18.028556458495878 11.24034501616027 … 20.052810789220963 4.192708930950698e6]\n",
       " [1.0 1.0 … 1.0 1.0; 1.0 1.0 … 1.0 1.0; … ; 1.0 1.0 … 1.0 1.0; 1.0 1.0 … 1.0 1.0]\n",
       "\n",
       "[1.0 1.0 … 1.0 1.0; 1.0 1.0 … 1.0 1.0; … ; 1.0 1.0 … 1.0 1.0; 1.0 1.0 … 1.0 1.0]\n",
       "\n",
       "[1.0 1.0 … 1.0 1.0; 1.0 1.0 … 1.0 1.0; … ; 1.0 1.0 … 1.0 1.0; 1.0 1.0 … 1.0 1.0]\n",
       "\n",
       "...\n",
       "\n",
       "[1.0 1.0 … 1.0 1.0; 1.0 1.0 … 1.0 1.0; … ; 1.0 1.0 … 1.0 1.0; 1.0 1.0 … 1.0 1.0]\n",
       "\n",
       "[1.0 1.0 … 1.0 1.0; 1.0 1.0 … 1.0 1.0; … ; 1.0 1.0 … 1.0 1.0; 1.0 1.0 … 1.0 1.0]\n",
       "\n",
       "[1.0 1.0 … 1.0 1.0; 1.0 1.0 … 1.0 1.0; … ; 1.0 1.0 … 1.0 1.0; 1.0 1.0 … 1.0 1.0]"
      ]
     },
     "execution_count": 198,
     "metadata": {},
     "output_type": "execute_result"
    }
   ],
   "source": [
    "λ̂ᵢʲ = ones(42, size(θʲ, 1))\n",
    "λ̂ᵢʲ[8, :] .= 1.1;\n",
    "\n",
    "j = iterate_exccess_demand(πₙᵢʲ, λ̂ᵢʲ, τ̂, τ¹, ŵ, va, γᵢʲ, γᵢᵏʲ, P̂ₙʲ, αₙʲ, tfs, D̂ₙ, Α, rowindex, θʲ, 0.02, 0.2);\n"
   ]
  },
  {
   "cell_type": "markdown",
   "id": "derived-string",
   "metadata": {},
   "source": [
    "Impact on wages"
   ]
  },
  {
   "cell_type": "code",
   "execution_count": 208,
   "id": "useful-release",
   "metadata": {},
   "outputs": [],
   "source": [
    "bar(cntry, (j[1] .- 1) * 100, legend=false, ylabel=\"Percent change in wages\") \n",
    "savefig(\"output/q2_tfp_shock_wages.pdf\")\n"
   ]
  },
  {
   "cell_type": "code",
   "execution_count": null,
   "id": "blessed-basis",
   "metadata": {},
   "outputs": [],
   "source": []
  }
 ],
 "metadata": {
  "kernelspec": {
   "display_name": "Julia 1.6.4",
   "language": "julia",
   "name": "julia-1.6"
  },
  "language_info": {
   "file_extension": ".jl",
   "mimetype": "application/julia",
   "name": "julia",
   "version": "1.6.4"
  }
 },
 "nbformat": 4,
 "nbformat_minor": 5
}
