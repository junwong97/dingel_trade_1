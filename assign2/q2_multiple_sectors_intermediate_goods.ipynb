{
 "cells": [
  {
   "cell_type": "code",
   "execution_count": null,
   "id": "structural-london",
   "metadata": {},
   "outputs": [],
   "source": [
    "using Plots, Colors, DataFrames, CSV, GLM\n",
    "\n",
    "cd(\"/Users/junwong/Dropbox/Second Year/Dingel - Trade/Assignments\")"
   ]
  }
 ],
 "metadata": {
  "kernelspec": {
   "display_name": "Julia 1.6.4",
   "language": "julia",
   "name": "julia-1.6"
  },
  "language_info": {
   "file_extension": ".jl",
   "mimetype": "application/julia",
   "name": "julia",
   "version": "1.6.4"
  }
 },
 "nbformat": 4,
 "nbformat_minor": 5
}
