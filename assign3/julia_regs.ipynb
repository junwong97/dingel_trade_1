{
 "cells": [
  {
   "cell_type": "code",
   "execution_count": 1,
   "id": "sharp-costume",
   "metadata": {},
   "outputs": [],
   "source": [
    "using CSV, DataFrames, GLM, BenchmarkTools, RegressionTables, FixedEffectModels\n",
    "cd(\"/Users/junwong/Dropbox/Second Year/Dingel - Trade/Assignments\")"
   ]
  },
  {
   "cell_type": "code",
   "execution_count": 2,
   "id": "latter-writing",
   "metadata": {
    "scrolled": true
   },
   "outputs": [],
   "source": [
    "df = DataFrame(CSV.File(\"data/Detroit.csv\"))\n",
    "transform!(df, [:flows, :distance_Google_miles, :duration_minutes] .=> \n",
    "    (x -> log.(x)) .=> \n",
    "    [:flows, :distance_Google_miles, :duration_minutes]);\n",
    "df = df[df.flows .> -Inf, :];"
   ]
  },
  {
   "cell_type": "code",
   "execution_count": 3,
   "id": "demanding-shipping",
   "metadata": {},
   "outputs": [],
   "source": [
    "# time this function\n",
    "run_regressions = function(data) \n",
    "    r1 = @timed reg(data, @formula(flows ~ distance_Google_miles + fe(work_ID) + fe(home_ID)), Vcov.robust());\n",
    "    r2 = @timed reg(data, @formula(flows ~ duration_minutes + fe(work_ID) + fe(home_ID)), Vcov.robust());\n",
    "    return [r1, r2]\n",
    "end \n",
    "\n",
    "# initialize regressions\n",
    "run_regressions(df[1:5000,:]);\n",
    "\n",
    "# actual regressions\n",
    "results = run_regressions(df);"
   ]
  },
  {
   "cell_type": "code",
   "execution_count": 4,
   "id": "robust-commercial",
   "metadata": {},
   "outputs": [],
   "source": [
    "# make regression table \n",
    "dict = Dict(\"flows\"=> \"Log(Flows)\", \"distance_Google_miles\" => \"log(Distance)\", \n",
    "    \"duration_minutes\" => \"Log(Duration)\", \"work_ID\" => \"Destination FE\", \n",
    "    \"home_ID\" => \"Origin FE\", \"__LABEL_CUSTOM_STATISTIC_command__\" => \"Command\", \n",
    "    \"__LABEL_CUSTOM_STATISTIC_timer__\" => \"Run Time\");\n",
    "\n",
    "timer = [results[1][2], results[2][2]]\n",
    "command = [\"texttt{FixedEffectModels}\", \"texttt{FixedEffectModels}\"]\n",
    "customstats = NamedTuple{(:command, :timer)}((command, timer))\n",
    "\n",
    "regtable(results[1][1], results[2][1], \n",
    "    renderSettings = latexOutput(\"output/table_3_julia.tex\"), \n",
    "    labels = dict, print_estimator_section = false, \n",
    "    custom_statistics = customstats)\n"
   ]
  },
  {
   "cell_type": "code",
   "execution_count": null,
   "id": "raised-listening",
   "metadata": {},
   "outputs": [],
   "source": []
  }
 ],
 "metadata": {
  "kernelspec": {
   "display_name": "Julia 1.8.2",
   "language": "julia",
   "name": "julia-1.8"
  },
  "language_info": {
   "file_extension": ".jl",
   "mimetype": "application/julia",
   "name": "julia",
   "version": "1.8.2"
  }
 },
 "nbformat": 4,
 "nbformat_minor": 5
}
